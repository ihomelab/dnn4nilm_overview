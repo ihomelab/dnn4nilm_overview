{
 "cells": [
  {
   "cell_type": "code",
   "execution_count": 1,
   "metadata": {},
   "outputs": [],
   "source": [
    "import re\n",
    "\n",
    "import altair as alt\n",
    "from altair import datum\n",
    "import numpy as np\n",
    "import pandas as pd"
   ]
  },
  {
   "cell_type": "markdown",
   "metadata": {},
   "source": [
    "# Get Data \n",
    "## Extract Citation Numbers from Bibtex file "
   ]
  },
  {
   "cell_type": "code",
   "execution_count": 2,
   "metadata": {},
   "outputs": [],
   "source": [
    "p2bbl_file = r'main.bbl' # path to .bbl-file\n",
    "with open(p2bbl_file, 'r') as fp:\n",
    "    fContent = fp.read()\n",
    "    \n",
    "pattern = r'\\\\bibitem\\[.*?\\]\\{(.+?)\\}' # use raw string format 'r' -> see https://docs.python.org/3/howto/regex.html#the-backslash-plague\n",
    "re.compile(pattern)\n",
    "matchObj_list = re.findall(pattern, fContent, flags=re.DOTALL) # re.DOTALL is important because of newlines within brackets \n",
    "df_cit = pd.DataFrame({'Reference: Abbreviation': matchObj_list, 'Reference: Number': range(1,len(matchObj_list)+1)})\n",
    "df_cit['Reference: Number'] = '[' + df_cit['Reference: Number'].astype(str) + ']'\n",
    "df_cit['Reference: Abbreviation'] = df_cit['Reference: Abbreviation'].astype(str) \n",
    "# df_cit.head()"
   ]
  },
  {
   "cell_type": "markdown",
   "metadata": {},
   "source": [
    "## Read Performance Values"
   ]
  },
  {
   "cell_type": "code",
   "execution_count": 3,
   "metadata": {},
   "outputs": [],
   "source": [
    "path = r'DNN-NILM_low-freq_Performance.xlsx'\n",
    "df = pd.read_excel(path)\n",
    "unnamed_columns = []\n",
    "for column in df.columns:\n",
    "    if column.find('Unnamed:') != -1:\n",
    "        unnamed_columns.append(column)\n",
    "df = df.drop(columns=unnamed_columns)\n",
    "df['Reference: Abbreviation'] = df['Reference: Abbreviation'].astype(str) \n",
    "# df.head()"
   ]
  },
  {
   "cell_type": "code",
   "execution_count": 4,
   "metadata": {},
   "outputs": [],
   "source": [
    "# Sanitize data\n",
    "# replace '?' with -1 values in case of 'Input: Window Size'\n",
    "df.loc[ df['Input: Window Size'] == '?', 'Input: Window Size'] = -1\n",
    "df.loc[ df['Input: Window Size'] == 'nan', 'Input: Window Size' ] = -1\n",
    "df.loc[ df['Input: Window Size'] == 'not appl', 'Input: Window Size' ] = -1\n",
    "df.loc[ df['Input: Window Size'] == np.nan, 'Input: Window Size'] = -1\n",
    "df['Input: Window Size'] = df['Input: Window Size'].astype(float)"
   ]
  },
  {
   "cell_type": "code",
   "execution_count": 5,
   "metadata": {},
   "outputs": [],
   "source": [
    "# df.columns"
   ]
  },
  {
   "cell_type": "code",
   "execution_count": 6,
   "metadata": {},
   "outputs": [],
   "source": [
    "# Join dataframes with citation keys\n",
    "df = df.merge(df_cit, on='Reference: Abbreviation', how='left')\n",
    "df = df.rename(columns={'Reference: Number_y': 'Reference: Number'})"
   ]
  },
  {
   "cell_type": "markdown",
   "metadata": {},
   "source": [
    "## Evaluation on Metrics for noised, unseen\n",
    "(Done directly in Excel):\n",
    "* classificaton\n",
    "    * F1: 12 publications\n",
    "* regression\n",
    "    * MAE: 20 publications\n",
    "    * SAE:  12 publications\n",
    "    * EstAcc: 7 publications"
   ]
  },
  {
   "cell_type": "markdown",
   "metadata": {},
   "source": [
    "# Investigate: MAE for Noised, Uneen Case"
   ]
  },
  {
   "cell_type": "code",
   "execution_count": 7,
   "metadata": {},
   "outputs": [],
   "source": [
    "df_mae = df[df['Performance Metric: Type'] == 'MAE']\n",
    "df_mae = df_mae[df_mae['Training: Type of Data'] == 'noised']\n",
    "df_mae = df_mae[df_mae['Evaluation: Scenario'] == 'unseen']\n",
    "df_mae = df_mae[['Reference: Abbreviation', 'Reference: Number', \n",
    "                 'Appliance', 'Training: Dataset', 'Model: Basic Type', 'Model: Denomination', \n",
    "                 'Input: Window Size', 'Input: Sampling Rate', 'Performance Metric: Value']].copy()"
   ]
  },
  {
   "cell_type": "code",
   "execution_count": 8,
   "metadata": {},
   "outputs": [
    {
     "name": "stdout",
     "output_type": "stream",
     "text": [
      "['kelly2015' 'dincecco2019' 'shin2018' 'zhang2016' 'he2016' 'murray2019'\n",
      " 'morgan2017' 'krystalakos2018' 'brewitt2018' 'jiang2019' 'sirojan2018'\n",
      " 'shin2019a' 'alzeidi2018' 'barber2020' 'mottahedi2016' 'yue2020'\n",
      " 'chen2020e' 'massidda2020' 'pan2020' 'rafiq2020' 'kukunuri2020']\n",
      "21\n"
     ]
    }
   ],
   "source": [
    "print(df_mae['Reference: Abbreviation'].unique())\n",
    "print(len(df_mae['Reference: Abbreviation'].unique()))"
   ]
  },
  {
   "cell_type": "code",
   "execution_count": 9,
   "metadata": {},
   "outputs": [],
   "source": [
    "# Remove Baseline Model \n",
    "df_mae = df_mae[ ~(df_mae['Model: Denomination'] == 'BL =0') ]\n",
    "# Note to self: Ke15, Zh2016 are baseline/reference models -> remove these Models from other authors\n",
    "df_mae = df_mae[ ~(df_mae['Model: Denomination'].str.contains('Ke15') | df_mae['Model: Denomination'].str.contains('Zh2016') | df_mae['Model: Denomination'].str.contains('He2016')) ] "
   ]
  },
  {
   "cell_type": "code",
   "execution_count": 10,
   "metadata": {},
   "outputs": [
    {
     "name": "stdout",
     "output_type": "stream",
     "text": [
      "['classification' 'Reduced+Dropout LMP' 'CNN fully' 'SCAnet' 'CNN s2p'\n",
      " 'CNN Incpt-LSTM' 'CNN WaveNet' 'dAE' 'LSTM-bi' 'GRU-bi'\n",
      " 'STL Normally Pruning (60%)' 'STL Rank 8 Tensor D.'\n",
      " 'STL Normally Pruning (90%)' 'TP-NILM' 'CNN dAE-skip' 'GASF+CNN'\n",
      " 'RNN-GRU' 'CNN' 'Unet-cGAN' 'MFS-LSTM' 'CNN SGN' 'CNN SGN-sp'\n",
      " 'CNN HardSGN-sp' 'CNN HardSGN' 'SGN' 'CNN VAE' 'BERT' 'CNN s2s']\n",
      "['dishwasher' 'fridge' 'kettle' 'microwave' 'washing machine' 'cooker'\n",
      " 'shower' 'stove/oven' '(rice) cooker']\n",
      "['UK-DALE' 'REFIT' 'IDEAL' 'REDD' 'proprietary: fridge only' 'DataPort'\n",
      " 'Enertalk']\n"
     ]
    }
   ],
   "source": [
    "# Group Results\n",
    "grouped = df_mae.groupby(['Reference: Abbreviation', 'Appliance', 'Training: Dataset'])\n",
    "list_of_mins = []\n",
    "for group in grouped:\n",
    "    group = group[1]\n",
    "    min_row = group[ group['Performance Metric: Value'] == group['Performance Metric: Value'].min()]\n",
    "    list_of_mins.append(min_row)\n",
    "df_mae = pd.concat(list_of_mins)\n",
    "print(df_mae['Model: Denomination'].unique())\n",
    "print(df_mae['Appliance'].unique())\n",
    "print(df_mae['Training: Dataset'].unique())"
   ]
  },
  {
   "cell_type": "code",
   "execution_count": 11,
   "metadata": {},
   "outputs": [],
   "source": [
    "# Create column with concatenated Publication Name and Model Denomination\n",
    "# df_mae['Referece_and_Model'] = df_mae['Reference: Abbreviation'].apply( lambda x: x[0:2]+x[-2:]+'_') + df_mae['Model: Denomination'].apply(lambda x: x.replace(' ', '-'))\n",
    "# Create column containing year of publication\n",
    "df_mae['Year'] = df_mae['Reference: Abbreviation'].apply( lambda x: x[-4:])\n",
    "# df_mae['Referece_and_Model']\n",
    "# Create column that combines 'Reference' and 'Number' to check that numbers are correct\n",
    "df_mae['No-Ref'] = df_mae['Reference: Abbreviation'] + '_' + df_mae['Reference: Number']"
   ]
  },
  {
   "cell_type": "code",
   "execution_count": 12,
   "metadata": {},
   "outputs": [
    {
     "name": "stdout",
     "output_type": "stream",
     "text": [
      "UK-DALE :  60\n",
      "REFIT :  20\n",
      "IDEAL :  6\n",
      "REDD :  21\n",
      "proprietary: fridge only :  1\n",
      "DataPort :  2\n",
      "Enertalk :  2\n"
     ]
    }
   ],
   "source": [
    "datasets = df_mae['Training: Dataset'].unique()\n",
    "for dataset in datasets:\n",
    "    print(dataset, ': ', np.sum(df_mae['Training: Dataset']==dataset))"
   ]
  },
  {
   "cell_type": "code",
   "execution_count": 13,
   "metadata": {},
   "outputs": [
    {
     "name": "stdout",
     "output_type": "stream",
     "text": [
      "dishwasher :  24\n",
      "fridge :  24\n",
      "kettle :  16\n",
      "microwave :  22\n",
      "washing machine :  22\n",
      "cooker :  1\n",
      "shower :  1\n",
      "stove/oven :  1\n",
      "(rice) cooker :  1\n"
     ]
    }
   ],
   "source": [
    "appliances = df_mae['Appliance'].unique()\n",
    "for app in appliances:\n",
    "    print(app, ': ', np.sum(df_mae['Appliance'] == app))"
   ]
  },
  {
   "cell_type": "markdown",
   "metadata": {},
   "source": [
    "### Remove special Cases "
   ]
  },
  {
   "cell_type": "code",
   "execution_count": 14,
   "metadata": {},
   "outputs": [],
   "source": [
    "# remove appliances with low number of results\n",
    "# df_mae = df_mae[~(df_mae['Appliance'] == 'tumble dryer')]\n",
    "# df_mae = df_mae[~((df_mae['Appliance'] == 'lighting'))]\n",
    "df_mae = df_mae[~((df_mae['Appliance'] == 'cooker'))]\n",
    "df_mae = df_mae[~((df_mae['Appliance'] == 'shower'))]\n",
    "df_mae = df_mae[~((df_mae['Appliance'] == 'stove/oven'))]\n",
    "df_mae = df_mae[~((df_mae['Appliance'] == '(rice) cooker'))]\n",
    "\n",
    "# # remove Morgan2017 -> works on proprietary dataset & only fridge & best MAE ~64  \n",
    "df_mae = df_mae[~(df_mae['Reference: Abbreviation'] == 'morgan2017') ]"
   ]
  },
  {
   "cell_type": "code",
   "execution_count": 15,
   "metadata": {},
   "outputs": [
    {
     "name": "stdout",
     "output_type": "stream",
     "text": [
      "UK-DALE :  60\n",
      "REFIT :  20\n",
      "IDEAL :  4\n",
      "REDD :  21\n",
      "DataPort :  1\n",
      "Enertalk :  1\n"
     ]
    }
   ],
   "source": [
    "datasets = df_mae['Training: Dataset'].unique()\n",
    "for dataset in datasets:\n",
    "    print(dataset, ': ', np.sum(df_mae['Training: Dataset']==dataset))"
   ]
  },
  {
   "cell_type": "code",
   "execution_count": null,
   "metadata": {},
   "outputs": [],
   "source": []
  },
  {
   "cell_type": "code",
   "execution_count": 16,
   "metadata": {},
   "outputs": [
    {
     "name": "stdout",
     "output_type": "stream",
     "text": [
      "5.35\n"
     ]
    }
   ],
   "source": [
    "# Average number of results per appliance\n",
    "appliances = df_mae['Appliance'].unique()\n",
    "n_apps = 0\n",
    "for app in appliances:\n",
    "    n_apps = n_apps + np.sum(df_mae['Appliance'] == app)\n",
    "print(n_apps/len(appliances)/4)"
   ]
  },
  {
   "cell_type": "code",
   "execution_count": 17,
   "metadata": {},
   "outputs": [
    {
     "data": {
      "text/html": [
       "<div>\n",
       "<style scoped>\n",
       "    .dataframe tbody tr th:only-of-type {\n",
       "        vertical-align: middle;\n",
       "    }\n",
       "\n",
       "    .dataframe tbody tr th {\n",
       "        vertical-align: top;\n",
       "    }\n",
       "\n",
       "    .dataframe thead th {\n",
       "        text-align: right;\n",
       "    }\n",
       "</style>\n",
       "<table border=\"1\" class=\"dataframe\">\n",
       "  <thead>\n",
       "    <tr style=\"text-align: right;\">\n",
       "      <th></th>\n",
       "      <th>Reference: Abbreviation</th>\n",
       "      <th>Reference: Number</th>\n",
       "      <th>Appliance</th>\n",
       "      <th>Training: Dataset</th>\n",
       "      <th>Model: Basic Type</th>\n",
       "      <th>Model: Denomination</th>\n",
       "      <th>Input: Window Size</th>\n",
       "      <th>Input: Sampling Rate</th>\n",
       "      <th>Performance Metric: Value</th>\n",
       "      <th>Year</th>\n",
       "      <th>No-Ref</th>\n",
       "    </tr>\n",
       "  </thead>\n",
       "  <tbody>\n",
       "  </tbody>\n",
       "</table>\n",
       "</div>"
      ],
      "text/plain": [
       "Empty DataFrame\n",
       "Columns: [Reference: Abbreviation, Reference: Number, Appliance, Training: Dataset, Model: Basic Type, Model: Denomination, Input: Window Size, Input: Sampling Rate, Performance Metric: Value, Year, No-Ref]\n",
       "Index: []"
      ]
     },
     "execution_count": 17,
     "metadata": {},
     "output_type": "execute_result"
    }
   ],
   "source": [
    "df_mae.loc[df_mae['Training: Dataset'] == 'proprietary: fridge only']"
   ]
  },
  {
   "cell_type": "code",
   "execution_count": 18,
   "metadata": {},
   "outputs": [
    {
     "data": {
      "text/plain": [
       "array([], dtype=object)"
      ]
     },
     "execution_count": 18,
     "metadata": {},
     "output_type": "execute_result"
    }
   ],
   "source": [
    "# find 'na' Reference: Numbers\n",
    "# df['Reference: Number'].isna()\n",
    "df['Reference: Abbreviation'][df['Reference: Number'].isna()].unique()"
   ]
  },
  {
   "cell_type": "markdown",
   "metadata": {},
   "source": [
    "## Variant Overview "
   ]
  },
  {
   "cell_type": "code",
   "execution_count": 19,
   "metadata": {},
   "outputs": [
    {
     "data": {
      "text/html": [
       "\n",
       "<div id=\"altair-viz-8c642e449a9e49bf82b74a3eca2a8659\"></div>\n",
       "<script type=\"text/javascript\">\n",
       "  (function(spec, embedOpt){\n",
       "    let outputDiv = document.currentScript.previousElementSibling;\n",
       "    if (outputDiv.id !== \"altair-viz-8c642e449a9e49bf82b74a3eca2a8659\") {\n",
       "      outputDiv = document.getElementById(\"altair-viz-8c642e449a9e49bf82b74a3eca2a8659\");\n",
       "    }\n",
       "    const paths = {\n",
       "      \"vega\": \"https://cdn.jsdelivr.net/npm//vega@5?noext\",\n",
       "      \"vega-lib\": \"https://cdn.jsdelivr.net/npm//vega-lib?noext\",\n",
       "      \"vega-lite\": \"https://cdn.jsdelivr.net/npm//vega-lite@4.8.1?noext\",\n",
       "      \"vega-embed\": \"https://cdn.jsdelivr.net/npm//vega-embed@6?noext\",\n",
       "    };\n",
       "\n",
       "    function loadScript(lib) {\n",
       "      return new Promise(function(resolve, reject) {\n",
       "        var s = document.createElement('script');\n",
       "        s.src = paths[lib];\n",
       "        s.async = true;\n",
       "        s.onload = () => resolve(paths[lib]);\n",
       "        s.onerror = () => reject(`Error loading script: ${paths[lib]}`);\n",
       "        document.getElementsByTagName(\"head\")[0].appendChild(s);\n",
       "      });\n",
       "    }\n",
       "\n",
       "    function showError(err) {\n",
       "      outputDiv.innerHTML = `<div class=\"error\" style=\"color:red;\">${err}</div>`;\n",
       "      throw err;\n",
       "    }\n",
       "\n",
       "    function displayChart(vegaEmbed) {\n",
       "      vegaEmbed(outputDiv, spec, embedOpt)\n",
       "        .catch(err => showError(`Javascript Error: ${err.message}<br>This usually means there's a typo in your chart specification. See the javascript console for the full traceback.`));\n",
       "    }\n",
       "\n",
       "    if(typeof define === \"function\" && define.amd) {\n",
       "      requirejs.config({paths});\n",
       "      require([\"vega-embed\"], displayChart, err => showError(`Error loading script: ${err.message}`));\n",
       "    } else if (typeof vegaEmbed === \"function\") {\n",
       "      displayChart(vegaEmbed);\n",
       "    } else {\n",
       "      loadScript(\"vega\")\n",
       "        .then(() => loadScript(\"vega-lite\"))\n",
       "        .then(() => loadScript(\"vega-embed\"))\n",
       "        .catch(showError)\n",
       "        .then(() => displayChart(vegaEmbed));\n",
       "    }\n",
       "  })({\"config\": {\"view\": {\"continuousWidth\": 400, \"continuousHeight\": 300}, \"facet\": {\"spacing\": 7}, \"header\": {\"labelFontSize\": 14, \"titleFontSize\": 14}}, \"data\": {\"name\": \"data-2245cfebe5c2fad1d70a997f3e81603b\"}, \"facet\": {\"column\": {\"type\": \"nominal\", \"field\": \"Appliance\", \"title\": null}}, \"spec\": {\"layer\": [{\"mark\": {\"type\": \"point\", \"clip\": true, \"filled\": true, \"size\": 90}, \"encoding\": {\"color\": {\"type\": \"nominal\", \"field\": \"No-Ref\", \"legend\": {\"title\": \"Publication\"}, \"scale\": {\"scheme\": \"category20\"}}, \"x\": {\"type\": \"nominal\", \"field\": \"Training: Dataset\", \"title\": \"Dataset\"}, \"y\": {\"type\": \"quantitative\", \"field\": \"Performance Metric: Value\", \"scale\": {\"domain\": [0, 40]}, \"title\": \"MAE [W]\"}}}], \"width\": 90}, \"$schema\": \"https://vega.github.io/schema/vega-lite/v4.8.1.json\", \"datasets\": {\"data-2245cfebe5c2fad1d70a997f3e81603b\": [{\"Reference: Abbreviation\": \"alzeidi2018\", \"Reference: Number\": \"[118]\", \"Appliance\": \"dishwasher\", \"Training: Dataset\": \"UK-DALE\", \"Model: Basic Type\": \"feedforward\", \"Model: Denomination\": \"classification\", \"Input: Window Size\": 600.0, \"Input: Sampling Rate\": 6, \"Performance Metric: Value\": 13.959, \"Year\": \"2018\", \"No-Ref\": \"alzeidi2018_[118]\"}, {\"Reference: Abbreviation\": \"alzeidi2018\", \"Reference: Number\": \"[118]\", \"Appliance\": \"fridge\", \"Training: Dataset\": \"UK-DALE\", \"Model: Basic Type\": \"feedforward\", \"Model: Denomination\": \"classification\", \"Input: Window Size\": 600.0, \"Input: Sampling Rate\": 6, \"Performance Metric: Value\": 20.222, \"Year\": \"2018\", \"No-Ref\": \"alzeidi2018_[118]\"}, {\"Reference: Abbreviation\": \"alzeidi2018\", \"Reference: Number\": \"[118]\", \"Appliance\": \"kettle\", \"Training: Dataset\": \"UK-DALE\", \"Model: Basic Type\": \"feedforward\", \"Model: Denomination\": \"classification\", \"Input: Window Size\": 600.0, \"Input: Sampling Rate\": 6, \"Performance Metric: Value\": 6.139, \"Year\": \"2018\", \"No-Ref\": \"alzeidi2018_[118]\"}, {\"Reference: Abbreviation\": \"alzeidi2018\", \"Reference: Number\": \"[118]\", \"Appliance\": \"microwave\", \"Training: Dataset\": \"UK-DALE\", \"Model: Basic Type\": \"feedforward\", \"Model: Denomination\": \"classification\", \"Input: Window Size\": 600.0, \"Input: Sampling Rate\": 6, \"Performance Metric: Value\": 5.015, \"Year\": \"2018\", \"No-Ref\": \"alzeidi2018_[118]\"}, {\"Reference: Abbreviation\": \"alzeidi2018\", \"Reference: Number\": \"[118]\", \"Appliance\": \"washing machine\", \"Training: Dataset\": \"UK-DALE\", \"Model: Basic Type\": \"feedforward\", \"Model: Denomination\": \"classification\", \"Input: Window Size\": 600.0, \"Input: Sampling Rate\": 6, \"Performance Metric: Value\": 7.615, \"Year\": \"2018\", \"No-Ref\": \"alzeidi2018_[118]\"}, {\"Reference: Abbreviation\": \"barber2020\", \"Reference: Number\": \"[126]\", \"Appliance\": \"dishwasher\", \"Training: Dataset\": \"REFIT\", \"Model: Basic Type\": \"feedforward\", \"Model: Denomination\": \"Reduced+Dropout LMP\", \"Input: Window Size\": 4792.0, \"Input: Sampling Rate\": 8, \"Performance Metric: Value\": 40.0, \"Year\": \"2020\", \"No-Ref\": \"barber2020_[126]\"}, {\"Reference: Abbreviation\": \"barber2020\", \"Reference: Number\": \"[126]\", \"Appliance\": \"kettle\", \"Training: Dataset\": \"REFIT\", \"Model: Basic Type\": \"feedforward\", \"Model: Denomination\": \"Reduced+Dropout LMP\", \"Input: Window Size\": 4792.0, \"Input: Sampling Rate\": 8, \"Performance Metric: Value\": 65.0, \"Year\": \"2020\", \"No-Ref\": \"barber2020_[126]\"}, {\"Reference: Abbreviation\": \"brewitt2018\", \"Reference: Number\": \"[39]\", \"Appliance\": \"dishwasher\", \"Training: Dataset\": \"IDEAL\", \"Model: Basic Type\": \"feedforward\", \"Model: Denomination\": \"CNN fully\", \"Input: Window Size\": 32840.0, \"Input: Sampling Rate\": 8, \"Performance Metric: Value\": 8.9, \"Year\": \"2018\", \"No-Ref\": \"brewitt2018_[39]\"}, {\"Reference: Abbreviation\": \"brewitt2018\", \"Reference: Number\": \"[39]\", \"Appliance\": \"kettle\", \"Training: Dataset\": \"IDEAL\", \"Model: Basic Type\": \"feedforward\", \"Model: Denomination\": \"CNN fully\", \"Input: Window Size\": 32840.0, \"Input: Sampling Rate\": 8, \"Performance Metric: Value\": 10.4, \"Year\": \"2018\", \"No-Ref\": \"brewitt2018_[39]\"}, {\"Reference: Abbreviation\": \"brewitt2018\", \"Reference: Number\": \"[39]\", \"Appliance\": \"microwave\", \"Training: Dataset\": \"IDEAL\", \"Model: Basic Type\": \"feedforward\", \"Model: Denomination\": \"CNN fully\", \"Input: Window Size\": 32840.0, \"Input: Sampling Rate\": 8, \"Performance Metric: Value\": 4.4, \"Year\": \"2018\", \"No-Ref\": \"brewitt2018_[39]\"}, {\"Reference: Abbreviation\": \"brewitt2018\", \"Reference: Number\": \"[39]\", \"Appliance\": \"washing machine\", \"Training: Dataset\": \"IDEAL\", \"Model: Basic Type\": \"feedforward\", \"Model: Denomination\": \"CNN fully\", \"Input: Window Size\": 32840.0, \"Input: Sampling Rate\": 8, \"Performance Metric: Value\": 20.8, \"Year\": \"2018\", \"No-Ref\": \"brewitt2018_[39]\"}, {\"Reference: Abbreviation\": \"chen2020e\", \"Reference: Number\": \"[71]\", \"Appliance\": \"dishwasher\", \"Training: Dataset\": \"REDD\", \"Model: Basic Type\": \"feedforward\", \"Model: Denomination\": \"SCAnet\", \"Input: Window Size\": 2592.0, \"Input: Sampling Rate\": 3, \"Performance Metric: Value\": 10.14, \"Year\": \"020e\", \"No-Ref\": \"chen2020e_[71]\"}, {\"Reference: Abbreviation\": \"chen2020e\", \"Reference: Number\": \"[71]\", \"Appliance\": \"dishwasher\", \"Training: Dataset\": \"UK-DALE\", \"Model: Basic Type\": \"feedforward\", \"Model: Denomination\": \"SCAnet\", \"Input: Window Size\": 2592.0, \"Input: Sampling Rate\": 6, \"Performance Metric: Value\": 8.71, \"Year\": \"020e\", \"No-Ref\": \"chen2020e_[71]\"}, {\"Reference: Abbreviation\": \"chen2020e\", \"Reference: Number\": \"[71]\", \"Appliance\": \"fridge\", \"Training: Dataset\": \"REDD\", \"Model: Basic Type\": \"feedforward\", \"Model: Denomination\": \"SCAnet\", \"Input: Window Size\": 2592.0, \"Input: Sampling Rate\": 3, \"Performance Metric: Value\": 21.77, \"Year\": \"020e\", \"No-Ref\": \"chen2020e_[71]\"}, {\"Reference: Abbreviation\": \"chen2020e\", \"Reference: Number\": \"[71]\", \"Appliance\": \"fridge\", \"Training: Dataset\": \"UK-DALE\", \"Model: Basic Type\": \"feedforward\", \"Model: Denomination\": \"SCAnet\", \"Input: Window Size\": 2592.0, \"Input: Sampling Rate\": 6, \"Performance Metric: Value\": 15.16, \"Year\": \"020e\", \"No-Ref\": \"chen2020e_[71]\"}, {\"Reference: Abbreviation\": \"chen2020e\", \"Reference: Number\": \"[71]\", \"Appliance\": \"kettle\", \"Training: Dataset\": \"UK-DALE\", \"Model: Basic Type\": \"feedforward\", \"Model: Denomination\": \"SCAnet\", \"Input: Window Size\": 2592.0, \"Input: Sampling Rate\": 6, \"Performance Metric: Value\": 6.14, \"Year\": \"020e\", \"No-Ref\": \"chen2020e_[71]\"}, {\"Reference: Abbreviation\": \"chen2020e\", \"Reference: Number\": \"[71]\", \"Appliance\": \"microwave\", \"Training: Dataset\": \"REDD\", \"Model: Basic Type\": \"feedforward\", \"Model: Denomination\": \"SCAnet\", \"Input: Window Size\": 2592.0, \"Input: Sampling Rate\": 3, \"Performance Metric: Value\": 13.75, \"Year\": \"020e\", \"No-Ref\": \"chen2020e_[71]\"}, {\"Reference: Abbreviation\": \"chen2020e\", \"Reference: Number\": \"[71]\", \"Appliance\": \"microwave\", \"Training: Dataset\": \"UK-DALE\", \"Model: Basic Type\": \"feedforward\", \"Model: Denomination\": \"SCAnet\", \"Input: Window Size\": 2592.0, \"Input: Sampling Rate\": 6, \"Performance Metric: Value\": 4.82, \"Year\": \"020e\", \"No-Ref\": \"chen2020e_[71]\"}, {\"Reference: Abbreviation\": \"chen2020e\", \"Reference: Number\": \"[71]\", \"Appliance\": \"washing machine\", \"Training: Dataset\": \"UK-DALE\", \"Model: Basic Type\": \"feedforward\", \"Model: Denomination\": \"SCAnet\", \"Input: Window Size\": 2592.0, \"Input: Sampling Rate\": 6, \"Performance Metric: Value\": 8.48, \"Year\": \"020e\", \"No-Ref\": \"chen2020e_[71]\"}, {\"Reference: Abbreviation\": \"dincecco2019\", \"Reference: Number\": \"[54]\", \"Appliance\": \"dishwasher\", \"Training: Dataset\": \"REFIT\", \"Model: Basic Type\": \"feedforward\", \"Model: Denomination\": \"CNN s2p\", \"Input: Window Size\": 4792.0, \"Input: Sampling Rate\": 8, \"Performance Metric: Value\": 12.26, \"Year\": \"2019\", \"No-Ref\": \"dincecco2019_[54]\"}, {\"Reference: Abbreviation\": \"dincecco2019\", \"Reference: Number\": \"[54]\", \"Appliance\": \"fridge\", \"Training: Dataset\": \"REFIT\", \"Model: Basic Type\": \"feedforward\", \"Model: Denomination\": \"CNN s2p\", \"Input: Window Size\": 4792.0, \"Input: Sampling Rate\": 8, \"Performance Metric: Value\": 20.02, \"Year\": \"2019\", \"No-Ref\": \"dincecco2019_[54]\"}, {\"Reference: Abbreviation\": \"dincecco2019\", \"Reference: Number\": \"[54]\", \"Appliance\": \"kettle\", \"Training: Dataset\": \"REFIT\", \"Model: Basic Type\": \"feedforward\", \"Model: Denomination\": \"CNN s2p\", \"Input: Window Size\": 4792.0, \"Input: Sampling Rate\": 8, \"Performance Metric: Value\": 6.83, \"Year\": \"2019\", \"No-Ref\": \"dincecco2019_[54]\"}, {\"Reference: Abbreviation\": \"dincecco2019\", \"Reference: Number\": \"[54]\", \"Appliance\": \"microwave\", \"Training: Dataset\": \"REFIT\", \"Model: Basic Type\": \"feedforward\", \"Model: Denomination\": \"CNN s2p\", \"Input: Window Size\": 4792.0, \"Input: Sampling Rate\": 8, \"Performance Metric: Value\": 12.6, \"Year\": \"2019\", \"No-Ref\": \"dincecco2019_[54]\"}, {\"Reference: Abbreviation\": \"dincecco2019\", \"Reference: Number\": \"[54]\", \"Appliance\": \"washing machine\", \"Training: Dataset\": \"REFIT\", \"Model: Basic Type\": \"feedforward\", \"Model: Denomination\": \"CNN s2p\", \"Input: Window Size\": 4792.0, \"Input: Sampling Rate\": 8, \"Performance Metric: Value\": 16.85, \"Year\": \"2019\", \"No-Ref\": \"dincecco2019_[54]\"}, {\"Reference: Abbreviation\": \"he2016\", \"Reference: Number\": \"[156]\", \"Appliance\": \"dishwasher\", \"Training: Dataset\": \"UK-DALE\", \"Model: Basic Type\": \"feedforward\", \"Model: Denomination\": \"CNN Incpt-LSTM\", \"Input: Window Size\": 6450.0, \"Input: Sampling Rate\": 6, \"Performance Metric: Value\": 29.62, \"Year\": \"2016\", \"No-Ref\": \"he2016_[156]\"}, {\"Reference: Abbreviation\": \"he2016\", \"Reference: Number\": \"[156]\", \"Appliance\": \"fridge\", \"Training: Dataset\": \"UK-DALE\", \"Model: Basic Type\": \"feedforward\", \"Model: Denomination\": \"CNN Incpt-LSTM\", \"Input: Window Size\": 2790.0, \"Input: Sampling Rate\": 6, \"Performance Metric: Value\": 3.22, \"Year\": \"2016\", \"No-Ref\": \"he2016_[156]\"}, {\"Reference: Abbreviation\": \"he2016\", \"Reference: Number\": \"[156]\", \"Appliance\": \"kettle\", \"Training: Dataset\": \"UK-DALE\", \"Model: Basic Type\": \"feedforward\", \"Model: Denomination\": \"CNN Incpt-LSTM\", \"Input: Window Size\": 240.0, \"Input: Sampling Rate\": 6, \"Performance Metric: Value\": 10.21, \"Year\": \"2016\", \"No-Ref\": \"he2016_[156]\"}, {\"Reference: Abbreviation\": \"he2016\", \"Reference: Number\": \"[156]\", \"Appliance\": \"microwave\", \"Training: Dataset\": \"UK-DALE\", \"Model: Basic Type\": \"feedforward\", \"Model: Denomination\": \"CNN Incpt-LSTM\", \"Input: Window Size\": 432.0, \"Input: Sampling Rate\": 6, \"Performance Metric: Value\": 9.42, \"Year\": \"2016\", \"No-Ref\": \"he2016_[156]\"}, {\"Reference: Abbreviation\": \"he2016\", \"Reference: Number\": \"[156]\", \"Appliance\": \"washing machine\", \"Training: Dataset\": \"UK-DALE\", \"Model: Basic Type\": \"feedforward\", \"Model: Denomination\": \"CNN Incpt-LSTM\", \"Input: Window Size\": 7476.0, \"Input: Sampling Rate\": 6, \"Performance Metric: Value\": 73.16, \"Year\": \"2016\", \"No-Ref\": \"he2016_[156]\"}, {\"Reference: Abbreviation\": \"jiang2019\", \"Reference: Number\": \"[83]\", \"Appliance\": \"dishwasher\", \"Training: Dataset\": \"REFIT\", \"Model: Basic Type\": \"feedforward\", \"Model: Denomination\": \"CNN WaveNet\", \"Input: Window Size\": 10230.0, \"Input: Sampling Rate\": 10, \"Performance Metric: Value\": 10.296, \"Year\": \"2019\", \"No-Ref\": \"jiang2019_[83]\"}, {\"Reference: Abbreviation\": \"jiang2019\", \"Reference: Number\": \"[83]\", \"Appliance\": \"kettle\", \"Training: Dataset\": \"REFIT\", \"Model: Basic Type\": \"feedforward\", \"Model: Denomination\": \"CNN WaveNet\", \"Input: Window Size\": 2550.0, \"Input: Sampling Rate\": 10, \"Performance Metric: Value\": 4.726, \"Year\": \"2019\", \"No-Ref\": \"jiang2019_[83]\"}, {\"Reference: Abbreviation\": \"jiang2019\", \"Reference: Number\": \"[83]\", \"Appliance\": \"microwave\", \"Training: Dataset\": \"REFIT\", \"Model: Basic Type\": \"feedforward\", \"Model: Denomination\": \"CNN WaveNet\", \"Input: Window Size\": 2550.0, \"Input: Sampling Rate\": 10, \"Performance Metric: Value\": 3.686, \"Year\": \"2019\", \"No-Ref\": \"jiang2019_[83]\"}, {\"Reference: Abbreviation\": \"jiang2019\", \"Reference: Number\": \"[83]\", \"Appliance\": \"washing machine\", \"Training: Dataset\": \"REFIT\", \"Model: Basic Type\": \"feedforward\", \"Model: Denomination\": \"CNN WaveNet\", \"Input: Window Size\": 20470.0, \"Input: Sampling Rate\": 10, \"Performance Metric: Value\": 3.08, \"Year\": \"2019\", \"No-Ref\": \"jiang2019_[83]\"}, {\"Reference: Abbreviation\": \"kelly2015\", \"Reference: Number\": \"[13]\", \"Appliance\": \"dishwasher\", \"Training: Dataset\": \"UK-DALE\", \"Model: Basic Type\": \"feedforward\", \"Model: Denomination\": \"dAE\", \"Input: Window Size\": 9216.0, \"Input: Sampling Rate\": 6, \"Performance Metric: Value\": 24.0, \"Year\": \"2015\", \"No-Ref\": \"kelly2015_[13]\"}, {\"Reference: Abbreviation\": \"kelly2015\", \"Reference: Number\": \"[13]\", \"Appliance\": \"fridge\", \"Training: Dataset\": \"UK-DALE\", \"Model: Basic Type\": \"recurrent\", \"Model: Denomination\": \"LSTM-bi\", \"Input: Window Size\": 3072.0, \"Input: Sampling Rate\": 6, \"Performance Metric: Value\": 18.0, \"Year\": \"2015\", \"No-Ref\": \"kelly2015_[13]\"}, {\"Reference: Abbreviation\": \"kelly2015\", \"Reference: Number\": \"[13]\", \"Appliance\": \"kettle\", \"Training: Dataset\": \"UK-DALE\", \"Model: Basic Type\": \"feedforward\", \"Model: Denomination\": \"dAE\", \"Input: Window Size\": 768.0, \"Input: Sampling Rate\": 6, \"Performance Metric: Value\": 6.0, \"Year\": \"2015\", \"No-Ref\": \"kelly2015_[13]\"}, {\"Reference: Abbreviation\": \"kelly2015\", \"Reference: Number\": \"[13]\", \"Appliance\": \"microwave\", \"Training: Dataset\": \"UK-DALE\", \"Model: Basic Type\": \"recurrent\", \"Model: Denomination\": \"LSTM-bi\", \"Input: Window Size\": 1728.0, \"Input: Sampling Rate\": 6, \"Performance Metric: Value\": 6.0, \"Year\": \"2015\", \"No-Ref\": \"kelly2015_[13]\"}, {\"Reference: Abbreviation\": \"kelly2015\", \"Reference: Number\": \"[13]\", \"Appliance\": \"washing machine\", \"Training: Dataset\": \"UK-DALE\", \"Model: Basic Type\": \"recurrent\", \"Model: Denomination\": \"LSTM-bi\", \"Input: Window Size\": 6144.0, \"Input: Sampling Rate\": 6, \"Performance Metric: Value\": 11.0, \"Year\": \"2015\", \"No-Ref\": \"kelly2015_[13]\"}, {\"Reference: Abbreviation\": \"krystalakos2018\", \"Reference: Number\": \"[153]\", \"Appliance\": \"dishwasher\", \"Training: Dataset\": \"UK-DALE\", \"Model: Basic Type\": \"feedforward\", \"Model: Denomination\": \"CNN s2p\", \"Input: Window Size\": 300.0, \"Input: Sampling Rate\": 6, \"Performance Metric: Value\": 21.0, \"Year\": \"2018\", \"No-Ref\": \"krystalakos2018_[153]\"}, {\"Reference: Abbreviation\": \"krystalakos2018\", \"Reference: Number\": \"[153]\", \"Appliance\": \"fridge\", \"Training: Dataset\": \"UK-DALE\", \"Model: Basic Type\": \"recurrent\", \"Model: Denomination\": \"LSTM-bi\", \"Input: Window Size\": 300.0, \"Input: Sampling Rate\": 6, \"Performance Metric: Value\": 51.0, \"Year\": \"2018\", \"No-Ref\": \"krystalakos2018_[153]\"}, {\"Reference: Abbreviation\": \"krystalakos2018\", \"Reference: Number\": \"[153]\", \"Appliance\": \"fridge\", \"Training: Dataset\": \"UK-DALE\", \"Model: Basic Type\": \"recurrent\", \"Model: Denomination\": \"GRU-bi\", \"Input: Window Size\": 300.0, \"Input: Sampling Rate\": 6, \"Performance Metric: Value\": 51.0, \"Year\": \"2018\", \"No-Ref\": \"krystalakos2018_[153]\"}, {\"Reference: Abbreviation\": \"krystalakos2018\", \"Reference: Number\": \"[153]\", \"Appliance\": \"fridge\", \"Training: Dataset\": \"UK-DALE\", \"Model: Basic Type\": \"feedforward\", \"Model: Denomination\": \"CNN s2p\", \"Input: Window Size\": 300.0, \"Input: Sampling Rate\": 6, \"Performance Metric: Value\": 51.0, \"Year\": \"2018\", \"No-Ref\": \"krystalakos2018_[153]\"}, {\"Reference: Abbreviation\": \"krystalakos2018\", \"Reference: Number\": \"[153]\", \"Appliance\": \"kettle\", \"Training: Dataset\": \"UK-DALE\", \"Model: Basic Type\": \"feedforward\", \"Model: Denomination\": \"CNN s2p\", \"Input: Window Size\": 300.0, \"Input: Sampling Rate\": 6, \"Performance Metric: Value\": 4.0, \"Year\": \"2018\", \"No-Ref\": \"krystalakos2018_[153]\"}, {\"Reference: Abbreviation\": \"krystalakos2018\", \"Reference: Number\": \"[153]\", \"Appliance\": \"microwave\", \"Training: Dataset\": \"UK-DALE\", \"Model: Basic Type\": \"recurrent\", \"Model: Denomination\": \"LSTM-bi\", \"Input: Window Size\": 300.0, \"Input: Sampling Rate\": 6, \"Performance Metric: Value\": 86.0, \"Year\": \"2018\", \"No-Ref\": \"krystalakos2018_[153]\"}, {\"Reference: Abbreviation\": \"krystalakos2018\", \"Reference: Number\": \"[153]\", \"Appliance\": \"washing machine\", \"Training: Dataset\": \"UK-DALE\", \"Model: Basic Type\": \"feedforward\", \"Model: Denomination\": \"CNN s2p\", \"Input: Window Size\": 600.0, \"Input: Sampling Rate\": 6, \"Performance Metric: Value\": 17.0, \"Year\": \"2018\", \"No-Ref\": \"krystalakos2018_[153]\"}, {\"Reference: Abbreviation\": \"kukunuri2020\", \"Reference: Number\": \"[127]\", \"Appliance\": \"dishwasher\", \"Training: Dataset\": \"REDD\", \"Model: Basic Type\": \"feedforward\", \"Model: Denomination\": \"STL Normally Pruning (60%)\", \"Input: Window Size\": 5940.0, \"Input: Sampling Rate\": 60, \"Performance Metric: Value\": 12.58, \"Year\": \"2020\", \"No-Ref\": \"kukunuri2020_[127]\"}, {\"Reference: Abbreviation\": \"kukunuri2020\", \"Reference: Number\": \"[127]\", \"Appliance\": \"fridge\", \"Training: Dataset\": \"REDD\", \"Model: Basic Type\": \"feedforward\", \"Model: Denomination\": \"STL Rank 8 Tensor D.\", \"Input: Window Size\": 5940.0, \"Input: Sampling Rate\": 60, \"Performance Metric: Value\": 38.54, \"Year\": \"2020\", \"No-Ref\": \"kukunuri2020_[127]\"}, {\"Reference: Abbreviation\": \"kukunuri2020\", \"Reference: Number\": \"[127]\", \"Appliance\": \"washing machine\", \"Training: Dataset\": \"REDD\", \"Model: Basic Type\": \"feedforward\", \"Model: Denomination\": \"STL Normally Pruning (90%)\", \"Input: Window Size\": 5940.0, \"Input: Sampling Rate\": 60, \"Performance Metric: Value\": 19.15, \"Year\": \"2020\", \"No-Ref\": \"kukunuri2020_[127]\"}, {\"Reference: Abbreviation\": \"massidda2020\", \"Reference: Number\": \"[122]\", \"Appliance\": \"dishwasher\", \"Training: Dataset\": \"UK-DALE\", \"Model: Basic Type\": \"feedforward\", \"Model: Denomination\": \"TP-NILM\", \"Input: Window Size\": 30600.0, \"Input: Sampling Rate\": 60, \"Performance Metric: Value\": 33.07, \"Year\": \"2020\", \"No-Ref\": \"massidda2020_[122]\"}, {\"Reference: Abbreviation\": \"massidda2020\", \"Reference: Number\": \"[122]\", \"Appliance\": \"fridge\", \"Training: Dataset\": \"UK-DALE\", \"Model: Basic Type\": \"feedforward\", \"Model: Denomination\": \"TP-NILM\", \"Input: Window Size\": 30600.0, \"Input: Sampling Rate\": 60, \"Performance Metric: Value\": 17.03, \"Year\": \"2020\", \"No-Ref\": \"massidda2020_[122]\"}, {\"Reference: Abbreviation\": \"massidda2020\", \"Reference: Number\": \"[122]\", \"Appliance\": \"washing machine\", \"Training: Dataset\": \"UK-DALE\", \"Model: Basic Type\": \"feedforward\", \"Model: Denomination\": \"TP-NILM\", \"Input: Window Size\": 30600.0, \"Input: Sampling Rate\": 60, \"Performance Metric: Value\": 8.31, \"Year\": \"2020\", \"No-Ref\": \"massidda2020_[122]\"}, {\"Reference: Abbreviation\": \"mottahedi2016\", \"Reference: Number\": \"[74]\", \"Appliance\": \"microwave\", \"Training: Dataset\": \"DataPort\", \"Model: Basic Type\": \"feedforward\", \"Model: Denomination\": \"GASF+CNN\", \"Input: Window Size\": 6000.0, \"Input: Sampling Rate\": 60, \"Performance Metric: Value\": 9.49, \"Year\": \"2016\", \"No-Ref\": \"mottahedi2016_[74]\"}, {\"Reference: Abbreviation\": \"murray2019\", \"Reference: Number\": \"[55]\", \"Appliance\": \"dishwasher\", \"Training: Dataset\": \"REDD\", \"Model: Basic Type\": \"recurrent\", \"Model: Denomination\": \"RNN-GRU\", \"Input: Window Size\": 2400.0, \"Input: Sampling Rate\": 8, \"Performance Metric: Value\": 98.9, \"Year\": \"2019\", \"No-Ref\": \"murray2019_[55]\"}, {\"Reference: Abbreviation\": \"murray2019\", \"Reference: Number\": \"[55]\", \"Appliance\": \"dishwasher\", \"Training: Dataset\": \"REFIT\", \"Model: Basic Type\": \"recurrent\", \"Model: Denomination\": \"RNN-GRU\", \"Input: Window Size\": 2400.0, \"Input: Sampling Rate\": 8, \"Performance Metric: Value\": 73.53, \"Year\": \"2019\", \"No-Ref\": \"murray2019_[55]\"}, {\"Reference: Abbreviation\": \"murray2019\", \"Reference: Number\": \"[55]\", \"Appliance\": \"fridge\", \"Training: Dataset\": \"REDD\", \"Model: Basic Type\": \"feedforward\", \"Model: Denomination\": \"CNN\", \"Input: Window Size\": 6400.0, \"Input: Sampling Rate\": 8, \"Performance Metric: Value\": 10.14, \"Year\": \"2019\", \"No-Ref\": \"murray2019_[55]\"}, {\"Reference: Abbreviation\": \"murray2019\", \"Reference: Number\": \"[55]\", \"Appliance\": \"fridge\", \"Training: Dataset\": \"REFIT\", \"Model: Basic Type\": \"feedforward\", \"Model: Denomination\": \"CNN\", \"Input: Window Size\": 6400.0, \"Input: Sampling Rate\": 8, \"Performance Metric: Value\": 8.56, \"Year\": \"2019\", \"No-Ref\": \"murray2019_[55]\"}, {\"Reference: Abbreviation\": \"murray2019\", \"Reference: Number\": \"[55]\", \"Appliance\": \"microwave\", \"Training: Dataset\": \"REDD\", \"Model: Basic Type\": \"feedforward\", \"Model: Denomination\": \"CNN\", \"Input: Window Size\": 720.0, \"Input: Sampling Rate\": 8, \"Performance Metric: Value\": 68.2, \"Year\": \"2019\", \"No-Ref\": \"murray2019_[55]\"}, {\"Reference: Abbreviation\": \"murray2019\", \"Reference: Number\": \"[55]\", \"Appliance\": \"microwave\", \"Training: Dataset\": \"REFIT\", \"Model: Basic Type\": \"feedforward\", \"Model: Denomination\": \"CNN\", \"Input: Window Size\": 720.0, \"Input: Sampling Rate\": 8, \"Performance Metric: Value\": 35.49, \"Year\": \"2019\", \"No-Ref\": \"murray2019_[55]\"}, {\"Reference: Abbreviation\": \"murray2019\", \"Reference: Number\": \"[55]\", \"Appliance\": \"washing machine\", \"Training: Dataset\": \"REFIT\", \"Model: Basic Type\": \"feedforward\", \"Model: Denomination\": \"CNN\", \"Input: Window Size\": 2400.0, \"Input: Sampling Rate\": 8, \"Performance Metric: Value\": 71.99, \"Year\": \"2019\", \"No-Ref\": \"murray2019_[55]\"}, {\"Reference: Abbreviation\": \"pan2020\", \"Reference: Number\": \"[66]\", \"Appliance\": \"dishwasher\", \"Training: Dataset\": \"REFIT\", \"Model: Basic Type\": \"feedforward\", \"Model: Denomination\": \"Unet-cGAN\", \"Input: Window Size\": 8192.0, \"Input: Sampling Rate\": 8, \"Performance Metric: Value\": 4.8, \"Year\": \"2020\", \"No-Ref\": \"pan2020_[66]\"}, {\"Reference: Abbreviation\": \"pan2020\", \"Reference: Number\": \"[66]\", \"Appliance\": \"dishwasher\", \"Training: Dataset\": \"UK-DALE\", \"Model: Basic Type\": \"feedforward\", \"Model: Denomination\": \"Unet-cGAN\", \"Input: Window Size\": 8192.0, \"Input: Sampling Rate\": 8, \"Performance Metric: Value\": 13.52, \"Year\": \"2020\", \"No-Ref\": \"pan2020_[66]\"}, {\"Reference: Abbreviation\": \"pan2020\", \"Reference: Number\": \"[66]\", \"Appliance\": \"fridge\", \"Training: Dataset\": \"REFIT\", \"Model: Basic Type\": \"feedforward\", \"Model: Denomination\": \"Unet-cGAN\", \"Input: Window Size\": 8192.0, \"Input: Sampling Rate\": 8, \"Performance Metric: Value\": 16.77, \"Year\": \"2020\", \"No-Ref\": \"pan2020_[66]\"}, {\"Reference: Abbreviation\": \"pan2020\", \"Reference: Number\": \"[66]\", \"Appliance\": \"fridge\", \"Training: Dataset\": \"UK-DALE\", \"Model: Basic Type\": \"feedforward\", \"Model: Denomination\": \"Unet-cGAN\", \"Input: Window Size\": 8192.0, \"Input: Sampling Rate\": 8, \"Performance Metric: Value\": 11.86, \"Year\": \"2020\", \"No-Ref\": \"pan2020_[66]\"}, {\"Reference: Abbreviation\": \"pan2020\", \"Reference: Number\": \"[66]\", \"Appliance\": \"kettle\", \"Training: Dataset\": \"REFIT\", \"Model: Basic Type\": \"feedforward\", \"Model: Denomination\": \"Unet-cGAN\", \"Input: Window Size\": 8192.0, \"Input: Sampling Rate\": 8, \"Performance Metric: Value\": 6.43, \"Year\": \"2020\", \"No-Ref\": \"pan2020_[66]\"}, {\"Reference: Abbreviation\": \"pan2020\", \"Reference: Number\": \"[66]\", \"Appliance\": \"kettle\", \"Training: Dataset\": \"UK-DALE\", \"Model: Basic Type\": \"feedforward\", \"Model: Denomination\": \"Unet-cGAN\", \"Input: Window Size\": 8192.0, \"Input: Sampling Rate\": 8, \"Performance Metric: Value\": 3.59, \"Year\": \"2020\", \"No-Ref\": \"pan2020_[66]\"}, {\"Reference: Abbreviation\": \"pan2020\", \"Reference: Number\": \"[66]\", \"Appliance\": \"microwave\", \"Training: Dataset\": \"REFIT\", \"Model: Basic Type\": \"feedforward\", \"Model: Denomination\": \"Unet-cGAN\", \"Input: Window Size\": 8192.0, \"Input: Sampling Rate\": 8, \"Performance Metric: Value\": 5.88, \"Year\": \"2020\", \"No-Ref\": \"pan2020_[66]\"}, {\"Reference: Abbreviation\": \"pan2020\", \"Reference: Number\": \"[66]\", \"Appliance\": \"microwave\", \"Training: Dataset\": \"UK-DALE\", \"Model: Basic Type\": \"feedforward\", \"Model: Denomination\": \"Unet-cGAN\", \"Input: Window Size\": 8192.0, \"Input: Sampling Rate\": 8, \"Performance Metric: Value\": 3.14, \"Year\": \"2020\", \"No-Ref\": \"pan2020_[66]\"}, {\"Reference: Abbreviation\": \"pan2020\", \"Reference: Number\": \"[66]\", \"Appliance\": \"washing machine\", \"Training: Dataset\": \"REFIT\", \"Model: Basic Type\": \"feedforward\", \"Model: Denomination\": \"Unet-cGAN\", \"Input: Window Size\": 8192.0, \"Input: Sampling Rate\": 8, \"Performance Metric: Value\": 16.72, \"Year\": \"2020\", \"No-Ref\": \"pan2020_[66]\"}, {\"Reference: Abbreviation\": \"pan2020\", \"Reference: Number\": \"[66]\", \"Appliance\": \"washing machine\", \"Training: Dataset\": \"UK-DALE\", \"Model: Basic Type\": \"feedforward\", \"Model: Denomination\": \"Unet-cGAN\", \"Input: Window Size\": 8192.0, \"Input: Sampling Rate\": 8, \"Performance Metric: Value\": 7.11, \"Year\": \"2020\", \"No-Ref\": \"pan2020_[66]\"}, {\"Reference: Abbreviation\": \"rafiq2020\", \"Reference: Number\": \"[61]\", \"Appliance\": \"dishwasher\", \"Training: Dataset\": \"UK-DALE\", \"Model: Basic Type\": \"combined\", \"Model: Denomination\": \"MFS-LSTM\", \"Input: Window Size\": -1.0, \"Input: Sampling Rate\": 1, \"Performance Metric: Value\": 15.275, \"Year\": \"2020\", \"No-Ref\": \"rafiq2020_[61]\"}, {\"Reference: Abbreviation\": \"rafiq2020\", \"Reference: Number\": \"[61]\", \"Appliance\": \"fridge\", \"Training: Dataset\": \"UK-DALE\", \"Model: Basic Type\": \"combined\", \"Model: Denomination\": \"MFS-LSTM\", \"Input: Window Size\": -1.0, \"Input: Sampling Rate\": 1, \"Performance Metric: Value\": 19.608, \"Year\": \"2020\", \"No-Ref\": \"rafiq2020_[61]\"}, {\"Reference: Abbreviation\": \"rafiq2020\", \"Reference: Number\": \"[61]\", \"Appliance\": \"kettle\", \"Training: Dataset\": \"UK-DALE\", \"Model: Basic Type\": \"combined\", \"Model: Denomination\": \"MFS-LSTM\", \"Input: Window Size\": -1.0, \"Input: Sampling Rate\": 1, \"Performance Metric: Value\": 1.966, \"Year\": \"2020\", \"No-Ref\": \"rafiq2020_[61]\"}, {\"Reference: Abbreviation\": \"rafiq2020\", \"Reference: Number\": \"[61]\", \"Appliance\": \"microwave\", \"Training: Dataset\": \"UK-DALE\", \"Model: Basic Type\": \"combined\", \"Model: Denomination\": \"MFS-LSTM\", \"Input: Window Size\": -1.0, \"Input: Sampling Rate\": 1, \"Performance Metric: Value\": 0.392, \"Year\": \"2020\", \"No-Ref\": \"rafiq2020_[61]\"}, {\"Reference: Abbreviation\": \"rafiq2020\", \"Reference: Number\": \"[61]\", \"Appliance\": \"washing machine\", \"Training: Dataset\": \"UK-DALE\", \"Model: Basic Type\": \"combined\", \"Model: Denomination\": \"MFS-LSTM\", \"Input: Window Size\": -1.0, \"Input: Sampling Rate\": 1, \"Performance Metric: Value\": 14.422, \"Year\": \"2020\", \"No-Ref\": \"rafiq2020_[61]\"}, {\"Reference: Abbreviation\": \"shin2018\", \"Reference: Number\": \"[82]\", \"Appliance\": \"dishwasher\", \"Training: Dataset\": \"REDD\", \"Model: Basic Type\": \"feedforward\", \"Model: Denomination\": \"CNN SGN\", \"Input: Window Size\": 1200.0, \"Input: Sampling Rate\": 3, \"Performance Metric: Value\": 14.97, \"Year\": \"2018\", \"No-Ref\": \"shin2018_[82]\"}, {\"Reference: Abbreviation\": \"shin2018\", \"Reference: Number\": \"[82]\", \"Appliance\": \"dishwasher\", \"Training: Dataset\": \"UK-DALE\", \"Model: Basic Type\": \"feedforward\", \"Model: Denomination\": \"CNN SGN-sp\", \"Input: Window Size\": 1200.0, \"Input: Sampling Rate\": 6, \"Performance Metric: Value\": 13.49, \"Year\": \"2018\", \"No-Ref\": \"shin2018_[82]\"}, {\"Reference: Abbreviation\": \"shin2018\", \"Reference: Number\": \"[82]\", \"Appliance\": \"fridge\", \"Training: Dataset\": \"REDD\", \"Model: Basic Type\": \"feedforward\", \"Model: Denomination\": \"CNN HardSGN-sp\", \"Input: Window Size\": 1200.0, \"Input: Sampling Rate\": 3, \"Performance Metric: Value\": 22.86, \"Year\": \"2018\", \"No-Ref\": \"shin2018_[82]\"}, {\"Reference: Abbreviation\": \"shin2018\", \"Reference: Number\": \"[82]\", \"Appliance\": \"fridge\", \"Training: Dataset\": \"UK-DALE\", \"Model: Basic Type\": \"feedforward\", \"Model: Denomination\": \"CNN HardSGN-sp\", \"Input: Window Size\": 1200.0, \"Input: Sampling Rate\": 6, \"Performance Metric: Value\": 10.93, \"Year\": \"2018\", \"No-Ref\": \"shin2018_[82]\"}, {\"Reference: Abbreviation\": \"shin2018\", \"Reference: Number\": \"[82]\", \"Appliance\": \"kettle\", \"Training: Dataset\": \"UK-DALE\", \"Model: Basic Type\": \"feedforward\", \"Model: Denomination\": \"CNN SGN-sp\", \"Input: Window Size\": 1200.0, \"Input: Sampling Rate\": 6, \"Performance Metric: Value\": 5.96, \"Year\": \"2018\", \"No-Ref\": \"shin2018_[82]\"}, {\"Reference: Abbreviation\": \"shin2018\", \"Reference: Number\": \"[82]\", \"Appliance\": \"microwave\", \"Training: Dataset\": \"REDD\", \"Model: Basic Type\": \"feedforward\", \"Model: Denomination\": \"CNN SGN-sp\", \"Input: Window Size\": 1200.0, \"Input: Sampling Rate\": 3, \"Performance Metric: Value\": 15.98, \"Year\": \"2018\", \"No-Ref\": \"shin2018_[82]\"}, {\"Reference: Abbreviation\": \"shin2018\", \"Reference: Number\": \"[82]\", \"Appliance\": \"microwave\", \"Training: Dataset\": \"UK-DALE\", \"Model: Basic Type\": \"feedforward\", \"Model: Denomination\": \"CNN HardSGN\", \"Input: Window Size\": 1200.0, \"Input: Sampling Rate\": 6, \"Performance Metric: Value\": 4.53, \"Year\": \"2018\", \"No-Ref\": \"shin2018_[82]\"}, {\"Reference: Abbreviation\": \"shin2018\", \"Reference: Number\": \"[82]\", \"Appliance\": \"washing machine\", \"Training: Dataset\": \"REDD\", \"Model: Basic Type\": \"feedforward\", \"Model: Denomination\": \"CNN HardSGN\", \"Input: Window Size\": 1200.0, \"Input: Sampling Rate\": 3, \"Performance Metric: Value\": 18.24, \"Year\": \"2018\", \"No-Ref\": \"shin2018_[82]\"}, {\"Reference: Abbreviation\": \"shin2018\", \"Reference: Number\": \"[82]\", \"Appliance\": \"washing machine\", \"Training: Dataset\": \"UK-DALE\", \"Model: Basic Type\": \"feedforward\", \"Model: Denomination\": \"CNN SGN-sp\", \"Input: Window Size\": 1200.0, \"Input: Sampling Rate\": 6, \"Performance Metric: Value\": 11.04, \"Year\": \"2018\", \"No-Ref\": \"shin2018_[82]\"}, {\"Reference: Abbreviation\": \"shin2019a\", \"Reference: Number\": \"[59]\", \"Appliance\": \"washing machine\", \"Training: Dataset\": \"Enertalk\", \"Model: Basic Type\": \"feedforward\", \"Model: Denomination\": \"SGN\", \"Input: Window Size\": 90.0, \"Input: Sampling Rate\": 0.1, \"Performance Metric: Value\": 14.816, \"Year\": \"019a\", \"No-Ref\": \"shin2019a_[59]\"}, {\"Reference: Abbreviation\": \"sirojan2018\", \"Reference: Number\": \"[149]\", \"Appliance\": \"dishwasher\", \"Training: Dataset\": \"UK-DALE\", \"Model: Basic Type\": \"feedforward\", \"Model: Denomination\": \"CNN VAE\", \"Input: Window Size\": -1.0, \"Input: Sampling Rate\": 6, \"Performance Metric: Value\": 19.6, \"Year\": \"2018\", \"No-Ref\": \"sirojan2018_[149]\"}, {\"Reference: Abbreviation\": \"sirojan2018\", \"Reference: Number\": \"[149]\", \"Appliance\": \"fridge\", \"Training: Dataset\": \"UK-DALE\", \"Model: Basic Type\": \"feedforward\", \"Model: Denomination\": \"CNN VAE\", \"Input: Window Size\": -1.0, \"Input: Sampling Rate\": 6, \"Performance Metric: Value\": 18.1, \"Year\": \"2018\", \"No-Ref\": \"sirojan2018_[149]\"}, {\"Reference: Abbreviation\": \"sirojan2018\", \"Reference: Number\": \"[149]\", \"Appliance\": \"kettle\", \"Training: Dataset\": \"UK-DALE\", \"Model: Basic Type\": \"feedforward\", \"Model: Denomination\": \"CNN VAE\", \"Input: Window Size\": -1.0, \"Input: Sampling Rate\": 6, \"Performance Metric: Value\": 7.0, \"Year\": \"2018\", \"No-Ref\": \"sirojan2018_[149]\"}, {\"Reference: Abbreviation\": \"sirojan2018\", \"Reference: Number\": \"[149]\", \"Appliance\": \"microwave\", \"Training: Dataset\": \"UK-DALE\", \"Model: Basic Type\": \"feedforward\", \"Model: Denomination\": \"CNN VAE\", \"Input: Window Size\": -1.0, \"Input: Sampling Rate\": 6, \"Performance Metric: Value\": 7.5, \"Year\": \"2018\", \"No-Ref\": \"sirojan2018_[149]\"}, {\"Reference: Abbreviation\": \"sirojan2018\", \"Reference: Number\": \"[149]\", \"Appliance\": \"washing machine\", \"Training: Dataset\": \"UK-DALE\", \"Model: Basic Type\": \"feedforward\", \"Model: Denomination\": \"CNN VAE\", \"Input: Window Size\": -1.0, \"Input: Sampling Rate\": 6, \"Performance Metric: Value\": 10.8, \"Year\": \"2018\", \"No-Ref\": \"sirojan2018_[149]\"}, {\"Reference: Abbreviation\": \"yue2020\", \"Reference: Number\": \"[97]\", \"Appliance\": \"dishwasher\", \"Training: Dataset\": \"REDD\", \"Model: Basic Type\": \"feedforward\", \"Model: Denomination\": \"BERT\", \"Input: Window Size\": 2880.0, \"Input: Sampling Rate\": 6, \"Performance Metric: Value\": 20.49, \"Year\": \"2020\", \"No-Ref\": \"yue2020_[97]\"}, {\"Reference: Abbreviation\": \"yue2020\", \"Reference: Number\": \"[97]\", \"Appliance\": \"dishwasher\", \"Training: Dataset\": \"UK-DALE\", \"Model: Basic Type\": \"feedforward\", \"Model: Denomination\": \"BERT\", \"Input: Window Size\": 2880.0, \"Input: Sampling Rate\": 6, \"Performance Metric: Value\": 16.18, \"Year\": \"2020\", \"No-Ref\": \"yue2020_[97]\"}, {\"Reference: Abbreviation\": \"yue2020\", \"Reference: Number\": \"[97]\", \"Appliance\": \"fridge\", \"Training: Dataset\": \"REDD\", \"Model: Basic Type\": \"feedforward\", \"Model: Denomination\": \"BERT\", \"Input: Window Size\": 2880.0, \"Input: Sampling Rate\": 6, \"Performance Metric: Value\": 32.35, \"Year\": \"2020\", \"No-Ref\": \"yue2020_[97]\"}, {\"Reference: Abbreviation\": \"yue2020\", \"Reference: Number\": \"[97]\", \"Appliance\": \"fridge\", \"Training: Dataset\": \"UK-DALE\", \"Model: Basic Type\": \"feedforward\", \"Model: Denomination\": \"BERT\", \"Input: Window Size\": 2880.0, \"Input: Sampling Rate\": 6, \"Performance Metric: Value\": 25.49, \"Year\": \"2020\", \"No-Ref\": \"yue2020_[97]\"}, {\"Reference: Abbreviation\": \"yue2020\", \"Reference: Number\": \"[97]\", \"Appliance\": \"kettle\", \"Training: Dataset\": \"UK-DALE\", \"Model: Basic Type\": \"feedforward\", \"Model: Denomination\": \"BERT\", \"Input: Window Size\": 2880.0, \"Input: Sampling Rate\": 6, \"Performance Metric: Value\": 6.82, \"Year\": \"2020\", \"No-Ref\": \"yue2020_[97]\"}, {\"Reference: Abbreviation\": \"yue2020\", \"Reference: Number\": \"[97]\", \"Appliance\": \"microwave\", \"Training: Dataset\": \"REDD\", \"Model: Basic Type\": \"feedforward\", \"Model: Denomination\": \"BERT\", \"Input: Window Size\": 2880.0, \"Input: Sampling Rate\": 6, \"Performance Metric: Value\": 17.58, \"Year\": \"2020\", \"No-Ref\": \"yue2020_[97]\"}, {\"Reference: Abbreviation\": \"yue2020\", \"Reference: Number\": \"[97]\", \"Appliance\": \"microwave\", \"Training: Dataset\": \"UK-DALE\", \"Model: Basic Type\": \"feedforward\", \"Model: Denomination\": \"BERT\", \"Input: Window Size\": 2880.0, \"Input: Sampling Rate\": 6, \"Performance Metric: Value\": 6.57, \"Year\": \"2020\", \"No-Ref\": \"yue2020_[97]\"}, {\"Reference: Abbreviation\": \"yue2020\", \"Reference: Number\": \"[97]\", \"Appliance\": \"washing machine\", \"Training: Dataset\": \"REDD\", \"Model: Basic Type\": \"feedforward\", \"Model: Denomination\": \"BERT\", \"Input: Window Size\": 2880.0, \"Input: Sampling Rate\": 6, \"Performance Metric: Value\": 34.96, \"Year\": \"2020\", \"No-Ref\": \"yue2020_[97]\"}, {\"Reference: Abbreviation\": \"yue2020\", \"Reference: Number\": \"[97]\", \"Appliance\": \"washing machine\", \"Training: Dataset\": \"UK-DALE\", \"Model: Basic Type\": \"feedforward\", \"Model: Denomination\": \"BERT\", \"Input: Window Size\": 2880.0, \"Input: Sampling Rate\": 6, \"Performance Metric: Value\": 6.98, \"Year\": \"2020\", \"No-Ref\": \"yue2020_[97]\"}, {\"Reference: Abbreviation\": \"zhang2016\", \"Reference: Number\": \"[75]\", \"Appliance\": \"dishwasher\", \"Training: Dataset\": \"REDD\", \"Model: Basic Type\": \"feedforward\", \"Model: Denomination\": \"CNN s2s\", \"Input: Window Size\": 1797.0, \"Input: Sampling Rate\": 3, \"Performance Metric: Value\": 19.449, \"Year\": \"2016\", \"No-Ref\": \"zhang2016_[75]\"}, {\"Reference: Abbreviation\": \"zhang2016\", \"Reference: Number\": \"[75]\", \"Appliance\": \"dishwasher\", \"Training: Dataset\": \"UK-DALE\", \"Model: Basic Type\": \"feedforward\", \"Model: Denomination\": \"CNN s2p\", \"Input: Window Size\": 3594.0, \"Input: Sampling Rate\": 6, \"Performance Metric: Value\": 27.704, \"Year\": \"2016\", \"No-Ref\": \"zhang2016_[75]\"}, {\"Reference: Abbreviation\": \"zhang2016\", \"Reference: Number\": \"[75]\", \"Appliance\": \"fridge\", \"Training: Dataset\": \"REDD\", \"Model: Basic Type\": \"feedforward\", \"Model: Denomination\": \"CNN s2p\", \"Input: Window Size\": 1797.0, \"Input: Sampling Rate\": 3, \"Performance Metric: Value\": 28.104, \"Year\": \"2016\", \"No-Ref\": \"zhang2016_[75]\"}, {\"Reference: Abbreviation\": \"zhang2016\", \"Reference: Number\": \"[75]\", \"Appliance\": \"fridge\", \"Training: Dataset\": \"UK-DALE\", \"Model: Basic Type\": \"feedforward\", \"Model: Denomination\": \"CNN s2p\", \"Input: Window Size\": 3594.0, \"Input: Sampling Rate\": 6, \"Performance Metric: Value\": 20.894, \"Year\": \"2016\", \"No-Ref\": \"zhang2016_[75]\"}, {\"Reference: Abbreviation\": \"zhang2016\", \"Reference: Number\": \"[75]\", \"Appliance\": \"kettle\", \"Training: Dataset\": \"UK-DALE\", \"Model: Basic Type\": \"feedforward\", \"Model: Denomination\": \"CNN s2p\", \"Input: Window Size\": 3594.0, \"Input: Sampling Rate\": 6, \"Performance Metric: Value\": 7.439, \"Year\": \"2016\", \"No-Ref\": \"zhang2016_[75]\"}, {\"Reference: Abbreviation\": \"zhang2016\", \"Reference: Number\": \"[75]\", \"Appliance\": \"microwave\", \"Training: Dataset\": \"REDD\", \"Model: Basic Type\": \"feedforward\", \"Model: Denomination\": \"CNN s2p\", \"Input: Window Size\": 1797.0, \"Input: Sampling Rate\": 3, \"Performance Metric: Value\": 28.199, \"Year\": \"2016\", \"No-Ref\": \"zhang2016_[75]\"}, {\"Reference: Abbreviation\": \"zhang2016\", \"Reference: Number\": \"[75]\", \"Appliance\": \"microwave\", \"Training: Dataset\": \"UK-DALE\", \"Model: Basic Type\": \"feedforward\", \"Model: Denomination\": \"CNN s2p\", \"Input: Window Size\": 3594.0, \"Input: Sampling Rate\": 6, \"Performance Metric: Value\": 8.661, \"Year\": \"2016\", \"No-Ref\": \"zhang2016_[75]\"}, {\"Reference: Abbreviation\": \"zhang2016\", \"Reference: Number\": \"[75]\", \"Appliance\": \"washing machine\", \"Training: Dataset\": \"REDD\", \"Model: Basic Type\": \"feedforward\", \"Model: Denomination\": \"CNN s2p\", \"Input: Window Size\": 1797.0, \"Input: Sampling Rate\": 3, \"Performance Metric: Value\": 18.423, \"Year\": \"2016\", \"No-Ref\": \"zhang2016_[75]\"}, {\"Reference: Abbreviation\": \"zhang2016\", \"Reference: Number\": \"[75]\", \"Appliance\": \"washing machine\", \"Training: Dataset\": \"UK-DALE\", \"Model: Basic Type\": \"feedforward\", \"Model: Denomination\": \"CNN s2s\", \"Input: Window Size\": 3594.0, \"Input: Sampling Rate\": 6, \"Performance Metric: Value\": 10.153, \"Year\": \"2016\", \"No-Ref\": \"zhang2016_[75]\"}]}}, {\"mode\": \"vega-lite\"});\n",
       "</script>"
      ],
      "text/plain": [
       "alt.FacetChart(...)"
      ]
     },
     "execution_count": 19,
     "metadata": {},
     "output_type": "execute_result"
    }
   ],
   "source": [
    "# Visualization ,\n",
    "upper_bound = 40 #14\n",
    "sortByDataset = alt.Chart().mark_point(clip=True, size=90, filled=True).encode(\n",
    "    x=alt.X('Training: Dataset:N', title='Dataset'),\n",
    "    y=alt.Y('Performance Metric: Value:Q', title='MAE [W]', scale=alt.Scale(domain=(0, upper_bound))),\n",
    "#    color=alt.Color('Reference: Abbreviation:N', legend=alt.Legend(title='Publication'), scale=alt.Scale(scheme = 'category20')),\n",
    "    color=alt.Color('No-Ref:N', legend=alt.Legend(title='Publication'), scale=alt.Scale(scheme = 'category20')),\n",
    "#    color=alt.Color('Reference: Number:N', legend=alt.Legend(title='Publication'), scale=alt.Scale(scheme = 'category20')),\n",
    "#    color=alt.Color('Input: Sampling Rate:Q', legend=alt.Legend(title='Sampling Rate'), scale=alt.Scale(domain=(0,10), type='symlog')),\n",
    "#    color=alt.Color('Input: Window Size:Q', legend=alt.Legend(title='Window Size'), scale=alt.Scale(type='log')),\n",
    "#    shape=alt.Shape('Model: Basic Type', sort=['recurrent', 'feedforward'], legend=alt.Legend(title='Network Type'))\n",
    ")#.transform_filter(\n",
    "#    alt.FieldOneOfPredicate(field='Training: Dataset', oneOf=['REDD', 'UK-DALE', 'REFIT'])\n",
    "#)\n",
    "# text = alt.Chart().mark_text(\n",
    "#     clip=True, align='left', dy=-5, dx=-24,\n",
    "#     fontSize=13\n",
    "# ).encode(\n",
    "#     x=alt.X('Training: Dataset:N'),\n",
    "#     y=alt.Y('Performance Metric: Value:Q', title='MAE [W]', scale=alt.Scale(domain=(0, upper_bound))),\n",
    "#     text = 'Reference: Abbreviation:N'\n",
    "# )\n",
    "\n",
    "alt.layer(\n",
    "    sortByDataset,  \n",
    "    data=df_mae, width=90#, height=500\n",
    ").facet(\n",
    "    column=alt.Column('Appliance:N', title=None)\n",
    ").configure_facet(\n",
    "    spacing=7\n",
    ").configure_header(\n",
    "    titleFontSize=14,\n",
    "    labelFontSize=14\n",
    ")"
   ]
  },
  {
   "cell_type": "code",
   "execution_count": 20,
   "metadata": {},
   "outputs": [],
   "source": [
    "# Individualized focus views\n",
    "b = 20 \n",
    "h = 250\n",
    "params = {\n",
    "    'Kettle':          { 'app' : 'kettle',          'width': b*3, 'height': h, 'upper_bound': 15, 'lower_bound': 0 }, \n",
    "    'Microwave':       { 'app' : 'microwave',       'width': b*5, 'height': h, 'upper_bound': 15, 'lower_bound': 0 }, \n",
    "    'Dishwasher':      { 'app' : 'dishwasher',      'width': b*4, 'height': h, 'upper_bound': 25, 'lower_bound': 0 },\n",
    "    'Washing machine': { 'app' : 'washing machine', 'width': b*5, 'height': h, 'upper_bound': 25, 'lower_bound': 0 },\n",
    "    'Fridge':          { 'app' : 'fridge',          'width': b*3, 'height': h, 'upper_bound': 25, 'lower_bound': 0 }, \n",
    "}"
   ]
  },
  {
   "cell_type": "code",
   "execution_count": 21,
   "metadata": {},
   "outputs": [
    {
     "data": {
      "text/html": [
       "\n",
       "<div id=\"altair-viz-af4193a79a2046df961bc1647182254a\"></div>\n",
       "<script type=\"text/javascript\">\n",
       "  (function(spec, embedOpt){\n",
       "    let outputDiv = document.currentScript.previousElementSibling;\n",
       "    if (outputDiv.id !== \"altair-viz-af4193a79a2046df961bc1647182254a\") {\n",
       "      outputDiv = document.getElementById(\"altair-viz-af4193a79a2046df961bc1647182254a\");\n",
       "    }\n",
       "    const paths = {\n",
       "      \"vega\": \"https://cdn.jsdelivr.net/npm//vega@5?noext\",\n",
       "      \"vega-lib\": \"https://cdn.jsdelivr.net/npm//vega-lib?noext\",\n",
       "      \"vega-lite\": \"https://cdn.jsdelivr.net/npm//vega-lite@4.8.1?noext\",\n",
       "      \"vega-embed\": \"https://cdn.jsdelivr.net/npm//vega-embed@6?noext\",\n",
       "    };\n",
       "\n",
       "    function loadScript(lib) {\n",
       "      return new Promise(function(resolve, reject) {\n",
       "        var s = document.createElement('script');\n",
       "        s.src = paths[lib];\n",
       "        s.async = true;\n",
       "        s.onload = () => resolve(paths[lib]);\n",
       "        s.onerror = () => reject(`Error loading script: ${paths[lib]}`);\n",
       "        document.getElementsByTagName(\"head\")[0].appendChild(s);\n",
       "      });\n",
       "    }\n",
       "\n",
       "    function showError(err) {\n",
       "      outputDiv.innerHTML = `<div class=\"error\" style=\"color:red;\">${err}</div>`;\n",
       "      throw err;\n",
       "    }\n",
       "\n",
       "    function displayChart(vegaEmbed) {\n",
       "      vegaEmbed(outputDiv, spec, embedOpt)\n",
       "        .catch(err => showError(`Javascript Error: ${err.message}<br>This usually means there's a typo in your chart specification. See the javascript console for the full traceback.`));\n",
       "    }\n",
       "\n",
       "    if(typeof define === \"function\" && define.amd) {\n",
       "      requirejs.config({paths});\n",
       "      require([\"vega-embed\"], displayChart, err => showError(`Error loading script: ${err.message}`));\n",
       "    } else if (typeof vegaEmbed === \"function\") {\n",
       "      displayChart(vegaEmbed);\n",
       "    } else {\n",
       "      loadScript(\"vega\")\n",
       "        .then(() => loadScript(\"vega-lite\"))\n",
       "        .then(() => loadScript(\"vega-embed\"))\n",
       "        .catch(showError)\n",
       "        .then(() => displayChart(vegaEmbed));\n",
       "    }\n",
       "  })({\"config\": {\"view\": {\"continuousWidth\": 400, \"continuousHeight\": 300}}, \"hconcat\": [{\"layer\": [{\"mark\": {\"type\": \"point\", \"clip\": true, \"filled\": true, \"size\": 90}, \"encoding\": {\"color\": {\"type\": \"nominal\", \"field\": \"Reference: Number\", \"legend\": {\"title\": \"Publication\"}, \"scale\": {\"scheme\": \"category20\"}}, \"x\": {\"type\": \"nominal\", \"field\": \"Training: Dataset\", \"title\": \"Dataset\"}, \"y\": {\"type\": \"quantitative\", \"field\": \"Performance Metric: Value\", \"scale\": {\"domain\": [0, 15]}, \"title\": \"MAE [W]\"}}, \"title\": \"Kettle\", \"transform\": [{\"filter\": {\"field\": \"Appliance\", \"oneOf\": [\"kettle\"]}}]}], \"height\": 250, \"width\": 60}, {\"layer\": [{\"mark\": {\"type\": \"point\", \"clip\": true, \"filled\": true, \"size\": 90}, \"encoding\": {\"color\": {\"type\": \"nominal\", \"field\": \"Reference: Number\", \"legend\": {\"title\": \"Publication\"}, \"scale\": {\"scheme\": \"category20\"}}, \"x\": {\"type\": \"nominal\", \"field\": \"Training: Dataset\", \"title\": \"Dataset\"}, \"y\": {\"type\": \"quantitative\", \"field\": \"Performance Metric: Value\", \"scale\": {\"domain\": [0, 15]}, \"title\": \"MAE [W]\"}}, \"title\": \"Microwave\", \"transform\": [{\"filter\": {\"field\": \"Appliance\", \"oneOf\": [\"microwave\"]}}]}], \"height\": 250, \"width\": 100}, {\"layer\": [{\"mark\": {\"type\": \"point\", \"clip\": true, \"filled\": true, \"size\": 90}, \"encoding\": {\"color\": {\"type\": \"nominal\", \"field\": \"Reference: Number\", \"legend\": {\"title\": \"Publication\"}, \"scale\": {\"scheme\": \"category20\"}}, \"x\": {\"type\": \"nominal\", \"field\": \"Training: Dataset\", \"title\": \"Dataset\"}, \"y\": {\"type\": \"quantitative\", \"field\": \"Performance Metric: Value\", \"scale\": {\"domain\": [0, 25]}, \"title\": \"MAE [W]\"}}, \"title\": \"Dishwasher\", \"transform\": [{\"filter\": {\"field\": \"Appliance\", \"oneOf\": [\"dishwasher\"]}}]}], \"height\": 250, \"width\": 80}, {\"layer\": [{\"mark\": {\"type\": \"point\", \"clip\": true, \"filled\": true, \"size\": 90}, \"encoding\": {\"color\": {\"type\": \"nominal\", \"field\": \"Reference: Number\", \"legend\": {\"title\": \"Publication\"}, \"scale\": {\"scheme\": \"category20\"}}, \"x\": {\"type\": \"nominal\", \"field\": \"Training: Dataset\", \"title\": \"Dataset\"}, \"y\": {\"type\": \"quantitative\", \"field\": \"Performance Metric: Value\", \"scale\": {\"domain\": [0, 25]}, \"title\": \"MAE [W]\"}}, \"title\": \"Washing machine\", \"transform\": [{\"filter\": {\"field\": \"Appliance\", \"oneOf\": [\"washing machine\"]}}]}], \"height\": 250, \"width\": 100}, {\"layer\": [{\"mark\": {\"type\": \"point\", \"clip\": true, \"filled\": true, \"size\": 90}, \"encoding\": {\"color\": {\"type\": \"nominal\", \"field\": \"Reference: Number\", \"legend\": {\"title\": \"Publication\"}, \"scale\": {\"scheme\": \"category20\"}}, \"x\": {\"type\": \"nominal\", \"field\": \"Training: Dataset\", \"title\": \"Dataset\"}, \"y\": {\"type\": \"quantitative\", \"field\": \"Performance Metric: Value\", \"scale\": {\"domain\": [0, 25]}, \"title\": \"MAE [W]\"}}, \"title\": \"Fridge\", \"transform\": [{\"filter\": {\"field\": \"Appliance\", \"oneOf\": [\"fridge\"]}}]}], \"height\": 250, \"width\": 60}], \"bounds\": \"flush\", \"data\": {\"name\": \"data-2245cfebe5c2fad1d70a997f3e81603b\"}, \"spacing\": 40, \"$schema\": \"https://vega.github.io/schema/vega-lite/v4.8.1.json\", \"datasets\": {\"data-2245cfebe5c2fad1d70a997f3e81603b\": [{\"Reference: Abbreviation\": \"alzeidi2018\", \"Reference: Number\": \"[118]\", \"Appliance\": \"dishwasher\", \"Training: Dataset\": \"UK-DALE\", \"Model: Basic Type\": \"feedforward\", \"Model: Denomination\": \"classification\", \"Input: Window Size\": 600.0, \"Input: Sampling Rate\": 6, \"Performance Metric: Value\": 13.959, \"Year\": \"2018\", \"No-Ref\": \"alzeidi2018_[118]\"}, {\"Reference: Abbreviation\": \"alzeidi2018\", \"Reference: Number\": \"[118]\", \"Appliance\": \"fridge\", \"Training: Dataset\": \"UK-DALE\", \"Model: Basic Type\": \"feedforward\", \"Model: Denomination\": \"classification\", \"Input: Window Size\": 600.0, \"Input: Sampling Rate\": 6, \"Performance Metric: Value\": 20.222, \"Year\": \"2018\", \"No-Ref\": \"alzeidi2018_[118]\"}, {\"Reference: Abbreviation\": \"alzeidi2018\", \"Reference: Number\": \"[118]\", \"Appliance\": \"kettle\", \"Training: Dataset\": \"UK-DALE\", \"Model: Basic Type\": \"feedforward\", \"Model: Denomination\": \"classification\", \"Input: Window Size\": 600.0, \"Input: Sampling Rate\": 6, \"Performance Metric: Value\": 6.139, \"Year\": \"2018\", \"No-Ref\": \"alzeidi2018_[118]\"}, {\"Reference: Abbreviation\": \"alzeidi2018\", \"Reference: Number\": \"[118]\", \"Appliance\": \"microwave\", \"Training: Dataset\": \"UK-DALE\", \"Model: Basic Type\": \"feedforward\", \"Model: Denomination\": \"classification\", \"Input: Window Size\": 600.0, \"Input: Sampling Rate\": 6, \"Performance Metric: Value\": 5.015, \"Year\": \"2018\", \"No-Ref\": \"alzeidi2018_[118]\"}, {\"Reference: Abbreviation\": \"alzeidi2018\", \"Reference: Number\": \"[118]\", \"Appliance\": \"washing machine\", \"Training: Dataset\": \"UK-DALE\", \"Model: Basic Type\": \"feedforward\", \"Model: Denomination\": \"classification\", \"Input: Window Size\": 600.0, \"Input: Sampling Rate\": 6, \"Performance Metric: Value\": 7.615, \"Year\": \"2018\", \"No-Ref\": \"alzeidi2018_[118]\"}, {\"Reference: Abbreviation\": \"barber2020\", \"Reference: Number\": \"[126]\", \"Appliance\": \"dishwasher\", \"Training: Dataset\": \"REFIT\", \"Model: Basic Type\": \"feedforward\", \"Model: Denomination\": \"Reduced+Dropout LMP\", \"Input: Window Size\": 4792.0, \"Input: Sampling Rate\": 8, \"Performance Metric: Value\": 40.0, \"Year\": \"2020\", \"No-Ref\": \"barber2020_[126]\"}, {\"Reference: Abbreviation\": \"barber2020\", \"Reference: Number\": \"[126]\", \"Appliance\": \"kettle\", \"Training: Dataset\": \"REFIT\", \"Model: Basic Type\": \"feedforward\", \"Model: Denomination\": \"Reduced+Dropout LMP\", \"Input: Window Size\": 4792.0, \"Input: Sampling Rate\": 8, \"Performance Metric: Value\": 65.0, \"Year\": \"2020\", \"No-Ref\": \"barber2020_[126]\"}, {\"Reference: Abbreviation\": \"brewitt2018\", \"Reference: Number\": \"[39]\", \"Appliance\": \"dishwasher\", \"Training: Dataset\": \"IDEAL\", \"Model: Basic Type\": \"feedforward\", \"Model: Denomination\": \"CNN fully\", \"Input: Window Size\": 32840.0, \"Input: Sampling Rate\": 8, \"Performance Metric: Value\": 8.9, \"Year\": \"2018\", \"No-Ref\": \"brewitt2018_[39]\"}, {\"Reference: Abbreviation\": \"brewitt2018\", \"Reference: Number\": \"[39]\", \"Appliance\": \"kettle\", \"Training: Dataset\": \"IDEAL\", \"Model: Basic Type\": \"feedforward\", \"Model: Denomination\": \"CNN fully\", \"Input: Window Size\": 32840.0, \"Input: Sampling Rate\": 8, \"Performance Metric: Value\": 10.4, \"Year\": \"2018\", \"No-Ref\": \"brewitt2018_[39]\"}, {\"Reference: Abbreviation\": \"brewitt2018\", \"Reference: Number\": \"[39]\", \"Appliance\": \"microwave\", \"Training: Dataset\": \"IDEAL\", \"Model: Basic Type\": \"feedforward\", \"Model: Denomination\": \"CNN fully\", \"Input: Window Size\": 32840.0, \"Input: Sampling Rate\": 8, \"Performance Metric: Value\": 4.4, \"Year\": \"2018\", \"No-Ref\": \"brewitt2018_[39]\"}, {\"Reference: Abbreviation\": \"brewitt2018\", \"Reference: Number\": \"[39]\", \"Appliance\": \"washing machine\", \"Training: Dataset\": \"IDEAL\", \"Model: Basic Type\": \"feedforward\", \"Model: Denomination\": \"CNN fully\", \"Input: Window Size\": 32840.0, \"Input: Sampling Rate\": 8, \"Performance Metric: Value\": 20.8, \"Year\": \"2018\", \"No-Ref\": \"brewitt2018_[39]\"}, {\"Reference: Abbreviation\": \"chen2020e\", \"Reference: Number\": \"[71]\", \"Appliance\": \"dishwasher\", \"Training: Dataset\": \"REDD\", \"Model: Basic Type\": \"feedforward\", \"Model: Denomination\": \"SCAnet\", \"Input: Window Size\": 2592.0, \"Input: Sampling Rate\": 3, \"Performance Metric: Value\": 10.14, \"Year\": \"020e\", \"No-Ref\": \"chen2020e_[71]\"}, {\"Reference: Abbreviation\": \"chen2020e\", \"Reference: Number\": \"[71]\", \"Appliance\": \"dishwasher\", \"Training: Dataset\": \"UK-DALE\", \"Model: Basic Type\": \"feedforward\", \"Model: Denomination\": \"SCAnet\", \"Input: Window Size\": 2592.0, \"Input: Sampling Rate\": 6, \"Performance Metric: Value\": 8.71, \"Year\": \"020e\", \"No-Ref\": \"chen2020e_[71]\"}, {\"Reference: Abbreviation\": \"chen2020e\", \"Reference: Number\": \"[71]\", \"Appliance\": \"fridge\", \"Training: Dataset\": \"REDD\", \"Model: Basic Type\": \"feedforward\", \"Model: Denomination\": \"SCAnet\", \"Input: Window Size\": 2592.0, \"Input: Sampling Rate\": 3, \"Performance Metric: Value\": 21.77, \"Year\": \"020e\", \"No-Ref\": \"chen2020e_[71]\"}, {\"Reference: Abbreviation\": \"chen2020e\", \"Reference: Number\": \"[71]\", \"Appliance\": \"fridge\", \"Training: Dataset\": \"UK-DALE\", \"Model: Basic Type\": \"feedforward\", \"Model: Denomination\": \"SCAnet\", \"Input: Window Size\": 2592.0, \"Input: Sampling Rate\": 6, \"Performance Metric: Value\": 15.16, \"Year\": \"020e\", \"No-Ref\": \"chen2020e_[71]\"}, {\"Reference: Abbreviation\": \"chen2020e\", \"Reference: Number\": \"[71]\", \"Appliance\": \"kettle\", \"Training: Dataset\": \"UK-DALE\", \"Model: Basic Type\": \"feedforward\", \"Model: Denomination\": \"SCAnet\", \"Input: Window Size\": 2592.0, \"Input: Sampling Rate\": 6, \"Performance Metric: Value\": 6.14, \"Year\": \"020e\", \"No-Ref\": \"chen2020e_[71]\"}, {\"Reference: Abbreviation\": \"chen2020e\", \"Reference: Number\": \"[71]\", \"Appliance\": \"microwave\", \"Training: Dataset\": \"REDD\", \"Model: Basic Type\": \"feedforward\", \"Model: Denomination\": \"SCAnet\", \"Input: Window Size\": 2592.0, \"Input: Sampling Rate\": 3, \"Performance Metric: Value\": 13.75, \"Year\": \"020e\", \"No-Ref\": \"chen2020e_[71]\"}, {\"Reference: Abbreviation\": \"chen2020e\", \"Reference: Number\": \"[71]\", \"Appliance\": \"microwave\", \"Training: Dataset\": \"UK-DALE\", \"Model: Basic Type\": \"feedforward\", \"Model: Denomination\": \"SCAnet\", \"Input: Window Size\": 2592.0, \"Input: Sampling Rate\": 6, \"Performance Metric: Value\": 4.82, \"Year\": \"020e\", \"No-Ref\": \"chen2020e_[71]\"}, {\"Reference: Abbreviation\": \"chen2020e\", \"Reference: Number\": \"[71]\", \"Appliance\": \"washing machine\", \"Training: Dataset\": \"UK-DALE\", \"Model: Basic Type\": \"feedforward\", \"Model: Denomination\": \"SCAnet\", \"Input: Window Size\": 2592.0, \"Input: Sampling Rate\": 6, \"Performance Metric: Value\": 8.48, \"Year\": \"020e\", \"No-Ref\": \"chen2020e_[71]\"}, {\"Reference: Abbreviation\": \"dincecco2019\", \"Reference: Number\": \"[54]\", \"Appliance\": \"dishwasher\", \"Training: Dataset\": \"REFIT\", \"Model: Basic Type\": \"feedforward\", \"Model: Denomination\": \"CNN s2p\", \"Input: Window Size\": 4792.0, \"Input: Sampling Rate\": 8, \"Performance Metric: Value\": 12.26, \"Year\": \"2019\", \"No-Ref\": \"dincecco2019_[54]\"}, {\"Reference: Abbreviation\": \"dincecco2019\", \"Reference: Number\": \"[54]\", \"Appliance\": \"fridge\", \"Training: Dataset\": \"REFIT\", \"Model: Basic Type\": \"feedforward\", \"Model: Denomination\": \"CNN s2p\", \"Input: Window Size\": 4792.0, \"Input: Sampling Rate\": 8, \"Performance Metric: Value\": 20.02, \"Year\": \"2019\", \"No-Ref\": \"dincecco2019_[54]\"}, {\"Reference: Abbreviation\": \"dincecco2019\", \"Reference: Number\": \"[54]\", \"Appliance\": \"kettle\", \"Training: Dataset\": \"REFIT\", \"Model: Basic Type\": \"feedforward\", \"Model: Denomination\": \"CNN s2p\", \"Input: Window Size\": 4792.0, \"Input: Sampling Rate\": 8, \"Performance Metric: Value\": 6.83, \"Year\": \"2019\", \"No-Ref\": \"dincecco2019_[54]\"}, {\"Reference: Abbreviation\": \"dincecco2019\", \"Reference: Number\": \"[54]\", \"Appliance\": \"microwave\", \"Training: Dataset\": \"REFIT\", \"Model: Basic Type\": \"feedforward\", \"Model: Denomination\": \"CNN s2p\", \"Input: Window Size\": 4792.0, \"Input: Sampling Rate\": 8, \"Performance Metric: Value\": 12.6, \"Year\": \"2019\", \"No-Ref\": \"dincecco2019_[54]\"}, {\"Reference: Abbreviation\": \"dincecco2019\", \"Reference: Number\": \"[54]\", \"Appliance\": \"washing machine\", \"Training: Dataset\": \"REFIT\", \"Model: Basic Type\": \"feedforward\", \"Model: Denomination\": \"CNN s2p\", \"Input: Window Size\": 4792.0, \"Input: Sampling Rate\": 8, \"Performance Metric: Value\": 16.85, \"Year\": \"2019\", \"No-Ref\": \"dincecco2019_[54]\"}, {\"Reference: Abbreviation\": \"he2016\", \"Reference: Number\": \"[156]\", \"Appliance\": \"dishwasher\", \"Training: Dataset\": \"UK-DALE\", \"Model: Basic Type\": \"feedforward\", \"Model: Denomination\": \"CNN Incpt-LSTM\", \"Input: Window Size\": 6450.0, \"Input: Sampling Rate\": 6, \"Performance Metric: Value\": 29.62, \"Year\": \"2016\", \"No-Ref\": \"he2016_[156]\"}, {\"Reference: Abbreviation\": \"he2016\", \"Reference: Number\": \"[156]\", \"Appliance\": \"fridge\", \"Training: Dataset\": \"UK-DALE\", \"Model: Basic Type\": \"feedforward\", \"Model: Denomination\": \"CNN Incpt-LSTM\", \"Input: Window Size\": 2790.0, \"Input: Sampling Rate\": 6, \"Performance Metric: Value\": 3.22, \"Year\": \"2016\", \"No-Ref\": \"he2016_[156]\"}, {\"Reference: Abbreviation\": \"he2016\", \"Reference: Number\": \"[156]\", \"Appliance\": \"kettle\", \"Training: Dataset\": \"UK-DALE\", \"Model: Basic Type\": \"feedforward\", \"Model: Denomination\": \"CNN Incpt-LSTM\", \"Input: Window Size\": 240.0, \"Input: Sampling Rate\": 6, \"Performance Metric: Value\": 10.21, \"Year\": \"2016\", \"No-Ref\": \"he2016_[156]\"}, {\"Reference: Abbreviation\": \"he2016\", \"Reference: Number\": \"[156]\", \"Appliance\": \"microwave\", \"Training: Dataset\": \"UK-DALE\", \"Model: Basic Type\": \"feedforward\", \"Model: Denomination\": \"CNN Incpt-LSTM\", \"Input: Window Size\": 432.0, \"Input: Sampling Rate\": 6, \"Performance Metric: Value\": 9.42, \"Year\": \"2016\", \"No-Ref\": \"he2016_[156]\"}, {\"Reference: Abbreviation\": \"he2016\", \"Reference: Number\": \"[156]\", \"Appliance\": \"washing machine\", \"Training: Dataset\": \"UK-DALE\", \"Model: Basic Type\": \"feedforward\", \"Model: Denomination\": \"CNN Incpt-LSTM\", \"Input: Window Size\": 7476.0, \"Input: Sampling Rate\": 6, \"Performance Metric: Value\": 73.16, \"Year\": \"2016\", \"No-Ref\": \"he2016_[156]\"}, {\"Reference: Abbreviation\": \"jiang2019\", \"Reference: Number\": \"[83]\", \"Appliance\": \"dishwasher\", \"Training: Dataset\": \"REFIT\", \"Model: Basic Type\": \"feedforward\", \"Model: Denomination\": \"CNN WaveNet\", \"Input: Window Size\": 10230.0, \"Input: Sampling Rate\": 10, \"Performance Metric: Value\": 10.296, \"Year\": \"2019\", \"No-Ref\": \"jiang2019_[83]\"}, {\"Reference: Abbreviation\": \"jiang2019\", \"Reference: Number\": \"[83]\", \"Appliance\": \"kettle\", \"Training: Dataset\": \"REFIT\", \"Model: Basic Type\": \"feedforward\", \"Model: Denomination\": \"CNN WaveNet\", \"Input: Window Size\": 2550.0, \"Input: Sampling Rate\": 10, \"Performance Metric: Value\": 4.726, \"Year\": \"2019\", \"No-Ref\": \"jiang2019_[83]\"}, {\"Reference: Abbreviation\": \"jiang2019\", \"Reference: Number\": \"[83]\", \"Appliance\": \"microwave\", \"Training: Dataset\": \"REFIT\", \"Model: Basic Type\": \"feedforward\", \"Model: Denomination\": \"CNN WaveNet\", \"Input: Window Size\": 2550.0, \"Input: Sampling Rate\": 10, \"Performance Metric: Value\": 3.686, \"Year\": \"2019\", \"No-Ref\": \"jiang2019_[83]\"}, {\"Reference: Abbreviation\": \"jiang2019\", \"Reference: Number\": \"[83]\", \"Appliance\": \"washing machine\", \"Training: Dataset\": \"REFIT\", \"Model: Basic Type\": \"feedforward\", \"Model: Denomination\": \"CNN WaveNet\", \"Input: Window Size\": 20470.0, \"Input: Sampling Rate\": 10, \"Performance Metric: Value\": 3.08, \"Year\": \"2019\", \"No-Ref\": \"jiang2019_[83]\"}, {\"Reference: Abbreviation\": \"kelly2015\", \"Reference: Number\": \"[13]\", \"Appliance\": \"dishwasher\", \"Training: Dataset\": \"UK-DALE\", \"Model: Basic Type\": \"feedforward\", \"Model: Denomination\": \"dAE\", \"Input: Window Size\": 9216.0, \"Input: Sampling Rate\": 6, \"Performance Metric: Value\": 24.0, \"Year\": \"2015\", \"No-Ref\": \"kelly2015_[13]\"}, {\"Reference: Abbreviation\": \"kelly2015\", \"Reference: Number\": \"[13]\", \"Appliance\": \"fridge\", \"Training: Dataset\": \"UK-DALE\", \"Model: Basic Type\": \"recurrent\", \"Model: Denomination\": \"LSTM-bi\", \"Input: Window Size\": 3072.0, \"Input: Sampling Rate\": 6, \"Performance Metric: Value\": 18.0, \"Year\": \"2015\", \"No-Ref\": \"kelly2015_[13]\"}, {\"Reference: Abbreviation\": \"kelly2015\", \"Reference: Number\": \"[13]\", \"Appliance\": \"kettle\", \"Training: Dataset\": \"UK-DALE\", \"Model: Basic Type\": \"feedforward\", \"Model: Denomination\": \"dAE\", \"Input: Window Size\": 768.0, \"Input: Sampling Rate\": 6, \"Performance Metric: Value\": 6.0, \"Year\": \"2015\", \"No-Ref\": \"kelly2015_[13]\"}, {\"Reference: Abbreviation\": \"kelly2015\", \"Reference: Number\": \"[13]\", \"Appliance\": \"microwave\", \"Training: Dataset\": \"UK-DALE\", \"Model: Basic Type\": \"recurrent\", \"Model: Denomination\": \"LSTM-bi\", \"Input: Window Size\": 1728.0, \"Input: Sampling Rate\": 6, \"Performance Metric: Value\": 6.0, \"Year\": \"2015\", \"No-Ref\": \"kelly2015_[13]\"}, {\"Reference: Abbreviation\": \"kelly2015\", \"Reference: Number\": \"[13]\", \"Appliance\": \"washing machine\", \"Training: Dataset\": \"UK-DALE\", \"Model: Basic Type\": \"recurrent\", \"Model: Denomination\": \"LSTM-bi\", \"Input: Window Size\": 6144.0, \"Input: Sampling Rate\": 6, \"Performance Metric: Value\": 11.0, \"Year\": \"2015\", \"No-Ref\": \"kelly2015_[13]\"}, {\"Reference: Abbreviation\": \"krystalakos2018\", \"Reference: Number\": \"[153]\", \"Appliance\": \"dishwasher\", \"Training: Dataset\": \"UK-DALE\", \"Model: Basic Type\": \"feedforward\", \"Model: Denomination\": \"CNN s2p\", \"Input: Window Size\": 300.0, \"Input: Sampling Rate\": 6, \"Performance Metric: Value\": 21.0, \"Year\": \"2018\", \"No-Ref\": \"krystalakos2018_[153]\"}, {\"Reference: Abbreviation\": \"krystalakos2018\", \"Reference: Number\": \"[153]\", \"Appliance\": \"fridge\", \"Training: Dataset\": \"UK-DALE\", \"Model: Basic Type\": \"recurrent\", \"Model: Denomination\": \"LSTM-bi\", \"Input: Window Size\": 300.0, \"Input: Sampling Rate\": 6, \"Performance Metric: Value\": 51.0, \"Year\": \"2018\", \"No-Ref\": \"krystalakos2018_[153]\"}, {\"Reference: Abbreviation\": \"krystalakos2018\", \"Reference: Number\": \"[153]\", \"Appliance\": \"fridge\", \"Training: Dataset\": \"UK-DALE\", \"Model: Basic Type\": \"recurrent\", \"Model: Denomination\": \"GRU-bi\", \"Input: Window Size\": 300.0, \"Input: Sampling Rate\": 6, \"Performance Metric: Value\": 51.0, \"Year\": \"2018\", \"No-Ref\": \"krystalakos2018_[153]\"}, {\"Reference: Abbreviation\": \"krystalakos2018\", \"Reference: Number\": \"[153]\", \"Appliance\": \"fridge\", \"Training: Dataset\": \"UK-DALE\", \"Model: Basic Type\": \"feedforward\", \"Model: Denomination\": \"CNN s2p\", \"Input: Window Size\": 300.0, \"Input: Sampling Rate\": 6, \"Performance Metric: Value\": 51.0, \"Year\": \"2018\", \"No-Ref\": \"krystalakos2018_[153]\"}, {\"Reference: Abbreviation\": \"krystalakos2018\", \"Reference: Number\": \"[153]\", \"Appliance\": \"kettle\", \"Training: Dataset\": \"UK-DALE\", \"Model: Basic Type\": \"feedforward\", \"Model: Denomination\": \"CNN s2p\", \"Input: Window Size\": 300.0, \"Input: Sampling Rate\": 6, \"Performance Metric: Value\": 4.0, \"Year\": \"2018\", \"No-Ref\": \"krystalakos2018_[153]\"}, {\"Reference: Abbreviation\": \"krystalakos2018\", \"Reference: Number\": \"[153]\", \"Appliance\": \"microwave\", \"Training: Dataset\": \"UK-DALE\", \"Model: Basic Type\": \"recurrent\", \"Model: Denomination\": \"LSTM-bi\", \"Input: Window Size\": 300.0, \"Input: Sampling Rate\": 6, \"Performance Metric: Value\": 86.0, \"Year\": \"2018\", \"No-Ref\": \"krystalakos2018_[153]\"}, {\"Reference: Abbreviation\": \"krystalakos2018\", \"Reference: Number\": \"[153]\", \"Appliance\": \"washing machine\", \"Training: Dataset\": \"UK-DALE\", \"Model: Basic Type\": \"feedforward\", \"Model: Denomination\": \"CNN s2p\", \"Input: Window Size\": 600.0, \"Input: Sampling Rate\": 6, \"Performance Metric: Value\": 17.0, \"Year\": \"2018\", \"No-Ref\": \"krystalakos2018_[153]\"}, {\"Reference: Abbreviation\": \"kukunuri2020\", \"Reference: Number\": \"[127]\", \"Appliance\": \"dishwasher\", \"Training: Dataset\": \"REDD\", \"Model: Basic Type\": \"feedforward\", \"Model: Denomination\": \"STL Normally Pruning (60%)\", \"Input: Window Size\": 5940.0, \"Input: Sampling Rate\": 60, \"Performance Metric: Value\": 12.58, \"Year\": \"2020\", \"No-Ref\": \"kukunuri2020_[127]\"}, {\"Reference: Abbreviation\": \"kukunuri2020\", \"Reference: Number\": \"[127]\", \"Appliance\": \"fridge\", \"Training: Dataset\": \"REDD\", \"Model: Basic Type\": \"feedforward\", \"Model: Denomination\": \"STL Rank 8 Tensor D.\", \"Input: Window Size\": 5940.0, \"Input: Sampling Rate\": 60, \"Performance Metric: Value\": 38.54, \"Year\": \"2020\", \"No-Ref\": \"kukunuri2020_[127]\"}, {\"Reference: Abbreviation\": \"kukunuri2020\", \"Reference: Number\": \"[127]\", \"Appliance\": \"washing machine\", \"Training: Dataset\": \"REDD\", \"Model: Basic Type\": \"feedforward\", \"Model: Denomination\": \"STL Normally Pruning (90%)\", \"Input: Window Size\": 5940.0, \"Input: Sampling Rate\": 60, \"Performance Metric: Value\": 19.15, \"Year\": \"2020\", \"No-Ref\": \"kukunuri2020_[127]\"}, {\"Reference: Abbreviation\": \"massidda2020\", \"Reference: Number\": \"[122]\", \"Appliance\": \"dishwasher\", \"Training: Dataset\": \"UK-DALE\", \"Model: Basic Type\": \"feedforward\", \"Model: Denomination\": \"TP-NILM\", \"Input: Window Size\": 30600.0, \"Input: Sampling Rate\": 60, \"Performance Metric: Value\": 33.07, \"Year\": \"2020\", \"No-Ref\": \"massidda2020_[122]\"}, {\"Reference: Abbreviation\": \"massidda2020\", \"Reference: Number\": \"[122]\", \"Appliance\": \"fridge\", \"Training: Dataset\": \"UK-DALE\", \"Model: Basic Type\": \"feedforward\", \"Model: Denomination\": \"TP-NILM\", \"Input: Window Size\": 30600.0, \"Input: Sampling Rate\": 60, \"Performance Metric: Value\": 17.03, \"Year\": \"2020\", \"No-Ref\": \"massidda2020_[122]\"}, {\"Reference: Abbreviation\": \"massidda2020\", \"Reference: Number\": \"[122]\", \"Appliance\": \"washing machine\", \"Training: Dataset\": \"UK-DALE\", \"Model: Basic Type\": \"feedforward\", \"Model: Denomination\": \"TP-NILM\", \"Input: Window Size\": 30600.0, \"Input: Sampling Rate\": 60, \"Performance Metric: Value\": 8.31, \"Year\": \"2020\", \"No-Ref\": \"massidda2020_[122]\"}, {\"Reference: Abbreviation\": \"mottahedi2016\", \"Reference: Number\": \"[74]\", \"Appliance\": \"microwave\", \"Training: Dataset\": \"DataPort\", \"Model: Basic Type\": \"feedforward\", \"Model: Denomination\": \"GASF+CNN\", \"Input: Window Size\": 6000.0, \"Input: Sampling Rate\": 60, \"Performance Metric: Value\": 9.49, \"Year\": \"2016\", \"No-Ref\": \"mottahedi2016_[74]\"}, {\"Reference: Abbreviation\": \"murray2019\", \"Reference: Number\": \"[55]\", \"Appliance\": \"dishwasher\", \"Training: Dataset\": \"REDD\", \"Model: Basic Type\": \"recurrent\", \"Model: Denomination\": \"RNN-GRU\", \"Input: Window Size\": 2400.0, \"Input: Sampling Rate\": 8, \"Performance Metric: Value\": 98.9, \"Year\": \"2019\", \"No-Ref\": \"murray2019_[55]\"}, {\"Reference: Abbreviation\": \"murray2019\", \"Reference: Number\": \"[55]\", \"Appliance\": \"dishwasher\", \"Training: Dataset\": \"REFIT\", \"Model: Basic Type\": \"recurrent\", \"Model: Denomination\": \"RNN-GRU\", \"Input: Window Size\": 2400.0, \"Input: Sampling Rate\": 8, \"Performance Metric: Value\": 73.53, \"Year\": \"2019\", \"No-Ref\": \"murray2019_[55]\"}, {\"Reference: Abbreviation\": \"murray2019\", \"Reference: Number\": \"[55]\", \"Appliance\": \"fridge\", \"Training: Dataset\": \"REDD\", \"Model: Basic Type\": \"feedforward\", \"Model: Denomination\": \"CNN\", \"Input: Window Size\": 6400.0, \"Input: Sampling Rate\": 8, \"Performance Metric: Value\": 10.14, \"Year\": \"2019\", \"No-Ref\": \"murray2019_[55]\"}, {\"Reference: Abbreviation\": \"murray2019\", \"Reference: Number\": \"[55]\", \"Appliance\": \"fridge\", \"Training: Dataset\": \"REFIT\", \"Model: Basic Type\": \"feedforward\", \"Model: Denomination\": \"CNN\", \"Input: Window Size\": 6400.0, \"Input: Sampling Rate\": 8, \"Performance Metric: Value\": 8.56, \"Year\": \"2019\", \"No-Ref\": \"murray2019_[55]\"}, {\"Reference: Abbreviation\": \"murray2019\", \"Reference: Number\": \"[55]\", \"Appliance\": \"microwave\", \"Training: Dataset\": \"REDD\", \"Model: Basic Type\": \"feedforward\", \"Model: Denomination\": \"CNN\", \"Input: Window Size\": 720.0, \"Input: Sampling Rate\": 8, \"Performance Metric: Value\": 68.2, \"Year\": \"2019\", \"No-Ref\": \"murray2019_[55]\"}, {\"Reference: Abbreviation\": \"murray2019\", \"Reference: Number\": \"[55]\", \"Appliance\": \"microwave\", \"Training: Dataset\": \"REFIT\", \"Model: Basic Type\": \"feedforward\", \"Model: Denomination\": \"CNN\", \"Input: Window Size\": 720.0, \"Input: Sampling Rate\": 8, \"Performance Metric: Value\": 35.49, \"Year\": \"2019\", \"No-Ref\": \"murray2019_[55]\"}, {\"Reference: Abbreviation\": \"murray2019\", \"Reference: Number\": \"[55]\", \"Appliance\": \"washing machine\", \"Training: Dataset\": \"REFIT\", \"Model: Basic Type\": \"feedforward\", \"Model: Denomination\": \"CNN\", \"Input: Window Size\": 2400.0, \"Input: Sampling Rate\": 8, \"Performance Metric: Value\": 71.99, \"Year\": \"2019\", \"No-Ref\": \"murray2019_[55]\"}, {\"Reference: Abbreviation\": \"pan2020\", \"Reference: Number\": \"[66]\", \"Appliance\": \"dishwasher\", \"Training: Dataset\": \"REFIT\", \"Model: Basic Type\": \"feedforward\", \"Model: Denomination\": \"Unet-cGAN\", \"Input: Window Size\": 8192.0, \"Input: Sampling Rate\": 8, \"Performance Metric: Value\": 4.8, \"Year\": \"2020\", \"No-Ref\": \"pan2020_[66]\"}, {\"Reference: Abbreviation\": \"pan2020\", \"Reference: Number\": \"[66]\", \"Appliance\": \"dishwasher\", \"Training: Dataset\": \"UK-DALE\", \"Model: Basic Type\": \"feedforward\", \"Model: Denomination\": \"Unet-cGAN\", \"Input: Window Size\": 8192.0, \"Input: Sampling Rate\": 8, \"Performance Metric: Value\": 13.52, \"Year\": \"2020\", \"No-Ref\": \"pan2020_[66]\"}, {\"Reference: Abbreviation\": \"pan2020\", \"Reference: Number\": \"[66]\", \"Appliance\": \"fridge\", \"Training: Dataset\": \"REFIT\", \"Model: Basic Type\": \"feedforward\", \"Model: Denomination\": \"Unet-cGAN\", \"Input: Window Size\": 8192.0, \"Input: Sampling Rate\": 8, \"Performance Metric: Value\": 16.77, \"Year\": \"2020\", \"No-Ref\": \"pan2020_[66]\"}, {\"Reference: Abbreviation\": \"pan2020\", \"Reference: Number\": \"[66]\", \"Appliance\": \"fridge\", \"Training: Dataset\": \"UK-DALE\", \"Model: Basic Type\": \"feedforward\", \"Model: Denomination\": \"Unet-cGAN\", \"Input: Window Size\": 8192.0, \"Input: Sampling Rate\": 8, \"Performance Metric: Value\": 11.86, \"Year\": \"2020\", \"No-Ref\": \"pan2020_[66]\"}, {\"Reference: Abbreviation\": \"pan2020\", \"Reference: Number\": \"[66]\", \"Appliance\": \"kettle\", \"Training: Dataset\": \"REFIT\", \"Model: Basic Type\": \"feedforward\", \"Model: Denomination\": \"Unet-cGAN\", \"Input: Window Size\": 8192.0, \"Input: Sampling Rate\": 8, \"Performance Metric: Value\": 6.43, \"Year\": \"2020\", \"No-Ref\": \"pan2020_[66]\"}, {\"Reference: Abbreviation\": \"pan2020\", \"Reference: Number\": \"[66]\", \"Appliance\": \"kettle\", \"Training: Dataset\": \"UK-DALE\", \"Model: Basic Type\": \"feedforward\", \"Model: Denomination\": \"Unet-cGAN\", \"Input: Window Size\": 8192.0, \"Input: Sampling Rate\": 8, \"Performance Metric: Value\": 3.59, \"Year\": \"2020\", \"No-Ref\": \"pan2020_[66]\"}, {\"Reference: Abbreviation\": \"pan2020\", \"Reference: Number\": \"[66]\", \"Appliance\": \"microwave\", \"Training: Dataset\": \"REFIT\", \"Model: Basic Type\": \"feedforward\", \"Model: Denomination\": \"Unet-cGAN\", \"Input: Window Size\": 8192.0, \"Input: Sampling Rate\": 8, \"Performance Metric: Value\": 5.88, \"Year\": \"2020\", \"No-Ref\": \"pan2020_[66]\"}, {\"Reference: Abbreviation\": \"pan2020\", \"Reference: Number\": \"[66]\", \"Appliance\": \"microwave\", \"Training: Dataset\": \"UK-DALE\", \"Model: Basic Type\": \"feedforward\", \"Model: Denomination\": \"Unet-cGAN\", \"Input: Window Size\": 8192.0, \"Input: Sampling Rate\": 8, \"Performance Metric: Value\": 3.14, \"Year\": \"2020\", \"No-Ref\": \"pan2020_[66]\"}, {\"Reference: Abbreviation\": \"pan2020\", \"Reference: Number\": \"[66]\", \"Appliance\": \"washing machine\", \"Training: Dataset\": \"REFIT\", \"Model: Basic Type\": \"feedforward\", \"Model: Denomination\": \"Unet-cGAN\", \"Input: Window Size\": 8192.0, \"Input: Sampling Rate\": 8, \"Performance Metric: Value\": 16.72, \"Year\": \"2020\", \"No-Ref\": \"pan2020_[66]\"}, {\"Reference: Abbreviation\": \"pan2020\", \"Reference: Number\": \"[66]\", \"Appliance\": \"washing machine\", \"Training: Dataset\": \"UK-DALE\", \"Model: Basic Type\": \"feedforward\", \"Model: Denomination\": \"Unet-cGAN\", \"Input: Window Size\": 8192.0, \"Input: Sampling Rate\": 8, \"Performance Metric: Value\": 7.11, \"Year\": \"2020\", \"No-Ref\": \"pan2020_[66]\"}, {\"Reference: Abbreviation\": \"rafiq2020\", \"Reference: Number\": \"[61]\", \"Appliance\": \"dishwasher\", \"Training: Dataset\": \"UK-DALE\", \"Model: Basic Type\": \"combined\", \"Model: Denomination\": \"MFS-LSTM\", \"Input: Window Size\": -1.0, \"Input: Sampling Rate\": 1, \"Performance Metric: Value\": 15.275, \"Year\": \"2020\", \"No-Ref\": \"rafiq2020_[61]\"}, {\"Reference: Abbreviation\": \"rafiq2020\", \"Reference: Number\": \"[61]\", \"Appliance\": \"fridge\", \"Training: Dataset\": \"UK-DALE\", \"Model: Basic Type\": \"combined\", \"Model: Denomination\": \"MFS-LSTM\", \"Input: Window Size\": -1.0, \"Input: Sampling Rate\": 1, \"Performance Metric: Value\": 19.608, \"Year\": \"2020\", \"No-Ref\": \"rafiq2020_[61]\"}, {\"Reference: Abbreviation\": \"rafiq2020\", \"Reference: Number\": \"[61]\", \"Appliance\": \"kettle\", \"Training: Dataset\": \"UK-DALE\", \"Model: Basic Type\": \"combined\", \"Model: Denomination\": \"MFS-LSTM\", \"Input: Window Size\": -1.0, \"Input: Sampling Rate\": 1, \"Performance Metric: Value\": 1.966, \"Year\": \"2020\", \"No-Ref\": \"rafiq2020_[61]\"}, {\"Reference: Abbreviation\": \"rafiq2020\", \"Reference: Number\": \"[61]\", \"Appliance\": \"microwave\", \"Training: Dataset\": \"UK-DALE\", \"Model: Basic Type\": \"combined\", \"Model: Denomination\": \"MFS-LSTM\", \"Input: Window Size\": -1.0, \"Input: Sampling Rate\": 1, \"Performance Metric: Value\": 0.392, \"Year\": \"2020\", \"No-Ref\": \"rafiq2020_[61]\"}, {\"Reference: Abbreviation\": \"rafiq2020\", \"Reference: Number\": \"[61]\", \"Appliance\": \"washing machine\", \"Training: Dataset\": \"UK-DALE\", \"Model: Basic Type\": \"combined\", \"Model: Denomination\": \"MFS-LSTM\", \"Input: Window Size\": -1.0, \"Input: Sampling Rate\": 1, \"Performance Metric: Value\": 14.422, \"Year\": \"2020\", \"No-Ref\": \"rafiq2020_[61]\"}, {\"Reference: Abbreviation\": \"shin2018\", \"Reference: Number\": \"[82]\", \"Appliance\": \"dishwasher\", \"Training: Dataset\": \"REDD\", \"Model: Basic Type\": \"feedforward\", \"Model: Denomination\": \"CNN SGN\", \"Input: Window Size\": 1200.0, \"Input: Sampling Rate\": 3, \"Performance Metric: Value\": 14.97, \"Year\": \"2018\", \"No-Ref\": \"shin2018_[82]\"}, {\"Reference: Abbreviation\": \"shin2018\", \"Reference: Number\": \"[82]\", \"Appliance\": \"dishwasher\", \"Training: Dataset\": \"UK-DALE\", \"Model: Basic Type\": \"feedforward\", \"Model: Denomination\": \"CNN SGN-sp\", \"Input: Window Size\": 1200.0, \"Input: Sampling Rate\": 6, \"Performance Metric: Value\": 13.49, \"Year\": \"2018\", \"No-Ref\": \"shin2018_[82]\"}, {\"Reference: Abbreviation\": \"shin2018\", \"Reference: Number\": \"[82]\", \"Appliance\": \"fridge\", \"Training: Dataset\": \"REDD\", \"Model: Basic Type\": \"feedforward\", \"Model: Denomination\": \"CNN HardSGN-sp\", \"Input: Window Size\": 1200.0, \"Input: Sampling Rate\": 3, \"Performance Metric: Value\": 22.86, \"Year\": \"2018\", \"No-Ref\": \"shin2018_[82]\"}, {\"Reference: Abbreviation\": \"shin2018\", \"Reference: Number\": \"[82]\", \"Appliance\": \"fridge\", \"Training: Dataset\": \"UK-DALE\", \"Model: Basic Type\": \"feedforward\", \"Model: Denomination\": \"CNN HardSGN-sp\", \"Input: Window Size\": 1200.0, \"Input: Sampling Rate\": 6, \"Performance Metric: Value\": 10.93, \"Year\": \"2018\", \"No-Ref\": \"shin2018_[82]\"}, {\"Reference: Abbreviation\": \"shin2018\", \"Reference: Number\": \"[82]\", \"Appliance\": \"kettle\", \"Training: Dataset\": \"UK-DALE\", \"Model: Basic Type\": \"feedforward\", \"Model: Denomination\": \"CNN SGN-sp\", \"Input: Window Size\": 1200.0, \"Input: Sampling Rate\": 6, \"Performance Metric: Value\": 5.96, \"Year\": \"2018\", \"No-Ref\": \"shin2018_[82]\"}, {\"Reference: Abbreviation\": \"shin2018\", \"Reference: Number\": \"[82]\", \"Appliance\": \"microwave\", \"Training: Dataset\": \"REDD\", \"Model: Basic Type\": \"feedforward\", \"Model: Denomination\": \"CNN SGN-sp\", \"Input: Window Size\": 1200.0, \"Input: Sampling Rate\": 3, \"Performance Metric: Value\": 15.98, \"Year\": \"2018\", \"No-Ref\": \"shin2018_[82]\"}, {\"Reference: Abbreviation\": \"shin2018\", \"Reference: Number\": \"[82]\", \"Appliance\": \"microwave\", \"Training: Dataset\": \"UK-DALE\", \"Model: Basic Type\": \"feedforward\", \"Model: Denomination\": \"CNN HardSGN\", \"Input: Window Size\": 1200.0, \"Input: Sampling Rate\": 6, \"Performance Metric: Value\": 4.53, \"Year\": \"2018\", \"No-Ref\": \"shin2018_[82]\"}, {\"Reference: Abbreviation\": \"shin2018\", \"Reference: Number\": \"[82]\", \"Appliance\": \"washing machine\", \"Training: Dataset\": \"REDD\", \"Model: Basic Type\": \"feedforward\", \"Model: Denomination\": \"CNN HardSGN\", \"Input: Window Size\": 1200.0, \"Input: Sampling Rate\": 3, \"Performance Metric: Value\": 18.24, \"Year\": \"2018\", \"No-Ref\": \"shin2018_[82]\"}, {\"Reference: Abbreviation\": \"shin2018\", \"Reference: Number\": \"[82]\", \"Appliance\": \"washing machine\", \"Training: Dataset\": \"UK-DALE\", \"Model: Basic Type\": \"feedforward\", \"Model: Denomination\": \"CNN SGN-sp\", \"Input: Window Size\": 1200.0, \"Input: Sampling Rate\": 6, \"Performance Metric: Value\": 11.04, \"Year\": \"2018\", \"No-Ref\": \"shin2018_[82]\"}, {\"Reference: Abbreviation\": \"shin2019a\", \"Reference: Number\": \"[59]\", \"Appliance\": \"washing machine\", \"Training: Dataset\": \"Enertalk\", \"Model: Basic Type\": \"feedforward\", \"Model: Denomination\": \"SGN\", \"Input: Window Size\": 90.0, \"Input: Sampling Rate\": 0.1, \"Performance Metric: Value\": 14.816, \"Year\": \"019a\", \"No-Ref\": \"shin2019a_[59]\"}, {\"Reference: Abbreviation\": \"sirojan2018\", \"Reference: Number\": \"[149]\", \"Appliance\": \"dishwasher\", \"Training: Dataset\": \"UK-DALE\", \"Model: Basic Type\": \"feedforward\", \"Model: Denomination\": \"CNN VAE\", \"Input: Window Size\": -1.0, \"Input: Sampling Rate\": 6, \"Performance Metric: Value\": 19.6, \"Year\": \"2018\", \"No-Ref\": \"sirojan2018_[149]\"}, {\"Reference: Abbreviation\": \"sirojan2018\", \"Reference: Number\": \"[149]\", \"Appliance\": \"fridge\", \"Training: Dataset\": \"UK-DALE\", \"Model: Basic Type\": \"feedforward\", \"Model: Denomination\": \"CNN VAE\", \"Input: Window Size\": -1.0, \"Input: Sampling Rate\": 6, \"Performance Metric: Value\": 18.1, \"Year\": \"2018\", \"No-Ref\": \"sirojan2018_[149]\"}, {\"Reference: Abbreviation\": \"sirojan2018\", \"Reference: Number\": \"[149]\", \"Appliance\": \"kettle\", \"Training: Dataset\": \"UK-DALE\", \"Model: Basic Type\": \"feedforward\", \"Model: Denomination\": \"CNN VAE\", \"Input: Window Size\": -1.0, \"Input: Sampling Rate\": 6, \"Performance Metric: Value\": 7.0, \"Year\": \"2018\", \"No-Ref\": \"sirojan2018_[149]\"}, {\"Reference: Abbreviation\": \"sirojan2018\", \"Reference: Number\": \"[149]\", \"Appliance\": \"microwave\", \"Training: Dataset\": \"UK-DALE\", \"Model: Basic Type\": \"feedforward\", \"Model: Denomination\": \"CNN VAE\", \"Input: Window Size\": -1.0, \"Input: Sampling Rate\": 6, \"Performance Metric: Value\": 7.5, \"Year\": \"2018\", \"No-Ref\": \"sirojan2018_[149]\"}, {\"Reference: Abbreviation\": \"sirojan2018\", \"Reference: Number\": \"[149]\", \"Appliance\": \"washing machine\", \"Training: Dataset\": \"UK-DALE\", \"Model: Basic Type\": \"feedforward\", \"Model: Denomination\": \"CNN VAE\", \"Input: Window Size\": -1.0, \"Input: Sampling Rate\": 6, \"Performance Metric: Value\": 10.8, \"Year\": \"2018\", \"No-Ref\": \"sirojan2018_[149]\"}, {\"Reference: Abbreviation\": \"yue2020\", \"Reference: Number\": \"[97]\", \"Appliance\": \"dishwasher\", \"Training: Dataset\": \"REDD\", \"Model: Basic Type\": \"feedforward\", \"Model: Denomination\": \"BERT\", \"Input: Window Size\": 2880.0, \"Input: Sampling Rate\": 6, \"Performance Metric: Value\": 20.49, \"Year\": \"2020\", \"No-Ref\": \"yue2020_[97]\"}, {\"Reference: Abbreviation\": \"yue2020\", \"Reference: Number\": \"[97]\", \"Appliance\": \"dishwasher\", \"Training: Dataset\": \"UK-DALE\", \"Model: Basic Type\": \"feedforward\", \"Model: Denomination\": \"BERT\", \"Input: Window Size\": 2880.0, \"Input: Sampling Rate\": 6, \"Performance Metric: Value\": 16.18, \"Year\": \"2020\", \"No-Ref\": \"yue2020_[97]\"}, {\"Reference: Abbreviation\": \"yue2020\", \"Reference: Number\": \"[97]\", \"Appliance\": \"fridge\", \"Training: Dataset\": \"REDD\", \"Model: Basic Type\": \"feedforward\", \"Model: Denomination\": \"BERT\", \"Input: Window Size\": 2880.0, \"Input: Sampling Rate\": 6, \"Performance Metric: Value\": 32.35, \"Year\": \"2020\", \"No-Ref\": \"yue2020_[97]\"}, {\"Reference: Abbreviation\": \"yue2020\", \"Reference: Number\": \"[97]\", \"Appliance\": \"fridge\", \"Training: Dataset\": \"UK-DALE\", \"Model: Basic Type\": \"feedforward\", \"Model: Denomination\": \"BERT\", \"Input: Window Size\": 2880.0, \"Input: Sampling Rate\": 6, \"Performance Metric: Value\": 25.49, \"Year\": \"2020\", \"No-Ref\": \"yue2020_[97]\"}, {\"Reference: Abbreviation\": \"yue2020\", \"Reference: Number\": \"[97]\", \"Appliance\": \"kettle\", \"Training: Dataset\": \"UK-DALE\", \"Model: Basic Type\": \"feedforward\", \"Model: Denomination\": \"BERT\", \"Input: Window Size\": 2880.0, \"Input: Sampling Rate\": 6, \"Performance Metric: Value\": 6.82, \"Year\": \"2020\", \"No-Ref\": \"yue2020_[97]\"}, {\"Reference: Abbreviation\": \"yue2020\", \"Reference: Number\": \"[97]\", \"Appliance\": \"microwave\", \"Training: Dataset\": \"REDD\", \"Model: Basic Type\": \"feedforward\", \"Model: Denomination\": \"BERT\", \"Input: Window Size\": 2880.0, \"Input: Sampling Rate\": 6, \"Performance Metric: Value\": 17.58, \"Year\": \"2020\", \"No-Ref\": \"yue2020_[97]\"}, {\"Reference: Abbreviation\": \"yue2020\", \"Reference: Number\": \"[97]\", \"Appliance\": \"microwave\", \"Training: Dataset\": \"UK-DALE\", \"Model: Basic Type\": \"feedforward\", \"Model: Denomination\": \"BERT\", \"Input: Window Size\": 2880.0, \"Input: Sampling Rate\": 6, \"Performance Metric: Value\": 6.57, \"Year\": \"2020\", \"No-Ref\": \"yue2020_[97]\"}, {\"Reference: Abbreviation\": \"yue2020\", \"Reference: Number\": \"[97]\", \"Appliance\": \"washing machine\", \"Training: Dataset\": \"REDD\", \"Model: Basic Type\": \"feedforward\", \"Model: Denomination\": \"BERT\", \"Input: Window Size\": 2880.0, \"Input: Sampling Rate\": 6, \"Performance Metric: Value\": 34.96, \"Year\": \"2020\", \"No-Ref\": \"yue2020_[97]\"}, {\"Reference: Abbreviation\": \"yue2020\", \"Reference: Number\": \"[97]\", \"Appliance\": \"washing machine\", \"Training: Dataset\": \"UK-DALE\", \"Model: Basic Type\": \"feedforward\", \"Model: Denomination\": \"BERT\", \"Input: Window Size\": 2880.0, \"Input: Sampling Rate\": 6, \"Performance Metric: Value\": 6.98, \"Year\": \"2020\", \"No-Ref\": \"yue2020_[97]\"}, {\"Reference: Abbreviation\": \"zhang2016\", \"Reference: Number\": \"[75]\", \"Appliance\": \"dishwasher\", \"Training: Dataset\": \"REDD\", \"Model: Basic Type\": \"feedforward\", \"Model: Denomination\": \"CNN s2s\", \"Input: Window Size\": 1797.0, \"Input: Sampling Rate\": 3, \"Performance Metric: Value\": 19.449, \"Year\": \"2016\", \"No-Ref\": \"zhang2016_[75]\"}, {\"Reference: Abbreviation\": \"zhang2016\", \"Reference: Number\": \"[75]\", \"Appliance\": \"dishwasher\", \"Training: Dataset\": \"UK-DALE\", \"Model: Basic Type\": \"feedforward\", \"Model: Denomination\": \"CNN s2p\", \"Input: Window Size\": 3594.0, \"Input: Sampling Rate\": 6, \"Performance Metric: Value\": 27.704, \"Year\": \"2016\", \"No-Ref\": \"zhang2016_[75]\"}, {\"Reference: Abbreviation\": \"zhang2016\", \"Reference: Number\": \"[75]\", \"Appliance\": \"fridge\", \"Training: Dataset\": \"REDD\", \"Model: Basic Type\": \"feedforward\", \"Model: Denomination\": \"CNN s2p\", \"Input: Window Size\": 1797.0, \"Input: Sampling Rate\": 3, \"Performance Metric: Value\": 28.104, \"Year\": \"2016\", \"No-Ref\": \"zhang2016_[75]\"}, {\"Reference: Abbreviation\": \"zhang2016\", \"Reference: Number\": \"[75]\", \"Appliance\": \"fridge\", \"Training: Dataset\": \"UK-DALE\", \"Model: Basic Type\": \"feedforward\", \"Model: Denomination\": \"CNN s2p\", \"Input: Window Size\": 3594.0, \"Input: Sampling Rate\": 6, \"Performance Metric: Value\": 20.894, \"Year\": \"2016\", \"No-Ref\": \"zhang2016_[75]\"}, {\"Reference: Abbreviation\": \"zhang2016\", \"Reference: Number\": \"[75]\", \"Appliance\": \"kettle\", \"Training: Dataset\": \"UK-DALE\", \"Model: Basic Type\": \"feedforward\", \"Model: Denomination\": \"CNN s2p\", \"Input: Window Size\": 3594.0, \"Input: Sampling Rate\": 6, \"Performance Metric: Value\": 7.439, \"Year\": \"2016\", \"No-Ref\": \"zhang2016_[75]\"}, {\"Reference: Abbreviation\": \"zhang2016\", \"Reference: Number\": \"[75]\", \"Appliance\": \"microwave\", \"Training: Dataset\": \"REDD\", \"Model: Basic Type\": \"feedforward\", \"Model: Denomination\": \"CNN s2p\", \"Input: Window Size\": 1797.0, \"Input: Sampling Rate\": 3, \"Performance Metric: Value\": 28.199, \"Year\": \"2016\", \"No-Ref\": \"zhang2016_[75]\"}, {\"Reference: Abbreviation\": \"zhang2016\", \"Reference: Number\": \"[75]\", \"Appliance\": \"microwave\", \"Training: Dataset\": \"UK-DALE\", \"Model: Basic Type\": \"feedforward\", \"Model: Denomination\": \"CNN s2p\", \"Input: Window Size\": 3594.0, \"Input: Sampling Rate\": 6, \"Performance Metric: Value\": 8.661, \"Year\": \"2016\", \"No-Ref\": \"zhang2016_[75]\"}, {\"Reference: Abbreviation\": \"zhang2016\", \"Reference: Number\": \"[75]\", \"Appliance\": \"washing machine\", \"Training: Dataset\": \"REDD\", \"Model: Basic Type\": \"feedforward\", \"Model: Denomination\": \"CNN s2p\", \"Input: Window Size\": 1797.0, \"Input: Sampling Rate\": 3, \"Performance Metric: Value\": 18.423, \"Year\": \"2016\", \"No-Ref\": \"zhang2016_[75]\"}, {\"Reference: Abbreviation\": \"zhang2016\", \"Reference: Number\": \"[75]\", \"Appliance\": \"washing machine\", \"Training: Dataset\": \"UK-DALE\", \"Model: Basic Type\": \"feedforward\", \"Model: Denomination\": \"CNN s2s\", \"Input: Window Size\": 3594.0, \"Input: Sampling Rate\": 6, \"Performance Metric: Value\": 10.153, \"Year\": \"2016\", \"No-Ref\": \"zhang2016_[75]\"}]}}, {\"mode\": \"vega-lite\"});\n",
       "</script>"
      ],
      "text/plain": [
       "alt.HConcatChart(...)"
      ]
     },
     "execution_count": 21,
     "metadata": {},
     "output_type": "execute_result"
    }
   ],
   "source": [
    "# Visualization Dishwasher,\n",
    "layers = []\n",
    "for key, par in params.items():\n",
    "    upper_bound = par['upper_bound']\n",
    "    lower_bound = par['lower_bound']\n",
    "    width = par['width']\n",
    "    height = par['height']\n",
    "    app = par['app']\n",
    "    sortByDataset = alt.Chart().mark_point(clip=True, size=90, filled=True).encode(\n",
    "        x=alt.X('Training: Dataset:N', title='Dataset'),\n",
    "        #y=alt.Y('Performance Metric: Value:Q', title='MAE [W]', scale=alt.Scale(domain=(lower_bound, upper_bound))),\n",
    "        y=alt.Y('Performance Metric: Value:Q', title='MAE [W]', scale=alt.Scale(domain=(lower_bound, upper_bound))),\n",
    "        color=alt.Color('Reference: Number:N', legend=alt.Legend(title='Publication'), scale=alt.Scale(scheme = 'category20')), \n",
    "        # color=alt.Color('No-Ref', legend=alt.Legend(title='Publication'), scale=alt.Scale(scheme = 'category20')), \n",
    "    ).transform_filter(\n",
    "        alt.FieldOneOfPredicate(field='Appliance', oneOf=[app])\n",
    "    ).properties(\n",
    "        title=key\n",
    "    )\n",
    "#    text = alt.Chart().mark_text(\n",
    "#        clip=True, align='left', dy=-7, dx=-15,\n",
    "#        fontSize=13\n",
    "#    ).encode(\n",
    "#        x=alt.X('Training: Dataset:N'),\n",
    "#        y=alt.Y('Performance Metric: Value:Q', title='MAE [W]', scale=alt.Scale(domain=(lower_bound, upper_bound))),\n",
    "#    #    text = 'Reference: Abbreviation:N'\n",
    "#        text = 'Reference: Number:N'\n",
    "#    ).transform_filter(\n",
    "#        alt.FieldOneOfPredicate(field='Appliance', oneOf=[key])\n",
    "#    )\n",
    "    layers.append(alt.layer(\n",
    "        sortByDataset, \n",
    "        data=df_mae, width=width, height=height\n",
    "    ))\n",
    "alt.hconcat(*layers, spacing=40, bounds='flush')"
   ]
  },
  {
   "cell_type": "code",
   "execution_count": 22,
   "metadata": {},
   "outputs": [
    {
     "data": {
      "text/html": [
       "\n",
       "<div id=\"altair-viz-9a9e1e892e4545cd99c0cca4533c0c92\"></div>\n",
       "<script type=\"text/javascript\">\n",
       "  (function(spec, embedOpt){\n",
       "    let outputDiv = document.currentScript.previousElementSibling;\n",
       "    if (outputDiv.id !== \"altair-viz-9a9e1e892e4545cd99c0cca4533c0c92\") {\n",
       "      outputDiv = document.getElementById(\"altair-viz-9a9e1e892e4545cd99c0cca4533c0c92\");\n",
       "    }\n",
       "    const paths = {\n",
       "      \"vega\": \"https://cdn.jsdelivr.net/npm//vega@5?noext\",\n",
       "      \"vega-lib\": \"https://cdn.jsdelivr.net/npm//vega-lib?noext\",\n",
       "      \"vega-lite\": \"https://cdn.jsdelivr.net/npm//vega-lite@4.8.1?noext\",\n",
       "      \"vega-embed\": \"https://cdn.jsdelivr.net/npm//vega-embed@6?noext\",\n",
       "    };\n",
       "\n",
       "    function loadScript(lib) {\n",
       "      return new Promise(function(resolve, reject) {\n",
       "        var s = document.createElement('script');\n",
       "        s.src = paths[lib];\n",
       "        s.async = true;\n",
       "        s.onload = () => resolve(paths[lib]);\n",
       "        s.onerror = () => reject(`Error loading script: ${paths[lib]}`);\n",
       "        document.getElementsByTagName(\"head\")[0].appendChild(s);\n",
       "      });\n",
       "    }\n",
       "\n",
       "    function showError(err) {\n",
       "      outputDiv.innerHTML = `<div class=\"error\" style=\"color:red;\">${err}</div>`;\n",
       "      throw err;\n",
       "    }\n",
       "\n",
       "    function displayChart(vegaEmbed) {\n",
       "      vegaEmbed(outputDiv, spec, embedOpt)\n",
       "        .catch(err => showError(`Javascript Error: ${err.message}<br>This usually means there's a typo in your chart specification. See the javascript console for the full traceback.`));\n",
       "    }\n",
       "\n",
       "    if(typeof define === \"function\" && define.amd) {\n",
       "      requirejs.config({paths});\n",
       "      require([\"vega-embed\"], displayChart, err => showError(`Error loading script: ${err.message}`));\n",
       "    } else if (typeof vegaEmbed === \"function\") {\n",
       "      displayChart(vegaEmbed);\n",
       "    } else {\n",
       "      loadScript(\"vega\")\n",
       "        .then(() => loadScript(\"vega-lite\"))\n",
       "        .then(() => loadScript(\"vega-embed\"))\n",
       "        .catch(showError)\n",
       "        .then(() => displayChart(vegaEmbed));\n",
       "    }\n",
       "  })({\"config\": {\"view\": {\"continuousWidth\": 400, \"continuousHeight\": 300}, \"facet\": {\"spacing\": 7}, \"header\": {\"labelFontSize\": 14, \"titleFontSize\": 14}}, \"data\": {\"name\": \"data-2245cfebe5c2fad1d70a997f3e81603b\"}, \"facet\": {\"column\": {\"type\": \"nominal\", \"field\": \"Appliance\", \"title\": null}}, \"spec\": {\"layer\": [{\"mark\": {\"type\": \"point\", \"clip\": true, \"filled\": true, \"size\": 90}, \"encoding\": {\"color\": {\"type\": \"nominal\", \"field\": \"Reference: Number\", \"legend\": {\"title\": \"Publication\"}, \"scale\": {\"scheme\": \"category20\"}}, \"x\": {\"type\": \"nominal\", \"field\": \"Training: Dataset\", \"title\": \"Dataset\"}, \"y\": {\"type\": \"quantitative\", \"field\": \"Performance Metric: Value\", \"scale\": {\"domain\": [0, 25]}, \"title\": \"MAE [W]\"}}}], \"width\": 90}, \"$schema\": \"https://vega.github.io/schema/vega-lite/v4.8.1.json\", \"datasets\": {\"data-2245cfebe5c2fad1d70a997f3e81603b\": [{\"Reference: Abbreviation\": \"alzeidi2018\", \"Reference: Number\": \"[118]\", \"Appliance\": \"dishwasher\", \"Training: Dataset\": \"UK-DALE\", \"Model: Basic Type\": \"feedforward\", \"Model: Denomination\": \"classification\", \"Input: Window Size\": 600.0, \"Input: Sampling Rate\": 6, \"Performance Metric: Value\": 13.959, \"Year\": \"2018\", \"No-Ref\": \"alzeidi2018_[118]\"}, {\"Reference: Abbreviation\": \"alzeidi2018\", \"Reference: Number\": \"[118]\", \"Appliance\": \"fridge\", \"Training: Dataset\": \"UK-DALE\", \"Model: Basic Type\": \"feedforward\", \"Model: Denomination\": \"classification\", \"Input: Window Size\": 600.0, \"Input: Sampling Rate\": 6, \"Performance Metric: Value\": 20.222, \"Year\": \"2018\", \"No-Ref\": \"alzeidi2018_[118]\"}, {\"Reference: Abbreviation\": \"alzeidi2018\", \"Reference: Number\": \"[118]\", \"Appliance\": \"kettle\", \"Training: Dataset\": \"UK-DALE\", \"Model: Basic Type\": \"feedforward\", \"Model: Denomination\": \"classification\", \"Input: Window Size\": 600.0, \"Input: Sampling Rate\": 6, \"Performance Metric: Value\": 6.139, \"Year\": \"2018\", \"No-Ref\": \"alzeidi2018_[118]\"}, {\"Reference: Abbreviation\": \"alzeidi2018\", \"Reference: Number\": \"[118]\", \"Appliance\": \"microwave\", \"Training: Dataset\": \"UK-DALE\", \"Model: Basic Type\": \"feedforward\", \"Model: Denomination\": \"classification\", \"Input: Window Size\": 600.0, \"Input: Sampling Rate\": 6, \"Performance Metric: Value\": 5.015, \"Year\": \"2018\", \"No-Ref\": \"alzeidi2018_[118]\"}, {\"Reference: Abbreviation\": \"alzeidi2018\", \"Reference: Number\": \"[118]\", \"Appliance\": \"washing machine\", \"Training: Dataset\": \"UK-DALE\", \"Model: Basic Type\": \"feedforward\", \"Model: Denomination\": \"classification\", \"Input: Window Size\": 600.0, \"Input: Sampling Rate\": 6, \"Performance Metric: Value\": 7.615, \"Year\": \"2018\", \"No-Ref\": \"alzeidi2018_[118]\"}, {\"Reference: Abbreviation\": \"barber2020\", \"Reference: Number\": \"[126]\", \"Appliance\": \"dishwasher\", \"Training: Dataset\": \"REFIT\", \"Model: Basic Type\": \"feedforward\", \"Model: Denomination\": \"Reduced+Dropout LMP\", \"Input: Window Size\": 4792.0, \"Input: Sampling Rate\": 8, \"Performance Metric: Value\": 40.0, \"Year\": \"2020\", \"No-Ref\": \"barber2020_[126]\"}, {\"Reference: Abbreviation\": \"barber2020\", \"Reference: Number\": \"[126]\", \"Appliance\": \"kettle\", \"Training: Dataset\": \"REFIT\", \"Model: Basic Type\": \"feedforward\", \"Model: Denomination\": \"Reduced+Dropout LMP\", \"Input: Window Size\": 4792.0, \"Input: Sampling Rate\": 8, \"Performance Metric: Value\": 65.0, \"Year\": \"2020\", \"No-Ref\": \"barber2020_[126]\"}, {\"Reference: Abbreviation\": \"brewitt2018\", \"Reference: Number\": \"[39]\", \"Appliance\": \"dishwasher\", \"Training: Dataset\": \"IDEAL\", \"Model: Basic Type\": \"feedforward\", \"Model: Denomination\": \"CNN fully\", \"Input: Window Size\": 32840.0, \"Input: Sampling Rate\": 8, \"Performance Metric: Value\": 8.9, \"Year\": \"2018\", \"No-Ref\": \"brewitt2018_[39]\"}, {\"Reference: Abbreviation\": \"brewitt2018\", \"Reference: Number\": \"[39]\", \"Appliance\": \"kettle\", \"Training: Dataset\": \"IDEAL\", \"Model: Basic Type\": \"feedforward\", \"Model: Denomination\": \"CNN fully\", \"Input: Window Size\": 32840.0, \"Input: Sampling Rate\": 8, \"Performance Metric: Value\": 10.4, \"Year\": \"2018\", \"No-Ref\": \"brewitt2018_[39]\"}, {\"Reference: Abbreviation\": \"brewitt2018\", \"Reference: Number\": \"[39]\", \"Appliance\": \"microwave\", \"Training: Dataset\": \"IDEAL\", \"Model: Basic Type\": \"feedforward\", \"Model: Denomination\": \"CNN fully\", \"Input: Window Size\": 32840.0, \"Input: Sampling Rate\": 8, \"Performance Metric: Value\": 4.4, \"Year\": \"2018\", \"No-Ref\": \"brewitt2018_[39]\"}, {\"Reference: Abbreviation\": \"brewitt2018\", \"Reference: Number\": \"[39]\", \"Appliance\": \"washing machine\", \"Training: Dataset\": \"IDEAL\", \"Model: Basic Type\": \"feedforward\", \"Model: Denomination\": \"CNN fully\", \"Input: Window Size\": 32840.0, \"Input: Sampling Rate\": 8, \"Performance Metric: Value\": 20.8, \"Year\": \"2018\", \"No-Ref\": \"brewitt2018_[39]\"}, {\"Reference: Abbreviation\": \"chen2020e\", \"Reference: Number\": \"[71]\", \"Appliance\": \"dishwasher\", \"Training: Dataset\": \"REDD\", \"Model: Basic Type\": \"feedforward\", \"Model: Denomination\": \"SCAnet\", \"Input: Window Size\": 2592.0, \"Input: Sampling Rate\": 3, \"Performance Metric: Value\": 10.14, \"Year\": \"020e\", \"No-Ref\": \"chen2020e_[71]\"}, {\"Reference: Abbreviation\": \"chen2020e\", \"Reference: Number\": \"[71]\", \"Appliance\": \"dishwasher\", \"Training: Dataset\": \"UK-DALE\", \"Model: Basic Type\": \"feedforward\", \"Model: Denomination\": \"SCAnet\", \"Input: Window Size\": 2592.0, \"Input: Sampling Rate\": 6, \"Performance Metric: Value\": 8.71, \"Year\": \"020e\", \"No-Ref\": \"chen2020e_[71]\"}, {\"Reference: Abbreviation\": \"chen2020e\", \"Reference: Number\": \"[71]\", \"Appliance\": \"fridge\", \"Training: Dataset\": \"REDD\", \"Model: Basic Type\": \"feedforward\", \"Model: Denomination\": \"SCAnet\", \"Input: Window Size\": 2592.0, \"Input: Sampling Rate\": 3, \"Performance Metric: Value\": 21.77, \"Year\": \"020e\", \"No-Ref\": \"chen2020e_[71]\"}, {\"Reference: Abbreviation\": \"chen2020e\", \"Reference: Number\": \"[71]\", \"Appliance\": \"fridge\", \"Training: Dataset\": \"UK-DALE\", \"Model: Basic Type\": \"feedforward\", \"Model: Denomination\": \"SCAnet\", \"Input: Window Size\": 2592.0, \"Input: Sampling Rate\": 6, \"Performance Metric: Value\": 15.16, \"Year\": \"020e\", \"No-Ref\": \"chen2020e_[71]\"}, {\"Reference: Abbreviation\": \"chen2020e\", \"Reference: Number\": \"[71]\", \"Appliance\": \"kettle\", \"Training: Dataset\": \"UK-DALE\", \"Model: Basic Type\": \"feedforward\", \"Model: Denomination\": \"SCAnet\", \"Input: Window Size\": 2592.0, \"Input: Sampling Rate\": 6, \"Performance Metric: Value\": 6.14, \"Year\": \"020e\", \"No-Ref\": \"chen2020e_[71]\"}, {\"Reference: Abbreviation\": \"chen2020e\", \"Reference: Number\": \"[71]\", \"Appliance\": \"microwave\", \"Training: Dataset\": \"REDD\", \"Model: Basic Type\": \"feedforward\", \"Model: Denomination\": \"SCAnet\", \"Input: Window Size\": 2592.0, \"Input: Sampling Rate\": 3, \"Performance Metric: Value\": 13.75, \"Year\": \"020e\", \"No-Ref\": \"chen2020e_[71]\"}, {\"Reference: Abbreviation\": \"chen2020e\", \"Reference: Number\": \"[71]\", \"Appliance\": \"microwave\", \"Training: Dataset\": \"UK-DALE\", \"Model: Basic Type\": \"feedforward\", \"Model: Denomination\": \"SCAnet\", \"Input: Window Size\": 2592.0, \"Input: Sampling Rate\": 6, \"Performance Metric: Value\": 4.82, \"Year\": \"020e\", \"No-Ref\": \"chen2020e_[71]\"}, {\"Reference: Abbreviation\": \"chen2020e\", \"Reference: Number\": \"[71]\", \"Appliance\": \"washing machine\", \"Training: Dataset\": \"UK-DALE\", \"Model: Basic Type\": \"feedforward\", \"Model: Denomination\": \"SCAnet\", \"Input: Window Size\": 2592.0, \"Input: Sampling Rate\": 6, \"Performance Metric: Value\": 8.48, \"Year\": \"020e\", \"No-Ref\": \"chen2020e_[71]\"}, {\"Reference: Abbreviation\": \"dincecco2019\", \"Reference: Number\": \"[54]\", \"Appliance\": \"dishwasher\", \"Training: Dataset\": \"REFIT\", \"Model: Basic Type\": \"feedforward\", \"Model: Denomination\": \"CNN s2p\", \"Input: Window Size\": 4792.0, \"Input: Sampling Rate\": 8, \"Performance Metric: Value\": 12.26, \"Year\": \"2019\", \"No-Ref\": \"dincecco2019_[54]\"}, {\"Reference: Abbreviation\": \"dincecco2019\", \"Reference: Number\": \"[54]\", \"Appliance\": \"fridge\", \"Training: Dataset\": \"REFIT\", \"Model: Basic Type\": \"feedforward\", \"Model: Denomination\": \"CNN s2p\", \"Input: Window Size\": 4792.0, \"Input: Sampling Rate\": 8, \"Performance Metric: Value\": 20.02, \"Year\": \"2019\", \"No-Ref\": \"dincecco2019_[54]\"}, {\"Reference: Abbreviation\": \"dincecco2019\", \"Reference: Number\": \"[54]\", \"Appliance\": \"kettle\", \"Training: Dataset\": \"REFIT\", \"Model: Basic Type\": \"feedforward\", \"Model: Denomination\": \"CNN s2p\", \"Input: Window Size\": 4792.0, \"Input: Sampling Rate\": 8, \"Performance Metric: Value\": 6.83, \"Year\": \"2019\", \"No-Ref\": \"dincecco2019_[54]\"}, {\"Reference: Abbreviation\": \"dincecco2019\", \"Reference: Number\": \"[54]\", \"Appliance\": \"microwave\", \"Training: Dataset\": \"REFIT\", \"Model: Basic Type\": \"feedforward\", \"Model: Denomination\": \"CNN s2p\", \"Input: Window Size\": 4792.0, \"Input: Sampling Rate\": 8, \"Performance Metric: Value\": 12.6, \"Year\": \"2019\", \"No-Ref\": \"dincecco2019_[54]\"}, {\"Reference: Abbreviation\": \"dincecco2019\", \"Reference: Number\": \"[54]\", \"Appliance\": \"washing machine\", \"Training: Dataset\": \"REFIT\", \"Model: Basic Type\": \"feedforward\", \"Model: Denomination\": \"CNN s2p\", \"Input: Window Size\": 4792.0, \"Input: Sampling Rate\": 8, \"Performance Metric: Value\": 16.85, \"Year\": \"2019\", \"No-Ref\": \"dincecco2019_[54]\"}, {\"Reference: Abbreviation\": \"he2016\", \"Reference: Number\": \"[156]\", \"Appliance\": \"dishwasher\", \"Training: Dataset\": \"UK-DALE\", \"Model: Basic Type\": \"feedforward\", \"Model: Denomination\": \"CNN Incpt-LSTM\", \"Input: Window Size\": 6450.0, \"Input: Sampling Rate\": 6, \"Performance Metric: Value\": 29.62, \"Year\": \"2016\", \"No-Ref\": \"he2016_[156]\"}, {\"Reference: Abbreviation\": \"he2016\", \"Reference: Number\": \"[156]\", \"Appliance\": \"fridge\", \"Training: Dataset\": \"UK-DALE\", \"Model: Basic Type\": \"feedforward\", \"Model: Denomination\": \"CNN Incpt-LSTM\", \"Input: Window Size\": 2790.0, \"Input: Sampling Rate\": 6, \"Performance Metric: Value\": 3.22, \"Year\": \"2016\", \"No-Ref\": \"he2016_[156]\"}, {\"Reference: Abbreviation\": \"he2016\", \"Reference: Number\": \"[156]\", \"Appliance\": \"kettle\", \"Training: Dataset\": \"UK-DALE\", \"Model: Basic Type\": \"feedforward\", \"Model: Denomination\": \"CNN Incpt-LSTM\", \"Input: Window Size\": 240.0, \"Input: Sampling Rate\": 6, \"Performance Metric: Value\": 10.21, \"Year\": \"2016\", \"No-Ref\": \"he2016_[156]\"}, {\"Reference: Abbreviation\": \"he2016\", \"Reference: Number\": \"[156]\", \"Appliance\": \"microwave\", \"Training: Dataset\": \"UK-DALE\", \"Model: Basic Type\": \"feedforward\", \"Model: Denomination\": \"CNN Incpt-LSTM\", \"Input: Window Size\": 432.0, \"Input: Sampling Rate\": 6, \"Performance Metric: Value\": 9.42, \"Year\": \"2016\", \"No-Ref\": \"he2016_[156]\"}, {\"Reference: Abbreviation\": \"he2016\", \"Reference: Number\": \"[156]\", \"Appliance\": \"washing machine\", \"Training: Dataset\": \"UK-DALE\", \"Model: Basic Type\": \"feedforward\", \"Model: Denomination\": \"CNN Incpt-LSTM\", \"Input: Window Size\": 7476.0, \"Input: Sampling Rate\": 6, \"Performance Metric: Value\": 73.16, \"Year\": \"2016\", \"No-Ref\": \"he2016_[156]\"}, {\"Reference: Abbreviation\": \"jiang2019\", \"Reference: Number\": \"[83]\", \"Appliance\": \"dishwasher\", \"Training: Dataset\": \"REFIT\", \"Model: Basic Type\": \"feedforward\", \"Model: Denomination\": \"CNN WaveNet\", \"Input: Window Size\": 10230.0, \"Input: Sampling Rate\": 10, \"Performance Metric: Value\": 10.296, \"Year\": \"2019\", \"No-Ref\": \"jiang2019_[83]\"}, {\"Reference: Abbreviation\": \"jiang2019\", \"Reference: Number\": \"[83]\", \"Appliance\": \"kettle\", \"Training: Dataset\": \"REFIT\", \"Model: Basic Type\": \"feedforward\", \"Model: Denomination\": \"CNN WaveNet\", \"Input: Window Size\": 2550.0, \"Input: Sampling Rate\": 10, \"Performance Metric: Value\": 4.726, \"Year\": \"2019\", \"No-Ref\": \"jiang2019_[83]\"}, {\"Reference: Abbreviation\": \"jiang2019\", \"Reference: Number\": \"[83]\", \"Appliance\": \"microwave\", \"Training: Dataset\": \"REFIT\", \"Model: Basic Type\": \"feedforward\", \"Model: Denomination\": \"CNN WaveNet\", \"Input: Window Size\": 2550.0, \"Input: Sampling Rate\": 10, \"Performance Metric: Value\": 3.686, \"Year\": \"2019\", \"No-Ref\": \"jiang2019_[83]\"}, {\"Reference: Abbreviation\": \"jiang2019\", \"Reference: Number\": \"[83]\", \"Appliance\": \"washing machine\", \"Training: Dataset\": \"REFIT\", \"Model: Basic Type\": \"feedforward\", \"Model: Denomination\": \"CNN WaveNet\", \"Input: Window Size\": 20470.0, \"Input: Sampling Rate\": 10, \"Performance Metric: Value\": 3.08, \"Year\": \"2019\", \"No-Ref\": \"jiang2019_[83]\"}, {\"Reference: Abbreviation\": \"kelly2015\", \"Reference: Number\": \"[13]\", \"Appliance\": \"dishwasher\", \"Training: Dataset\": \"UK-DALE\", \"Model: Basic Type\": \"feedforward\", \"Model: Denomination\": \"dAE\", \"Input: Window Size\": 9216.0, \"Input: Sampling Rate\": 6, \"Performance Metric: Value\": 24.0, \"Year\": \"2015\", \"No-Ref\": \"kelly2015_[13]\"}, {\"Reference: Abbreviation\": \"kelly2015\", \"Reference: Number\": \"[13]\", \"Appliance\": \"fridge\", \"Training: Dataset\": \"UK-DALE\", \"Model: Basic Type\": \"recurrent\", \"Model: Denomination\": \"LSTM-bi\", \"Input: Window Size\": 3072.0, \"Input: Sampling Rate\": 6, \"Performance Metric: Value\": 18.0, \"Year\": \"2015\", \"No-Ref\": \"kelly2015_[13]\"}, {\"Reference: Abbreviation\": \"kelly2015\", \"Reference: Number\": \"[13]\", \"Appliance\": \"kettle\", \"Training: Dataset\": \"UK-DALE\", \"Model: Basic Type\": \"feedforward\", \"Model: Denomination\": \"dAE\", \"Input: Window Size\": 768.0, \"Input: Sampling Rate\": 6, \"Performance Metric: Value\": 6.0, \"Year\": \"2015\", \"No-Ref\": \"kelly2015_[13]\"}, {\"Reference: Abbreviation\": \"kelly2015\", \"Reference: Number\": \"[13]\", \"Appliance\": \"microwave\", \"Training: Dataset\": \"UK-DALE\", \"Model: Basic Type\": \"recurrent\", \"Model: Denomination\": \"LSTM-bi\", \"Input: Window Size\": 1728.0, \"Input: Sampling Rate\": 6, \"Performance Metric: Value\": 6.0, \"Year\": \"2015\", \"No-Ref\": \"kelly2015_[13]\"}, {\"Reference: Abbreviation\": \"kelly2015\", \"Reference: Number\": \"[13]\", \"Appliance\": \"washing machine\", \"Training: Dataset\": \"UK-DALE\", \"Model: Basic Type\": \"recurrent\", \"Model: Denomination\": \"LSTM-bi\", \"Input: Window Size\": 6144.0, \"Input: Sampling Rate\": 6, \"Performance Metric: Value\": 11.0, \"Year\": \"2015\", \"No-Ref\": \"kelly2015_[13]\"}, {\"Reference: Abbreviation\": \"krystalakos2018\", \"Reference: Number\": \"[153]\", \"Appliance\": \"dishwasher\", \"Training: Dataset\": \"UK-DALE\", \"Model: Basic Type\": \"feedforward\", \"Model: Denomination\": \"CNN s2p\", \"Input: Window Size\": 300.0, \"Input: Sampling Rate\": 6, \"Performance Metric: Value\": 21.0, \"Year\": \"2018\", \"No-Ref\": \"krystalakos2018_[153]\"}, {\"Reference: Abbreviation\": \"krystalakos2018\", \"Reference: Number\": \"[153]\", \"Appliance\": \"fridge\", \"Training: Dataset\": \"UK-DALE\", \"Model: Basic Type\": \"recurrent\", \"Model: Denomination\": \"LSTM-bi\", \"Input: Window Size\": 300.0, \"Input: Sampling Rate\": 6, \"Performance Metric: Value\": 51.0, \"Year\": \"2018\", \"No-Ref\": \"krystalakos2018_[153]\"}, {\"Reference: Abbreviation\": \"krystalakos2018\", \"Reference: Number\": \"[153]\", \"Appliance\": \"fridge\", \"Training: Dataset\": \"UK-DALE\", \"Model: Basic Type\": \"recurrent\", \"Model: Denomination\": \"GRU-bi\", \"Input: Window Size\": 300.0, \"Input: Sampling Rate\": 6, \"Performance Metric: Value\": 51.0, \"Year\": \"2018\", \"No-Ref\": \"krystalakos2018_[153]\"}, {\"Reference: Abbreviation\": \"krystalakos2018\", \"Reference: Number\": \"[153]\", \"Appliance\": \"fridge\", \"Training: Dataset\": \"UK-DALE\", \"Model: Basic Type\": \"feedforward\", \"Model: Denomination\": \"CNN s2p\", \"Input: Window Size\": 300.0, \"Input: Sampling Rate\": 6, \"Performance Metric: Value\": 51.0, \"Year\": \"2018\", \"No-Ref\": \"krystalakos2018_[153]\"}, {\"Reference: Abbreviation\": \"krystalakos2018\", \"Reference: Number\": \"[153]\", \"Appliance\": \"kettle\", \"Training: Dataset\": \"UK-DALE\", \"Model: Basic Type\": \"feedforward\", \"Model: Denomination\": \"CNN s2p\", \"Input: Window Size\": 300.0, \"Input: Sampling Rate\": 6, \"Performance Metric: Value\": 4.0, \"Year\": \"2018\", \"No-Ref\": \"krystalakos2018_[153]\"}, {\"Reference: Abbreviation\": \"krystalakos2018\", \"Reference: Number\": \"[153]\", \"Appliance\": \"microwave\", \"Training: Dataset\": \"UK-DALE\", \"Model: Basic Type\": \"recurrent\", \"Model: Denomination\": \"LSTM-bi\", \"Input: Window Size\": 300.0, \"Input: Sampling Rate\": 6, \"Performance Metric: Value\": 86.0, \"Year\": \"2018\", \"No-Ref\": \"krystalakos2018_[153]\"}, {\"Reference: Abbreviation\": \"krystalakos2018\", \"Reference: Number\": \"[153]\", \"Appliance\": \"washing machine\", \"Training: Dataset\": \"UK-DALE\", \"Model: Basic Type\": \"feedforward\", \"Model: Denomination\": \"CNN s2p\", \"Input: Window Size\": 600.0, \"Input: Sampling Rate\": 6, \"Performance Metric: Value\": 17.0, \"Year\": \"2018\", \"No-Ref\": \"krystalakos2018_[153]\"}, {\"Reference: Abbreviation\": \"kukunuri2020\", \"Reference: Number\": \"[127]\", \"Appliance\": \"dishwasher\", \"Training: Dataset\": \"REDD\", \"Model: Basic Type\": \"feedforward\", \"Model: Denomination\": \"STL Normally Pruning (60%)\", \"Input: Window Size\": 5940.0, \"Input: Sampling Rate\": 60, \"Performance Metric: Value\": 12.58, \"Year\": \"2020\", \"No-Ref\": \"kukunuri2020_[127]\"}, {\"Reference: Abbreviation\": \"kukunuri2020\", \"Reference: Number\": \"[127]\", \"Appliance\": \"fridge\", \"Training: Dataset\": \"REDD\", \"Model: Basic Type\": \"feedforward\", \"Model: Denomination\": \"STL Rank 8 Tensor D.\", \"Input: Window Size\": 5940.0, \"Input: Sampling Rate\": 60, \"Performance Metric: Value\": 38.54, \"Year\": \"2020\", \"No-Ref\": \"kukunuri2020_[127]\"}, {\"Reference: Abbreviation\": \"kukunuri2020\", \"Reference: Number\": \"[127]\", \"Appliance\": \"washing machine\", \"Training: Dataset\": \"REDD\", \"Model: Basic Type\": \"feedforward\", \"Model: Denomination\": \"STL Normally Pruning (90%)\", \"Input: Window Size\": 5940.0, \"Input: Sampling Rate\": 60, \"Performance Metric: Value\": 19.15, \"Year\": \"2020\", \"No-Ref\": \"kukunuri2020_[127]\"}, {\"Reference: Abbreviation\": \"massidda2020\", \"Reference: Number\": \"[122]\", \"Appliance\": \"dishwasher\", \"Training: Dataset\": \"UK-DALE\", \"Model: Basic Type\": \"feedforward\", \"Model: Denomination\": \"TP-NILM\", \"Input: Window Size\": 30600.0, \"Input: Sampling Rate\": 60, \"Performance Metric: Value\": 33.07, \"Year\": \"2020\", \"No-Ref\": \"massidda2020_[122]\"}, {\"Reference: Abbreviation\": \"massidda2020\", \"Reference: Number\": \"[122]\", \"Appliance\": \"fridge\", \"Training: Dataset\": \"UK-DALE\", \"Model: Basic Type\": \"feedforward\", \"Model: Denomination\": \"TP-NILM\", \"Input: Window Size\": 30600.0, \"Input: Sampling Rate\": 60, \"Performance Metric: Value\": 17.03, \"Year\": \"2020\", \"No-Ref\": \"massidda2020_[122]\"}, {\"Reference: Abbreviation\": \"massidda2020\", \"Reference: Number\": \"[122]\", \"Appliance\": \"washing machine\", \"Training: Dataset\": \"UK-DALE\", \"Model: Basic Type\": \"feedforward\", \"Model: Denomination\": \"TP-NILM\", \"Input: Window Size\": 30600.0, \"Input: Sampling Rate\": 60, \"Performance Metric: Value\": 8.31, \"Year\": \"2020\", \"No-Ref\": \"massidda2020_[122]\"}, {\"Reference: Abbreviation\": \"mottahedi2016\", \"Reference: Number\": \"[74]\", \"Appliance\": \"microwave\", \"Training: Dataset\": \"DataPort\", \"Model: Basic Type\": \"feedforward\", \"Model: Denomination\": \"GASF+CNN\", \"Input: Window Size\": 6000.0, \"Input: Sampling Rate\": 60, \"Performance Metric: Value\": 9.49, \"Year\": \"2016\", \"No-Ref\": \"mottahedi2016_[74]\"}, {\"Reference: Abbreviation\": \"murray2019\", \"Reference: Number\": \"[55]\", \"Appliance\": \"dishwasher\", \"Training: Dataset\": \"REDD\", \"Model: Basic Type\": \"recurrent\", \"Model: Denomination\": \"RNN-GRU\", \"Input: Window Size\": 2400.0, \"Input: Sampling Rate\": 8, \"Performance Metric: Value\": 98.9, \"Year\": \"2019\", \"No-Ref\": \"murray2019_[55]\"}, {\"Reference: Abbreviation\": \"murray2019\", \"Reference: Number\": \"[55]\", \"Appliance\": \"dishwasher\", \"Training: Dataset\": \"REFIT\", \"Model: Basic Type\": \"recurrent\", \"Model: Denomination\": \"RNN-GRU\", \"Input: Window Size\": 2400.0, \"Input: Sampling Rate\": 8, \"Performance Metric: Value\": 73.53, \"Year\": \"2019\", \"No-Ref\": \"murray2019_[55]\"}, {\"Reference: Abbreviation\": \"murray2019\", \"Reference: Number\": \"[55]\", \"Appliance\": \"fridge\", \"Training: Dataset\": \"REDD\", \"Model: Basic Type\": \"feedforward\", \"Model: Denomination\": \"CNN\", \"Input: Window Size\": 6400.0, \"Input: Sampling Rate\": 8, \"Performance Metric: Value\": 10.14, \"Year\": \"2019\", \"No-Ref\": \"murray2019_[55]\"}, {\"Reference: Abbreviation\": \"murray2019\", \"Reference: Number\": \"[55]\", \"Appliance\": \"fridge\", \"Training: Dataset\": \"REFIT\", \"Model: Basic Type\": \"feedforward\", \"Model: Denomination\": \"CNN\", \"Input: Window Size\": 6400.0, \"Input: Sampling Rate\": 8, \"Performance Metric: Value\": 8.56, \"Year\": \"2019\", \"No-Ref\": \"murray2019_[55]\"}, {\"Reference: Abbreviation\": \"murray2019\", \"Reference: Number\": \"[55]\", \"Appliance\": \"microwave\", \"Training: Dataset\": \"REDD\", \"Model: Basic Type\": \"feedforward\", \"Model: Denomination\": \"CNN\", \"Input: Window Size\": 720.0, \"Input: Sampling Rate\": 8, \"Performance Metric: Value\": 68.2, \"Year\": \"2019\", \"No-Ref\": \"murray2019_[55]\"}, {\"Reference: Abbreviation\": \"murray2019\", \"Reference: Number\": \"[55]\", \"Appliance\": \"microwave\", \"Training: Dataset\": \"REFIT\", \"Model: Basic Type\": \"feedforward\", \"Model: Denomination\": \"CNN\", \"Input: Window Size\": 720.0, \"Input: Sampling Rate\": 8, \"Performance Metric: Value\": 35.49, \"Year\": \"2019\", \"No-Ref\": \"murray2019_[55]\"}, {\"Reference: Abbreviation\": \"murray2019\", \"Reference: Number\": \"[55]\", \"Appliance\": \"washing machine\", \"Training: Dataset\": \"REFIT\", \"Model: Basic Type\": \"feedforward\", \"Model: Denomination\": \"CNN\", \"Input: Window Size\": 2400.0, \"Input: Sampling Rate\": 8, \"Performance Metric: Value\": 71.99, \"Year\": \"2019\", \"No-Ref\": \"murray2019_[55]\"}, {\"Reference: Abbreviation\": \"pan2020\", \"Reference: Number\": \"[66]\", \"Appliance\": \"dishwasher\", \"Training: Dataset\": \"REFIT\", \"Model: Basic Type\": \"feedforward\", \"Model: Denomination\": \"Unet-cGAN\", \"Input: Window Size\": 8192.0, \"Input: Sampling Rate\": 8, \"Performance Metric: Value\": 4.8, \"Year\": \"2020\", \"No-Ref\": \"pan2020_[66]\"}, {\"Reference: Abbreviation\": \"pan2020\", \"Reference: Number\": \"[66]\", \"Appliance\": \"dishwasher\", \"Training: Dataset\": \"UK-DALE\", \"Model: Basic Type\": \"feedforward\", \"Model: Denomination\": \"Unet-cGAN\", \"Input: Window Size\": 8192.0, \"Input: Sampling Rate\": 8, \"Performance Metric: Value\": 13.52, \"Year\": \"2020\", \"No-Ref\": \"pan2020_[66]\"}, {\"Reference: Abbreviation\": \"pan2020\", \"Reference: Number\": \"[66]\", \"Appliance\": \"fridge\", \"Training: Dataset\": \"REFIT\", \"Model: Basic Type\": \"feedforward\", \"Model: Denomination\": \"Unet-cGAN\", \"Input: Window Size\": 8192.0, \"Input: Sampling Rate\": 8, \"Performance Metric: Value\": 16.77, \"Year\": \"2020\", \"No-Ref\": \"pan2020_[66]\"}, {\"Reference: Abbreviation\": \"pan2020\", \"Reference: Number\": \"[66]\", \"Appliance\": \"fridge\", \"Training: Dataset\": \"UK-DALE\", \"Model: Basic Type\": \"feedforward\", \"Model: Denomination\": \"Unet-cGAN\", \"Input: Window Size\": 8192.0, \"Input: Sampling Rate\": 8, \"Performance Metric: Value\": 11.86, \"Year\": \"2020\", \"No-Ref\": \"pan2020_[66]\"}, {\"Reference: Abbreviation\": \"pan2020\", \"Reference: Number\": \"[66]\", \"Appliance\": \"kettle\", \"Training: Dataset\": \"REFIT\", \"Model: Basic Type\": \"feedforward\", \"Model: Denomination\": \"Unet-cGAN\", \"Input: Window Size\": 8192.0, \"Input: Sampling Rate\": 8, \"Performance Metric: Value\": 6.43, \"Year\": \"2020\", \"No-Ref\": \"pan2020_[66]\"}, {\"Reference: Abbreviation\": \"pan2020\", \"Reference: Number\": \"[66]\", \"Appliance\": \"kettle\", \"Training: Dataset\": \"UK-DALE\", \"Model: Basic Type\": \"feedforward\", \"Model: Denomination\": \"Unet-cGAN\", \"Input: Window Size\": 8192.0, \"Input: Sampling Rate\": 8, \"Performance Metric: Value\": 3.59, \"Year\": \"2020\", \"No-Ref\": \"pan2020_[66]\"}, {\"Reference: Abbreviation\": \"pan2020\", \"Reference: Number\": \"[66]\", \"Appliance\": \"microwave\", \"Training: Dataset\": \"REFIT\", \"Model: Basic Type\": \"feedforward\", \"Model: Denomination\": \"Unet-cGAN\", \"Input: Window Size\": 8192.0, \"Input: Sampling Rate\": 8, \"Performance Metric: Value\": 5.88, \"Year\": \"2020\", \"No-Ref\": \"pan2020_[66]\"}, {\"Reference: Abbreviation\": \"pan2020\", \"Reference: Number\": \"[66]\", \"Appliance\": \"microwave\", \"Training: Dataset\": \"UK-DALE\", \"Model: Basic Type\": \"feedforward\", \"Model: Denomination\": \"Unet-cGAN\", \"Input: Window Size\": 8192.0, \"Input: Sampling Rate\": 8, \"Performance Metric: Value\": 3.14, \"Year\": \"2020\", \"No-Ref\": \"pan2020_[66]\"}, {\"Reference: Abbreviation\": \"pan2020\", \"Reference: Number\": \"[66]\", \"Appliance\": \"washing machine\", \"Training: Dataset\": \"REFIT\", \"Model: Basic Type\": \"feedforward\", \"Model: Denomination\": \"Unet-cGAN\", \"Input: Window Size\": 8192.0, \"Input: Sampling Rate\": 8, \"Performance Metric: Value\": 16.72, \"Year\": \"2020\", \"No-Ref\": \"pan2020_[66]\"}, {\"Reference: Abbreviation\": \"pan2020\", \"Reference: Number\": \"[66]\", \"Appliance\": \"washing machine\", \"Training: Dataset\": \"UK-DALE\", \"Model: Basic Type\": \"feedforward\", \"Model: Denomination\": \"Unet-cGAN\", \"Input: Window Size\": 8192.0, \"Input: Sampling Rate\": 8, \"Performance Metric: Value\": 7.11, \"Year\": \"2020\", \"No-Ref\": \"pan2020_[66]\"}, {\"Reference: Abbreviation\": \"rafiq2020\", \"Reference: Number\": \"[61]\", \"Appliance\": \"dishwasher\", \"Training: Dataset\": \"UK-DALE\", \"Model: Basic Type\": \"combined\", \"Model: Denomination\": \"MFS-LSTM\", \"Input: Window Size\": -1.0, \"Input: Sampling Rate\": 1, \"Performance Metric: Value\": 15.275, \"Year\": \"2020\", \"No-Ref\": \"rafiq2020_[61]\"}, {\"Reference: Abbreviation\": \"rafiq2020\", \"Reference: Number\": \"[61]\", \"Appliance\": \"fridge\", \"Training: Dataset\": \"UK-DALE\", \"Model: Basic Type\": \"combined\", \"Model: Denomination\": \"MFS-LSTM\", \"Input: Window Size\": -1.0, \"Input: Sampling Rate\": 1, \"Performance Metric: Value\": 19.608, \"Year\": \"2020\", \"No-Ref\": \"rafiq2020_[61]\"}, {\"Reference: Abbreviation\": \"rafiq2020\", \"Reference: Number\": \"[61]\", \"Appliance\": \"kettle\", \"Training: Dataset\": \"UK-DALE\", \"Model: Basic Type\": \"combined\", \"Model: Denomination\": \"MFS-LSTM\", \"Input: Window Size\": -1.0, \"Input: Sampling Rate\": 1, \"Performance Metric: Value\": 1.966, \"Year\": \"2020\", \"No-Ref\": \"rafiq2020_[61]\"}, {\"Reference: Abbreviation\": \"rafiq2020\", \"Reference: Number\": \"[61]\", \"Appliance\": \"microwave\", \"Training: Dataset\": \"UK-DALE\", \"Model: Basic Type\": \"combined\", \"Model: Denomination\": \"MFS-LSTM\", \"Input: Window Size\": -1.0, \"Input: Sampling Rate\": 1, \"Performance Metric: Value\": 0.392, \"Year\": \"2020\", \"No-Ref\": \"rafiq2020_[61]\"}, {\"Reference: Abbreviation\": \"rafiq2020\", \"Reference: Number\": \"[61]\", \"Appliance\": \"washing machine\", \"Training: Dataset\": \"UK-DALE\", \"Model: Basic Type\": \"combined\", \"Model: Denomination\": \"MFS-LSTM\", \"Input: Window Size\": -1.0, \"Input: Sampling Rate\": 1, \"Performance Metric: Value\": 14.422, \"Year\": \"2020\", \"No-Ref\": \"rafiq2020_[61]\"}, {\"Reference: Abbreviation\": \"shin2018\", \"Reference: Number\": \"[82]\", \"Appliance\": \"dishwasher\", \"Training: Dataset\": \"REDD\", \"Model: Basic Type\": \"feedforward\", \"Model: Denomination\": \"CNN SGN\", \"Input: Window Size\": 1200.0, \"Input: Sampling Rate\": 3, \"Performance Metric: Value\": 14.97, \"Year\": \"2018\", \"No-Ref\": \"shin2018_[82]\"}, {\"Reference: Abbreviation\": \"shin2018\", \"Reference: Number\": \"[82]\", \"Appliance\": \"dishwasher\", \"Training: Dataset\": \"UK-DALE\", \"Model: Basic Type\": \"feedforward\", \"Model: Denomination\": \"CNN SGN-sp\", \"Input: Window Size\": 1200.0, \"Input: Sampling Rate\": 6, \"Performance Metric: Value\": 13.49, \"Year\": \"2018\", \"No-Ref\": \"shin2018_[82]\"}, {\"Reference: Abbreviation\": \"shin2018\", \"Reference: Number\": \"[82]\", \"Appliance\": \"fridge\", \"Training: Dataset\": \"REDD\", \"Model: Basic Type\": \"feedforward\", \"Model: Denomination\": \"CNN HardSGN-sp\", \"Input: Window Size\": 1200.0, \"Input: Sampling Rate\": 3, \"Performance Metric: Value\": 22.86, \"Year\": \"2018\", \"No-Ref\": \"shin2018_[82]\"}, {\"Reference: Abbreviation\": \"shin2018\", \"Reference: Number\": \"[82]\", \"Appliance\": \"fridge\", \"Training: Dataset\": \"UK-DALE\", \"Model: Basic Type\": \"feedforward\", \"Model: Denomination\": \"CNN HardSGN-sp\", \"Input: Window Size\": 1200.0, \"Input: Sampling Rate\": 6, \"Performance Metric: Value\": 10.93, \"Year\": \"2018\", \"No-Ref\": \"shin2018_[82]\"}, {\"Reference: Abbreviation\": \"shin2018\", \"Reference: Number\": \"[82]\", \"Appliance\": \"kettle\", \"Training: Dataset\": \"UK-DALE\", \"Model: Basic Type\": \"feedforward\", \"Model: Denomination\": \"CNN SGN-sp\", \"Input: Window Size\": 1200.0, \"Input: Sampling Rate\": 6, \"Performance Metric: Value\": 5.96, \"Year\": \"2018\", \"No-Ref\": \"shin2018_[82]\"}, {\"Reference: Abbreviation\": \"shin2018\", \"Reference: Number\": \"[82]\", \"Appliance\": \"microwave\", \"Training: Dataset\": \"REDD\", \"Model: Basic Type\": \"feedforward\", \"Model: Denomination\": \"CNN SGN-sp\", \"Input: Window Size\": 1200.0, \"Input: Sampling Rate\": 3, \"Performance Metric: Value\": 15.98, \"Year\": \"2018\", \"No-Ref\": \"shin2018_[82]\"}, {\"Reference: Abbreviation\": \"shin2018\", \"Reference: Number\": \"[82]\", \"Appliance\": \"microwave\", \"Training: Dataset\": \"UK-DALE\", \"Model: Basic Type\": \"feedforward\", \"Model: Denomination\": \"CNN HardSGN\", \"Input: Window Size\": 1200.0, \"Input: Sampling Rate\": 6, \"Performance Metric: Value\": 4.53, \"Year\": \"2018\", \"No-Ref\": \"shin2018_[82]\"}, {\"Reference: Abbreviation\": \"shin2018\", \"Reference: Number\": \"[82]\", \"Appliance\": \"washing machine\", \"Training: Dataset\": \"REDD\", \"Model: Basic Type\": \"feedforward\", \"Model: Denomination\": \"CNN HardSGN\", \"Input: Window Size\": 1200.0, \"Input: Sampling Rate\": 3, \"Performance Metric: Value\": 18.24, \"Year\": \"2018\", \"No-Ref\": \"shin2018_[82]\"}, {\"Reference: Abbreviation\": \"shin2018\", \"Reference: Number\": \"[82]\", \"Appliance\": \"washing machine\", \"Training: Dataset\": \"UK-DALE\", \"Model: Basic Type\": \"feedforward\", \"Model: Denomination\": \"CNN SGN-sp\", \"Input: Window Size\": 1200.0, \"Input: Sampling Rate\": 6, \"Performance Metric: Value\": 11.04, \"Year\": \"2018\", \"No-Ref\": \"shin2018_[82]\"}, {\"Reference: Abbreviation\": \"shin2019a\", \"Reference: Number\": \"[59]\", \"Appliance\": \"washing machine\", \"Training: Dataset\": \"Enertalk\", \"Model: Basic Type\": \"feedforward\", \"Model: Denomination\": \"SGN\", \"Input: Window Size\": 90.0, \"Input: Sampling Rate\": 0.1, \"Performance Metric: Value\": 14.816, \"Year\": \"019a\", \"No-Ref\": \"shin2019a_[59]\"}, {\"Reference: Abbreviation\": \"sirojan2018\", \"Reference: Number\": \"[149]\", \"Appliance\": \"dishwasher\", \"Training: Dataset\": \"UK-DALE\", \"Model: Basic Type\": \"feedforward\", \"Model: Denomination\": \"CNN VAE\", \"Input: Window Size\": -1.0, \"Input: Sampling Rate\": 6, \"Performance Metric: Value\": 19.6, \"Year\": \"2018\", \"No-Ref\": \"sirojan2018_[149]\"}, {\"Reference: Abbreviation\": \"sirojan2018\", \"Reference: Number\": \"[149]\", \"Appliance\": \"fridge\", \"Training: Dataset\": \"UK-DALE\", \"Model: Basic Type\": \"feedforward\", \"Model: Denomination\": \"CNN VAE\", \"Input: Window Size\": -1.0, \"Input: Sampling Rate\": 6, \"Performance Metric: Value\": 18.1, \"Year\": \"2018\", \"No-Ref\": \"sirojan2018_[149]\"}, {\"Reference: Abbreviation\": \"sirojan2018\", \"Reference: Number\": \"[149]\", \"Appliance\": \"kettle\", \"Training: Dataset\": \"UK-DALE\", \"Model: Basic Type\": \"feedforward\", \"Model: Denomination\": \"CNN VAE\", \"Input: Window Size\": -1.0, \"Input: Sampling Rate\": 6, \"Performance Metric: Value\": 7.0, \"Year\": \"2018\", \"No-Ref\": \"sirojan2018_[149]\"}, {\"Reference: Abbreviation\": \"sirojan2018\", \"Reference: Number\": \"[149]\", \"Appliance\": \"microwave\", \"Training: Dataset\": \"UK-DALE\", \"Model: Basic Type\": \"feedforward\", \"Model: Denomination\": \"CNN VAE\", \"Input: Window Size\": -1.0, \"Input: Sampling Rate\": 6, \"Performance Metric: Value\": 7.5, \"Year\": \"2018\", \"No-Ref\": \"sirojan2018_[149]\"}, {\"Reference: Abbreviation\": \"sirojan2018\", \"Reference: Number\": \"[149]\", \"Appliance\": \"washing machine\", \"Training: Dataset\": \"UK-DALE\", \"Model: Basic Type\": \"feedforward\", \"Model: Denomination\": \"CNN VAE\", \"Input: Window Size\": -1.0, \"Input: Sampling Rate\": 6, \"Performance Metric: Value\": 10.8, \"Year\": \"2018\", \"No-Ref\": \"sirojan2018_[149]\"}, {\"Reference: Abbreviation\": \"yue2020\", \"Reference: Number\": \"[97]\", \"Appliance\": \"dishwasher\", \"Training: Dataset\": \"REDD\", \"Model: Basic Type\": \"feedforward\", \"Model: Denomination\": \"BERT\", \"Input: Window Size\": 2880.0, \"Input: Sampling Rate\": 6, \"Performance Metric: Value\": 20.49, \"Year\": \"2020\", \"No-Ref\": \"yue2020_[97]\"}, {\"Reference: Abbreviation\": \"yue2020\", \"Reference: Number\": \"[97]\", \"Appliance\": \"dishwasher\", \"Training: Dataset\": \"UK-DALE\", \"Model: Basic Type\": \"feedforward\", \"Model: Denomination\": \"BERT\", \"Input: Window Size\": 2880.0, \"Input: Sampling Rate\": 6, \"Performance Metric: Value\": 16.18, \"Year\": \"2020\", \"No-Ref\": \"yue2020_[97]\"}, {\"Reference: Abbreviation\": \"yue2020\", \"Reference: Number\": \"[97]\", \"Appliance\": \"fridge\", \"Training: Dataset\": \"REDD\", \"Model: Basic Type\": \"feedforward\", \"Model: Denomination\": \"BERT\", \"Input: Window Size\": 2880.0, \"Input: Sampling Rate\": 6, \"Performance Metric: Value\": 32.35, \"Year\": \"2020\", \"No-Ref\": \"yue2020_[97]\"}, {\"Reference: Abbreviation\": \"yue2020\", \"Reference: Number\": \"[97]\", \"Appliance\": \"fridge\", \"Training: Dataset\": \"UK-DALE\", \"Model: Basic Type\": \"feedforward\", \"Model: Denomination\": \"BERT\", \"Input: Window Size\": 2880.0, \"Input: Sampling Rate\": 6, \"Performance Metric: Value\": 25.49, \"Year\": \"2020\", \"No-Ref\": \"yue2020_[97]\"}, {\"Reference: Abbreviation\": \"yue2020\", \"Reference: Number\": \"[97]\", \"Appliance\": \"kettle\", \"Training: Dataset\": \"UK-DALE\", \"Model: Basic Type\": \"feedforward\", \"Model: Denomination\": \"BERT\", \"Input: Window Size\": 2880.0, \"Input: Sampling Rate\": 6, \"Performance Metric: Value\": 6.82, \"Year\": \"2020\", \"No-Ref\": \"yue2020_[97]\"}, {\"Reference: Abbreviation\": \"yue2020\", \"Reference: Number\": \"[97]\", \"Appliance\": \"microwave\", \"Training: Dataset\": \"REDD\", \"Model: Basic Type\": \"feedforward\", \"Model: Denomination\": \"BERT\", \"Input: Window Size\": 2880.0, \"Input: Sampling Rate\": 6, \"Performance Metric: Value\": 17.58, \"Year\": \"2020\", \"No-Ref\": \"yue2020_[97]\"}, {\"Reference: Abbreviation\": \"yue2020\", \"Reference: Number\": \"[97]\", \"Appliance\": \"microwave\", \"Training: Dataset\": \"UK-DALE\", \"Model: Basic Type\": \"feedforward\", \"Model: Denomination\": \"BERT\", \"Input: Window Size\": 2880.0, \"Input: Sampling Rate\": 6, \"Performance Metric: Value\": 6.57, \"Year\": \"2020\", \"No-Ref\": \"yue2020_[97]\"}, {\"Reference: Abbreviation\": \"yue2020\", \"Reference: Number\": \"[97]\", \"Appliance\": \"washing machine\", \"Training: Dataset\": \"REDD\", \"Model: Basic Type\": \"feedforward\", \"Model: Denomination\": \"BERT\", \"Input: Window Size\": 2880.0, \"Input: Sampling Rate\": 6, \"Performance Metric: Value\": 34.96, \"Year\": \"2020\", \"No-Ref\": \"yue2020_[97]\"}, {\"Reference: Abbreviation\": \"yue2020\", \"Reference: Number\": \"[97]\", \"Appliance\": \"washing machine\", \"Training: Dataset\": \"UK-DALE\", \"Model: Basic Type\": \"feedforward\", \"Model: Denomination\": \"BERT\", \"Input: Window Size\": 2880.0, \"Input: Sampling Rate\": 6, \"Performance Metric: Value\": 6.98, \"Year\": \"2020\", \"No-Ref\": \"yue2020_[97]\"}, {\"Reference: Abbreviation\": \"zhang2016\", \"Reference: Number\": \"[75]\", \"Appliance\": \"dishwasher\", \"Training: Dataset\": \"REDD\", \"Model: Basic Type\": \"feedforward\", \"Model: Denomination\": \"CNN s2s\", \"Input: Window Size\": 1797.0, \"Input: Sampling Rate\": 3, \"Performance Metric: Value\": 19.449, \"Year\": \"2016\", \"No-Ref\": \"zhang2016_[75]\"}, {\"Reference: Abbreviation\": \"zhang2016\", \"Reference: Number\": \"[75]\", \"Appliance\": \"dishwasher\", \"Training: Dataset\": \"UK-DALE\", \"Model: Basic Type\": \"feedforward\", \"Model: Denomination\": \"CNN s2p\", \"Input: Window Size\": 3594.0, \"Input: Sampling Rate\": 6, \"Performance Metric: Value\": 27.704, \"Year\": \"2016\", \"No-Ref\": \"zhang2016_[75]\"}, {\"Reference: Abbreviation\": \"zhang2016\", \"Reference: Number\": \"[75]\", \"Appliance\": \"fridge\", \"Training: Dataset\": \"REDD\", \"Model: Basic Type\": \"feedforward\", \"Model: Denomination\": \"CNN s2p\", \"Input: Window Size\": 1797.0, \"Input: Sampling Rate\": 3, \"Performance Metric: Value\": 28.104, \"Year\": \"2016\", \"No-Ref\": \"zhang2016_[75]\"}, {\"Reference: Abbreviation\": \"zhang2016\", \"Reference: Number\": \"[75]\", \"Appliance\": \"fridge\", \"Training: Dataset\": \"UK-DALE\", \"Model: Basic Type\": \"feedforward\", \"Model: Denomination\": \"CNN s2p\", \"Input: Window Size\": 3594.0, \"Input: Sampling Rate\": 6, \"Performance Metric: Value\": 20.894, \"Year\": \"2016\", \"No-Ref\": \"zhang2016_[75]\"}, {\"Reference: Abbreviation\": \"zhang2016\", \"Reference: Number\": \"[75]\", \"Appliance\": \"kettle\", \"Training: Dataset\": \"UK-DALE\", \"Model: Basic Type\": \"feedforward\", \"Model: Denomination\": \"CNN s2p\", \"Input: Window Size\": 3594.0, \"Input: Sampling Rate\": 6, \"Performance Metric: Value\": 7.439, \"Year\": \"2016\", \"No-Ref\": \"zhang2016_[75]\"}, {\"Reference: Abbreviation\": \"zhang2016\", \"Reference: Number\": \"[75]\", \"Appliance\": \"microwave\", \"Training: Dataset\": \"REDD\", \"Model: Basic Type\": \"feedforward\", \"Model: Denomination\": \"CNN s2p\", \"Input: Window Size\": 1797.0, \"Input: Sampling Rate\": 3, \"Performance Metric: Value\": 28.199, \"Year\": \"2016\", \"No-Ref\": \"zhang2016_[75]\"}, {\"Reference: Abbreviation\": \"zhang2016\", \"Reference: Number\": \"[75]\", \"Appliance\": \"microwave\", \"Training: Dataset\": \"UK-DALE\", \"Model: Basic Type\": \"feedforward\", \"Model: Denomination\": \"CNN s2p\", \"Input: Window Size\": 3594.0, \"Input: Sampling Rate\": 6, \"Performance Metric: Value\": 8.661, \"Year\": \"2016\", \"No-Ref\": \"zhang2016_[75]\"}, {\"Reference: Abbreviation\": \"zhang2016\", \"Reference: Number\": \"[75]\", \"Appliance\": \"washing machine\", \"Training: Dataset\": \"REDD\", \"Model: Basic Type\": \"feedforward\", \"Model: Denomination\": \"CNN s2p\", \"Input: Window Size\": 1797.0, \"Input: Sampling Rate\": 3, \"Performance Metric: Value\": 18.423, \"Year\": \"2016\", \"No-Ref\": \"zhang2016_[75]\"}, {\"Reference: Abbreviation\": \"zhang2016\", \"Reference: Number\": \"[75]\", \"Appliance\": \"washing machine\", \"Training: Dataset\": \"UK-DALE\", \"Model: Basic Type\": \"feedforward\", \"Model: Denomination\": \"CNN s2s\", \"Input: Window Size\": 3594.0, \"Input: Sampling Rate\": 6, \"Performance Metric: Value\": 10.153, \"Year\": \"2016\", \"No-Ref\": \"zhang2016_[75]\"}]}}, {\"mode\": \"vega-lite\"});\n",
       "</script>"
      ],
      "text/plain": [
       "alt.FacetChart(...)"
      ]
     },
     "execution_count": 22,
     "metadata": {},
     "output_type": "execute_result"
    }
   ],
   "source": [
    "# VERSION FOR PUBLICATION\n",
    "layers = []\n",
    "upper_bound = 25\n",
    "lower_bound = 0\n",
    "app = [ 'kettle', 'microwave', 'dishwasher', 'washing machine', 'fridge' ]\n",
    "sortByDataset = alt.Chart(df_mae).mark_point(clip=True, size=90, filled=True).encode(\n",
    "    x=alt.X('Training: Dataset:N', title='Dataset'),\n",
    "    #y=alt.Y('Performance Metric: Value:Q', title='MAE [W]', scale=alt.Scale(domain=(lower_bound, upper_bound))),\n",
    "    y=alt.Y('Performance Metric: Value:Q', title='MAE [W]', scale=alt.Scale(domain=(lower_bound, upper_bound))),\n",
    "    color=alt.Color('Reference: Number:N', legend=alt.Legend(title='Publication'), scale=alt.Scale(scheme = 'category20')), \n",
    "    # color=alt.Color('No-Ref', legend=alt.Legend(title='Publication'), scale=alt.Scale(scheme = 'category20')), \n",
    ")\n",
    "\n",
    "\n",
    "alt.layer(\n",
    "    sortByDataset,  \n",
    "    data=df_mae, width=90#, height=500\n",
    ").facet(\n",
    "    column=alt.Column('Appliance:N', title=None)\n",
    ").configure_facet(\n",
    "    spacing=7\n",
    ").configure_header(\n",
    "    titleFontSize=14,\n",
    "    labelFontSize=14\n",
    ")"
   ]
  },
  {
   "cell_type": "markdown",
   "metadata": {},
   "source": [
    "Note to self: I double checked the values for the top result in the corresponding publications. *They are correct.*"
   ]
  },
  {
   "cell_type": "code",
   "execution_count": 23,
   "metadata": {},
   "outputs": [],
   "source": [
    "# Evaluation"
   ]
  },
  {
   "cell_type": "code",
   "execution_count": 24,
   "metadata": {},
   "outputs": [
    {
     "name": "stdout",
     "output_type": "stream",
     "text": [
      "kettle\n",
      "4\n",
      "publications:  ['rafiq2020' 'pan2020' 'krystalakos2018' 'jiang2019']\n",
      "values [1.966 3.59  4.    4.726]\n",
      "datasets:  ['UK-DALE' 'REFIT']\n",
      "no of ff:  3 no of rnn:  0 no of combined 1\n",
      "\n",
      "microwave\n",
      "6\n",
      "publications:  ['rafiq2020' 'pan2020' 'jiang2019' 'brewitt2018' 'shin2018' 'chen2020e']\n",
      "values [0.392 3.14  3.686 4.4   4.53  4.82 ]\n",
      "datasets:  ['UK-DALE' 'REFIT' 'IDEAL']\n",
      "no of ff:  5 no of rnn:  0 no of combined 1\n",
      "\n",
      "dishwasher\n",
      "6\n",
      "publications:  ['pan2020' 'chen2020e' 'brewitt2018' 'chen2020e' 'jiang2019'\n",
      " 'dincecco2019']\n",
      "values [ 4.8    8.71   8.9   10.14  10.296 12.26 ]\n",
      "datasets:  ['REFIT' 'UK-DALE' 'IDEAL' 'REDD']\n",
      "no of ff:  6 no of rnn:  0 no of combined 0\n",
      "\n",
      "washing machine\n",
      "6\n",
      "publications:  ['jiang2019' 'yue2020' 'pan2020' 'alzeidi2018' 'massidda2020' 'chen2020e']\n",
      "values [3.08  6.98  7.11  7.615 8.31  8.48 ]\n",
      "datasets:  ['REFIT' 'UK-DALE']\n",
      "no of ff:  6 no of rnn:  0 no of combined 0\n",
      "\n",
      "fridge\n",
      "6\n",
      "publications:  ['he2016' 'murray2019' 'murray2019' 'shin2018' 'pan2020' 'chen2020e']\n",
      "values [ 3.22  8.56 10.14 10.93 11.86 15.16]\n",
      "datasets:  ['UK-DALE' 'REFIT' 'REDD']\n",
      "no of ff:  6 no of rnn:  0 no of combined 0\n",
      "\n"
     ]
    }
   ],
   "source": [
    "# Evaluate x best performing Models\n",
    "apps = ['kettle', 'microwave', 'dishwasher', 'washing machine', 'fridge']\n",
    "authors = []\n",
    "for app in apps:\n",
    "    df_app = df_mae[ df_mae['Appliance'] == app]\n",
    "    df_app = df_app.sort_values('Performance Metric: Value')\n",
    "    first_i_values = round(len(df_app)/4)\n",
    "    df_app = df_app.iloc[0:first_i_values,:]\n",
    "    df_app = df_app.iloc[0:first_i_values,:]\n",
    "    df_app\n",
    "    print(app)\n",
    "    authors.extend(df_app['Reference: Abbreviation'].values)\n",
    "    print(first_i_values)\n",
    "    print('publications: ', df_app['Reference: Abbreviation'].values)\n",
    "    print('values', df_app['Performance Metric: Value'].values)\n",
    "    print('datasets: ', df_app['Training: Dataset'].unique())\n",
    "    print('no of ff: ', np.sum(df_app['Model: Basic Type'] == 'feedforward'), \n",
    "          'no of rnn: ',  np.sum(df_app['Model: Basic Type'] == 'recurrent'), \n",
    "          'no of combined', np.sum(df_app['Model: Basic Type'] == 'combined') )   \n",
    "    print()"
   ]
  },
  {
   "cell_type": "code",
   "execution_count": 25,
   "metadata": {},
   "outputs": [
    {
     "data": {
      "text/html": [
       "<div>\n",
       "<style scoped>\n",
       "    .dataframe tbody tr th:only-of-type {\n",
       "        vertical-align: middle;\n",
       "    }\n",
       "\n",
       "    .dataframe tbody tr th {\n",
       "        vertical-align: top;\n",
       "    }\n",
       "\n",
       "    .dataframe thead th {\n",
       "        text-align: right;\n",
       "    }\n",
       "</style>\n",
       "<table border=\"1\" class=\"dataframe\">\n",
       "  <thead>\n",
       "    <tr style=\"text-align: right;\">\n",
       "      <th></th>\n",
       "      <th>authors</th>\n",
       "      <th>counts</th>\n",
       "    </tr>\n",
       "  </thead>\n",
       "  <tbody>\n",
       "    <tr>\n",
       "      <th>1</th>\n",
       "      <td>pan2020</td>\n",
       "      <td>5</td>\n",
       "    </tr>\n",
       "    <tr>\n",
       "      <th>6</th>\n",
       "      <td>chen2020e</td>\n",
       "      <td>5</td>\n",
       "    </tr>\n",
       "    <tr>\n",
       "      <th>3</th>\n",
       "      <td>jiang2019</td>\n",
       "      <td>4</td>\n",
       "    </tr>\n",
       "    <tr>\n",
       "      <th>0</th>\n",
       "      <td>rafiq2020</td>\n",
       "      <td>2</td>\n",
       "    </tr>\n",
       "    <tr>\n",
       "      <th>4</th>\n",
       "      <td>brewitt2018</td>\n",
       "      <td>2</td>\n",
       "    </tr>\n",
       "    <tr>\n",
       "      <th>5</th>\n",
       "      <td>shin2018</td>\n",
       "      <td>2</td>\n",
       "    </tr>\n",
       "    <tr>\n",
       "      <th>12</th>\n",
       "      <td>murray2019</td>\n",
       "      <td>2</td>\n",
       "    </tr>\n",
       "    <tr>\n",
       "      <th>2</th>\n",
       "      <td>krystalakos2018</td>\n",
       "      <td>1</td>\n",
       "    </tr>\n",
       "    <tr>\n",
       "      <th>7</th>\n",
       "      <td>dincecco2019</td>\n",
       "      <td>1</td>\n",
       "    </tr>\n",
       "    <tr>\n",
       "      <th>8</th>\n",
       "      <td>yue2020</td>\n",
       "      <td>1</td>\n",
       "    </tr>\n",
       "    <tr>\n",
       "      <th>9</th>\n",
       "      <td>alzeidi2018</td>\n",
       "      <td>1</td>\n",
       "    </tr>\n",
       "    <tr>\n",
       "      <th>10</th>\n",
       "      <td>massidda2020</td>\n",
       "      <td>1</td>\n",
       "    </tr>\n",
       "    <tr>\n",
       "      <th>11</th>\n",
       "      <td>he2016</td>\n",
       "      <td>1</td>\n",
       "    </tr>\n",
       "  </tbody>\n",
       "</table>\n",
       "</div>"
      ],
      "text/plain": [
       "            authors  counts\n",
       "1           pan2020       5\n",
       "6         chen2020e       5\n",
       "3         jiang2019       4\n",
       "0         rafiq2020       2\n",
       "4       brewitt2018       2\n",
       "5          shin2018       2\n",
       "12       murray2019       2\n",
       "2   krystalakos2018       1\n",
       "7      dincecco2019       1\n",
       "8           yue2020       1\n",
       "9       alzeidi2018       1\n",
       "10     massidda2020       1\n",
       "11           he2016       1"
      ]
     },
     "execution_count": 25,
     "metadata": {},
     "output_type": "execute_result"
    }
   ],
   "source": [
    "authors = np.asarray(authors)\n",
    "counts = []\n",
    "for author in pd.Series(authors).unique():\n",
    "    count = np.sum(authors == author)\n",
    "    counts.append(count)\n",
    "counts = pd.DataFrame({'authors': pd.Series(authors).unique(), 'counts': counts})\n",
    "counts.sort_values('counts', ascending=False)"
   ]
  },
  {
   "cell_type": "code",
   "execution_count": null,
   "metadata": {},
   "outputs": [],
   "source": []
  }
 ],
 "metadata": {
  "kernel_info": {
   "name": "genpurp_p36"
  },
  "kernelspec": {
   "display_name": "Python 3",
   "language": "python",
   "name": "python3"
  },
  "language_info": {
   "codemirror_mode": {
    "name": "ipython",
    "version": 3
   },
   "file_extension": ".py",
   "mimetype": "text/x-python",
   "name": "python",
   "nbconvert_exporter": "python",
   "pygments_lexer": "ipython3",
   "version": "3.8.5"
  },
  "nteract": {
   "version": "0.15.0"
  }
 },
 "nbformat": 4,
 "nbformat_minor": 4
}
